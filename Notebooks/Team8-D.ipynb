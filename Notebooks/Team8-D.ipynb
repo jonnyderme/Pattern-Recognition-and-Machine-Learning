{
  "cells": [
    {
      "cell_type": "markdown",
      "metadata": {
        "id": "W3WN8r6qMUAG"
      },
      "source": [
        "#Εργασία - Αναγνώριση Προτύπων & Μηχανική Μάθηση (Μέρος Δ)\n",
        "\n",
        "##Ομάδα 8\n",
        "\n",
        "####Δεϊρμεντζόγλου Ιωάννης\n",
        "####Α.Ε.Μ.: 10015\n",
        "####deirmentz@ece.auth.gr\n",
        "\n",
        "####Οικονόμου Χρήστος\n",
        "####Α.Ε.Μ.: 10268\n",
        "####cnoikonom@ece.auth.gr\n",
        "\n"
      ]
    },
    {
      "cell_type": "markdown",
      "metadata": {
        "id": "YI9NRFudA7fa"
      },
      "source": [
        "Στο τέταρτο μέρος της εργασίας, ζητείται η ανάπτυξη ενός αλγορίθμου ταξινόμησης με χρήση οποιασδήποτε μεθόδου της αρεσκείας μας. Η επιλογή της καταλληλότερης μεθόδου θα πραγματοποιηθεί έπειτα από δοκιμές διαφόρων ταξινομητών, χρησιμοποιώντας το σύνολο δεδομένων datasetTV.csv ως training set. Μετά την αξιολόγηση των μοντέλων, το καλύτερο από αυτά θα εφαρμοστεί στα δεδομένα του datasetTest.csv, τα οποία θα χρησιμοποιηθούν ως test set, με σκοπό την εξαγωγή ενός διανύσματος ετικετών."
      ]
    },
    {
      "cell_type": "markdown",
      "metadata": {
        "id": "oUW-X4XhWxV3"
      },
      "source": [
        "###**Εισαγωγές Βιβλιοθηκών**"
      ]
    },
    {
      "cell_type": "code",
      "execution_count": null,
      "metadata": {
        "colab": {
          "base_uri": "https://localhost:8080/"
        },
        "id": "gofG7-AdqAGZ",
        "outputId": "726f426d-f603-4539-e46b-2440175166e0"
      },
      "outputs": [
        {
          "output_type": "stream",
          "name": "stdout",
          "text": [
            "Collecting tensorflow-addons\n",
            "  Downloading tensorflow_addons-0.23.0-cp310-cp310-manylinux_2_17_x86_64.manylinux2014_x86_64.whl.metadata (1.8 kB)\n",
            "Requirement already satisfied: packaging in /usr/local/lib/python3.10/dist-packages (from tensorflow-addons) (24.2)\n",
            "Collecting typeguard<3.0.0,>=2.7 (from tensorflow-addons)\n",
            "  Downloading typeguard-2.13.3-py3-none-any.whl.metadata (3.6 kB)\n",
            "Downloading tensorflow_addons-0.23.0-cp310-cp310-manylinux_2_17_x86_64.manylinux2014_x86_64.whl (611 kB)\n",
            "\u001b[2K   \u001b[90m━━━━━━━━━━━━━━━━━━━━━━━━━━━━━━━━━━━━━━━━\u001b[0m \u001b[32m611.8/611.8 kB\u001b[0m \u001b[31m11.3 MB/s\u001b[0m eta \u001b[36m0:00:00\u001b[0m\n",
            "\u001b[?25hDownloading typeguard-2.13.3-py3-none-any.whl (17 kB)\n",
            "Installing collected packages: typeguard, tensorflow-addons\n",
            "  Attempting uninstall: typeguard\n",
            "    Found existing installation: typeguard 4.4.1\n",
            "    Uninstalling typeguard-4.4.1:\n",
            "      Successfully uninstalled typeguard-4.4.1\n",
            "\u001b[31mERROR: pip's dependency resolver does not currently take into account all the packages that are installed. This behaviour is the source of the following dependency conflicts.\n",
            "inflect 7.4.0 requires typeguard>=4.0.1, but you have typeguard 2.13.3 which is incompatible.\u001b[0m\u001b[31m\n",
            "\u001b[0mSuccessfully installed tensorflow-addons-0.23.0 typeguard-2.13.3\n",
            "Collecting keras-tuner\n",
            "  Downloading keras_tuner-1.4.7-py3-none-any.whl.metadata (5.4 kB)\n",
            "Requirement already satisfied: keras in /usr/local/lib/python3.10/dist-packages (from keras-tuner) (3.5.0)\n",
            "Requirement already satisfied: packaging in /usr/local/lib/python3.10/dist-packages (from keras-tuner) (24.2)\n",
            "Requirement already satisfied: requests in /usr/local/lib/python3.10/dist-packages (from keras-tuner) (2.32.3)\n",
            "Collecting kt-legacy (from keras-tuner)\n",
            "  Downloading kt_legacy-1.0.5-py3-none-any.whl.metadata (221 bytes)\n",
            "Requirement already satisfied: absl-py in /usr/local/lib/python3.10/dist-packages (from keras->keras-tuner) (1.4.0)\n",
            "Requirement already satisfied: numpy in /usr/local/lib/python3.10/dist-packages (from keras->keras-tuner) (1.26.4)\n",
            "Requirement already satisfied: rich in /usr/local/lib/python3.10/dist-packages (from keras->keras-tuner) (13.9.4)\n",
            "Requirement already satisfied: namex in /usr/local/lib/python3.10/dist-packages (from keras->keras-tuner) (0.0.8)\n",
            "Requirement already satisfied: h5py in /usr/local/lib/python3.10/dist-packages (from keras->keras-tuner) (3.12.1)\n",
            "Requirement already satisfied: optree in /usr/local/lib/python3.10/dist-packages (from keras->keras-tuner) (0.13.1)\n",
            "Requirement already satisfied: ml-dtypes in /usr/local/lib/python3.10/dist-packages (from keras->keras-tuner) (0.4.1)\n",
            "Requirement already satisfied: charset-normalizer<4,>=2 in /usr/local/lib/python3.10/dist-packages (from requests->keras-tuner) (3.4.0)\n",
            "Requirement already satisfied: idna<4,>=2.5 in /usr/local/lib/python3.10/dist-packages (from requests->keras-tuner) (3.10)\n",
            "Requirement already satisfied: urllib3<3,>=1.21.1 in /usr/local/lib/python3.10/dist-packages (from requests->keras-tuner) (2.2.3)\n",
            "Requirement already satisfied: certifi>=2017.4.17 in /usr/local/lib/python3.10/dist-packages (from requests->keras-tuner) (2024.12.14)\n",
            "Requirement already satisfied: typing-extensions>=4.5.0 in /usr/local/lib/python3.10/dist-packages (from optree->keras->keras-tuner) (4.12.2)\n",
            "Requirement already satisfied: markdown-it-py>=2.2.0 in /usr/local/lib/python3.10/dist-packages (from rich->keras->keras-tuner) (3.0.0)\n",
            "Requirement already satisfied: pygments<3.0.0,>=2.13.0 in /usr/local/lib/python3.10/dist-packages (from rich->keras->keras-tuner) (2.18.0)\n",
            "Requirement already satisfied: mdurl~=0.1 in /usr/local/lib/python3.10/dist-packages (from markdown-it-py>=2.2.0->rich->keras->keras-tuner) (0.1.2)\n",
            "Downloading keras_tuner-1.4.7-py3-none-any.whl (129 kB)\n",
            "\u001b[2K   \u001b[90m━━━━━━━━━━━━━━━━━━━━━━━━━━━━━━━━━━━━━━━━\u001b[0m \u001b[32m129.1/129.1 kB\u001b[0m \u001b[31m3.2 MB/s\u001b[0m eta \u001b[36m0:00:00\u001b[0m\n",
            "\u001b[?25hDownloading kt_legacy-1.0.5-py3-none-any.whl (9.6 kB)\n",
            "Installing collected packages: kt-legacy, keras-tuner\n",
            "Successfully installed keras-tuner-1.4.7 kt-legacy-1.0.5\n",
            "Requirement already satisfied: cvxopt in /usr/local/lib/python3.10/dist-packages (1.3.2)\n"
          ]
        }
      ],
      "source": [
        "!pip install tensorflow-addons\n",
        "!pip install keras-tuner --upgrade\n",
        "!pip install cvxopt"
      ]
    },
    {
      "cell_type": "code",
      "execution_count": null,
      "metadata": {
        "colab": {
          "base_uri": "https://localhost:8080/"
        },
        "id": "RU7-_vtUBAnJ",
        "outputId": "71dbb547-3641-4989-bc04-249a8479ba4e"
      },
      "outputs": [
        {
          "output_type": "stream",
          "name": "stdout",
          "text": [
            "Collecting catboost\n",
            "  Downloading catboost-1.2.7-cp310-cp310-manylinux2014_x86_64.whl.metadata (1.2 kB)\n",
            "Requirement already satisfied: graphviz in /usr/local/lib/python3.10/dist-packages (from catboost) (0.20.3)\n",
            "Requirement already satisfied: matplotlib in /usr/local/lib/python3.10/dist-packages (from catboost) (3.8.0)\n",
            "Requirement already satisfied: numpy<2.0,>=1.16.0 in /usr/local/lib/python3.10/dist-packages (from catboost) (1.26.4)\n",
            "Requirement already satisfied: pandas>=0.24 in /usr/local/lib/python3.10/dist-packages (from catboost) (2.2.2)\n",
            "Requirement already satisfied: scipy in /usr/local/lib/python3.10/dist-packages (from catboost) (1.13.1)\n",
            "Requirement already satisfied: plotly in /usr/local/lib/python3.10/dist-packages (from catboost) (5.24.1)\n",
            "Requirement already satisfied: six in /usr/local/lib/python3.10/dist-packages (from catboost) (1.17.0)\n",
            "Requirement already satisfied: python-dateutil>=2.8.2 in /usr/local/lib/python3.10/dist-packages (from pandas>=0.24->catboost) (2.8.2)\n",
            "Requirement already satisfied: pytz>=2020.1 in /usr/local/lib/python3.10/dist-packages (from pandas>=0.24->catboost) (2024.2)\n",
            "Requirement already satisfied: tzdata>=2022.7 in /usr/local/lib/python3.10/dist-packages (from pandas>=0.24->catboost) (2024.2)\n",
            "Requirement already satisfied: contourpy>=1.0.1 in /usr/local/lib/python3.10/dist-packages (from matplotlib->catboost) (1.3.1)\n",
            "Requirement already satisfied: cycler>=0.10 in /usr/local/lib/python3.10/dist-packages (from matplotlib->catboost) (0.12.1)\n",
            "Requirement already satisfied: fonttools>=4.22.0 in /usr/local/lib/python3.10/dist-packages (from matplotlib->catboost) (4.55.3)\n",
            "Requirement already satisfied: kiwisolver>=1.0.1 in /usr/local/lib/python3.10/dist-packages (from matplotlib->catboost) (1.4.7)\n",
            "Requirement already satisfied: packaging>=20.0 in /usr/local/lib/python3.10/dist-packages (from matplotlib->catboost) (24.2)\n",
            "Requirement already satisfied: pillow>=6.2.0 in /usr/local/lib/python3.10/dist-packages (from matplotlib->catboost) (11.0.0)\n",
            "Requirement already satisfied: pyparsing>=2.3.1 in /usr/local/lib/python3.10/dist-packages (from matplotlib->catboost) (3.2.0)\n",
            "Requirement already satisfied: tenacity>=6.2.0 in /usr/local/lib/python3.10/dist-packages (from plotly->catboost) (9.0.0)\n",
            "Downloading catboost-1.2.7-cp310-cp310-manylinux2014_x86_64.whl (98.7 MB)\n",
            "\u001b[2K   \u001b[90m━━━━━━━━━━━━━━━━━━━━━━━━━━━━━━━━━━━━━━━━\u001b[0m \u001b[32m98.7/98.7 MB\u001b[0m \u001b[31m3.8 MB/s\u001b[0m eta \u001b[36m0:00:00\u001b[0m\n",
            "\u001b[?25hInstalling collected packages: catboost\n",
            "Successfully installed catboost-1.2.7\n"
          ]
        }
      ],
      "source": [
        "import pandas as pd\n",
        "import numpy as np\n",
        "import matplotlib.pyplot as plt\n",
        "import time\n",
        "import tensorflow\n",
        "import tensorflow.keras.backend as K\n",
        "import keras_tuner as kt\n",
        "import warnings\n",
        "import xgboost as xgb\n",
        "\n",
        "\n",
        "from sklearn.model_selection import train_test_split, GridSearchCV, KFold, StratifiedKFold\n",
        "from sklearn.linear_model import Lasso\n",
        "from sklearn.neighbors import KNeighborsClassifier, NearestCentroid\n",
        "from sklearn.naive_bayes import GaussianNB\n",
        "from imblearn.under_sampling import RandomUnderSampler\n",
        "from sklearn import svm\n",
        "from sklearn.discriminant_analysis import LinearDiscriminantAnalysis, QuadraticDiscriminantAnalysis\n",
        "from sklearn.preprocessing import StandardScaler, LabelEncoder\n",
        "from sklearn.gaussian_process import GaussianProcessClassifier\n",
        "from sklearn.ensemble import RandomForestClassifier, AdaBoostClassifier\n",
        "from sklearn.decomposition import PCA\n",
        "from sklearn.metrics import f1_score, confusion_matrix, ConfusionMatrixDisplay, classification_report, accuracy_score\n",
        "from sklearn.feature_selection import SelectPercentile, chi2\n",
        "from sklearn.decomposition import PCA\n",
        "\n",
        "from collections import Counter\n",
        "from cvxopt import matrix, solvers\n",
        "\n",
        "from tensorflow.keras import utils, regularizers, initializers, layers, models\n",
        "from tensorflow.keras.utils import to_categorical\n",
        "\n",
        "!pip install catboost\n",
        "from catboost import CatBoostClassifier\n",
        "from sklearn.metrics import accuracy_score"
      ]
    },
    {
      "cell_type": "markdown",
      "metadata": {
        "id": "fEEF41ekWIgn"
      },
      "source": [
        "### **Προ-επεξεργασία Δεδομένων (Data Preprocessing)**\n",
        "\n"
      ]
    },
    {
      "cell_type": "markdown",
      "metadata": {
        "id": "CJL06IPkWTb4"
      },
      "source": [
        "**Φόρτωση και Οπτικοποίηση του Training Dataset**\n",
        "\n",
        "Όπως προαναφέρθηκε, ως training dataset θα χρησιμοποιηθούν τα δεδομένα του **datasetTV.csv**. Μέσω της συνάρτησης **dropna()**, μειώνουμε, εν δυνάμει, τη διαστασιμότητα του dataset, καθώς εξαλείφουμε τυχόν δείγματα που έχουν κενές (NaN) τιμές."
      ]
    },
    {
      "cell_type": "code",
      "execution_count": null,
      "metadata": {
        "colab": {
          "base_uri": "https://localhost:8080/",
          "height": 461
        },
        "id": "j28w5PYZAXt_",
        "outputId": "4ec44411-b9c5-4392-eaad-585981a8cbdb"
      },
      "outputs": [
        {
          "output_type": "display_data",
          "data": {
            "text/plain": [
              "           0         1         2         3         4        5        6    \\\n",
              "0     0.312530 -0.239400 -0.007568  0.526180 -0.090250 -0.26424  1.26620   \n",
              "1    -0.180790  0.439870 -0.146410  0.589490 -0.571440  1.31360  0.47487   \n",
              "2     0.794690 -0.053940  0.002950 -0.134920  0.509670  1.02670  0.40173   \n",
              "3    -0.056284 -0.224070 -0.237710 -0.065823 -0.086943  1.00600 -0.47638   \n",
              "4     0.459540  0.346550 -0.056755  0.512780  0.221310 -0.27498  0.95194   \n",
              "...        ...       ...       ...       ...       ...      ...      ...   \n",
              "8738 -0.175760  0.289910 -0.352760  0.010021  0.413240  1.07210  0.36960   \n",
              "8739  0.377070  0.034885  0.262380  0.217850  0.172200  0.16139  0.12993   \n",
              "8740  1.214500 -0.313790  0.507320 -0.493680  0.921990  0.39320  0.90520   \n",
              "8741  1.244300 -0.173910  1.410800  0.517600  0.767560  1.39010  0.59400   \n",
              "8742 -0.177390 -0.274260  0.098526  0.296240  0.380100  0.65176  0.13143   \n",
              "\n",
              "           7         8         9    ...      215       216       217  \\\n",
              "0     0.057444 -0.233870 -0.428440  ... -0.54450  0.927700 -0.051764   \n",
              "1     0.018913  0.512120 -0.147690  ...  0.49172  0.022198  0.936230   \n",
              "2    -0.180840  0.449860 -0.272450  ... -0.23305  0.023855 -0.225070   \n",
              "3     0.016027  0.163520 -0.284360  ... -0.35707  0.302740  0.081736   \n",
              "4     0.682520  0.460480  0.063208  ...  0.34516 -0.206390  0.026514   \n",
              "...        ...       ...       ...  ...      ...       ...       ...   \n",
              "8738  0.913010 -0.381220 -0.361110  ... -0.39277 -0.005587  0.092053   \n",
              "8739  0.600260  0.019669  0.091555  ...  0.23158  0.424180 -0.247490   \n",
              "8740 -0.072055 -0.460310 -0.032393  ... -0.31410 -0.764840  0.249630   \n",
              "8741  0.482670 -0.345180 -0.115000  ...  0.21063  0.824450  0.424030   \n",
              "8742 -0.643950 -0.371700  0.153050  ... -0.48796  0.719990  0.086141   \n",
              "\n",
              "           218       219       220       221       222       223  224  \n",
              "0    -0.088081 -0.135800  1.188800  0.590240  0.131130  0.940970    1  \n",
              "1    -0.218210  0.063382 -0.358710 -0.039761  0.757320  0.498340    2  \n",
              "2     0.589430  0.219000  0.867800  0.138840  1.080800 -0.542270    5  \n",
              "3    -0.312950 -0.364090 -0.043227  1.171200 -0.135440 -0.077792    2  \n",
              "4    -0.304530  0.307200  1.047100  0.921490  0.733020  0.670780    3  \n",
              "...        ...       ...       ...       ...       ...       ...  ...  \n",
              "8738  0.296480 -0.083377 -0.256320  0.070252 -0.230670  0.178310    2  \n",
              "8739 -0.082691 -0.241830  0.207260  0.096817  0.694230 -0.182070    4  \n",
              "8740  0.390790  0.178840 -0.181940  0.355300 -0.052214  0.128040    4  \n",
              "8741 -0.099364  0.090958 -0.498750  0.806600  0.857060  0.539360    4  \n",
              "8742  0.294120 -0.356080  0.842780 -0.155020  1.090000  0.038873    3  \n",
              "\n",
              "[8743 rows x 225 columns]"
            ],
            "text/html": [
              "\n",
              "  <div id=\"df-a0071c69-681e-4426-b97b-91b0a6b6cf2c\" class=\"colab-df-container\">\n",
              "    <div>\n",
              "<style scoped>\n",
              "    .dataframe tbody tr th:only-of-type {\n",
              "        vertical-align: middle;\n",
              "    }\n",
              "\n",
              "    .dataframe tbody tr th {\n",
              "        vertical-align: top;\n",
              "    }\n",
              "\n",
              "    .dataframe thead th {\n",
              "        text-align: right;\n",
              "    }\n",
              "</style>\n",
              "<table border=\"1\" class=\"dataframe\">\n",
              "  <thead>\n",
              "    <tr style=\"text-align: right;\">\n",
              "      <th></th>\n",
              "      <th>0</th>\n",
              "      <th>1</th>\n",
              "      <th>2</th>\n",
              "      <th>3</th>\n",
              "      <th>4</th>\n",
              "      <th>5</th>\n",
              "      <th>6</th>\n",
              "      <th>7</th>\n",
              "      <th>8</th>\n",
              "      <th>9</th>\n",
              "      <th>...</th>\n",
              "      <th>215</th>\n",
              "      <th>216</th>\n",
              "      <th>217</th>\n",
              "      <th>218</th>\n",
              "      <th>219</th>\n",
              "      <th>220</th>\n",
              "      <th>221</th>\n",
              "      <th>222</th>\n",
              "      <th>223</th>\n",
              "      <th>224</th>\n",
              "    </tr>\n",
              "  </thead>\n",
              "  <tbody>\n",
              "    <tr>\n",
              "      <th>0</th>\n",
              "      <td>0.312530</td>\n",
              "      <td>-0.239400</td>\n",
              "      <td>-0.007568</td>\n",
              "      <td>0.526180</td>\n",
              "      <td>-0.090250</td>\n",
              "      <td>-0.26424</td>\n",
              "      <td>1.26620</td>\n",
              "      <td>0.057444</td>\n",
              "      <td>-0.233870</td>\n",
              "      <td>-0.428440</td>\n",
              "      <td>...</td>\n",
              "      <td>-0.54450</td>\n",
              "      <td>0.927700</td>\n",
              "      <td>-0.051764</td>\n",
              "      <td>-0.088081</td>\n",
              "      <td>-0.135800</td>\n",
              "      <td>1.188800</td>\n",
              "      <td>0.590240</td>\n",
              "      <td>0.131130</td>\n",
              "      <td>0.940970</td>\n",
              "      <td>1</td>\n",
              "    </tr>\n",
              "    <tr>\n",
              "      <th>1</th>\n",
              "      <td>-0.180790</td>\n",
              "      <td>0.439870</td>\n",
              "      <td>-0.146410</td>\n",
              "      <td>0.589490</td>\n",
              "      <td>-0.571440</td>\n",
              "      <td>1.31360</td>\n",
              "      <td>0.47487</td>\n",
              "      <td>0.018913</td>\n",
              "      <td>0.512120</td>\n",
              "      <td>-0.147690</td>\n",
              "      <td>...</td>\n",
              "      <td>0.49172</td>\n",
              "      <td>0.022198</td>\n",
              "      <td>0.936230</td>\n",
              "      <td>-0.218210</td>\n",
              "      <td>0.063382</td>\n",
              "      <td>-0.358710</td>\n",
              "      <td>-0.039761</td>\n",
              "      <td>0.757320</td>\n",
              "      <td>0.498340</td>\n",
              "      <td>2</td>\n",
              "    </tr>\n",
              "    <tr>\n",
              "      <th>2</th>\n",
              "      <td>0.794690</td>\n",
              "      <td>-0.053940</td>\n",
              "      <td>0.002950</td>\n",
              "      <td>-0.134920</td>\n",
              "      <td>0.509670</td>\n",
              "      <td>1.02670</td>\n",
              "      <td>0.40173</td>\n",
              "      <td>-0.180840</td>\n",
              "      <td>0.449860</td>\n",
              "      <td>-0.272450</td>\n",
              "      <td>...</td>\n",
              "      <td>-0.23305</td>\n",
              "      <td>0.023855</td>\n",
              "      <td>-0.225070</td>\n",
              "      <td>0.589430</td>\n",
              "      <td>0.219000</td>\n",
              "      <td>0.867800</td>\n",
              "      <td>0.138840</td>\n",
              "      <td>1.080800</td>\n",
              "      <td>-0.542270</td>\n",
              "      <td>5</td>\n",
              "    </tr>\n",
              "    <tr>\n",
              "      <th>3</th>\n",
              "      <td>-0.056284</td>\n",
              "      <td>-0.224070</td>\n",
              "      <td>-0.237710</td>\n",
              "      <td>-0.065823</td>\n",
              "      <td>-0.086943</td>\n",
              "      <td>1.00600</td>\n",
              "      <td>-0.47638</td>\n",
              "      <td>0.016027</td>\n",
              "      <td>0.163520</td>\n",
              "      <td>-0.284360</td>\n",
              "      <td>...</td>\n",
              "      <td>-0.35707</td>\n",
              "      <td>0.302740</td>\n",
              "      <td>0.081736</td>\n",
              "      <td>-0.312950</td>\n",
              "      <td>-0.364090</td>\n",
              "      <td>-0.043227</td>\n",
              "      <td>1.171200</td>\n",
              "      <td>-0.135440</td>\n",
              "      <td>-0.077792</td>\n",
              "      <td>2</td>\n",
              "    </tr>\n",
              "    <tr>\n",
              "      <th>4</th>\n",
              "      <td>0.459540</td>\n",
              "      <td>0.346550</td>\n",
              "      <td>-0.056755</td>\n",
              "      <td>0.512780</td>\n",
              "      <td>0.221310</td>\n",
              "      <td>-0.27498</td>\n",
              "      <td>0.95194</td>\n",
              "      <td>0.682520</td>\n",
              "      <td>0.460480</td>\n",
              "      <td>0.063208</td>\n",
              "      <td>...</td>\n",
              "      <td>0.34516</td>\n",
              "      <td>-0.206390</td>\n",
              "      <td>0.026514</td>\n",
              "      <td>-0.304530</td>\n",
              "      <td>0.307200</td>\n",
              "      <td>1.047100</td>\n",
              "      <td>0.921490</td>\n",
              "      <td>0.733020</td>\n",
              "      <td>0.670780</td>\n",
              "      <td>3</td>\n",
              "    </tr>\n",
              "    <tr>\n",
              "      <th>...</th>\n",
              "      <td>...</td>\n",
              "      <td>...</td>\n",
              "      <td>...</td>\n",
              "      <td>...</td>\n",
              "      <td>...</td>\n",
              "      <td>...</td>\n",
              "      <td>...</td>\n",
              "      <td>...</td>\n",
              "      <td>...</td>\n",
              "      <td>...</td>\n",
              "      <td>...</td>\n",
              "      <td>...</td>\n",
              "      <td>...</td>\n",
              "      <td>...</td>\n",
              "      <td>...</td>\n",
              "      <td>...</td>\n",
              "      <td>...</td>\n",
              "      <td>...</td>\n",
              "      <td>...</td>\n",
              "      <td>...</td>\n",
              "      <td>...</td>\n",
              "    </tr>\n",
              "    <tr>\n",
              "      <th>8738</th>\n",
              "      <td>-0.175760</td>\n",
              "      <td>0.289910</td>\n",
              "      <td>-0.352760</td>\n",
              "      <td>0.010021</td>\n",
              "      <td>0.413240</td>\n",
              "      <td>1.07210</td>\n",
              "      <td>0.36960</td>\n",
              "      <td>0.913010</td>\n",
              "      <td>-0.381220</td>\n",
              "      <td>-0.361110</td>\n",
              "      <td>...</td>\n",
              "      <td>-0.39277</td>\n",
              "      <td>-0.005587</td>\n",
              "      <td>0.092053</td>\n",
              "      <td>0.296480</td>\n",
              "      <td>-0.083377</td>\n",
              "      <td>-0.256320</td>\n",
              "      <td>0.070252</td>\n",
              "      <td>-0.230670</td>\n",
              "      <td>0.178310</td>\n",
              "      <td>2</td>\n",
              "    </tr>\n",
              "    <tr>\n",
              "      <th>8739</th>\n",
              "      <td>0.377070</td>\n",
              "      <td>0.034885</td>\n",
              "      <td>0.262380</td>\n",
              "      <td>0.217850</td>\n",
              "      <td>0.172200</td>\n",
              "      <td>0.16139</td>\n",
              "      <td>0.12993</td>\n",
              "      <td>0.600260</td>\n",
              "      <td>0.019669</td>\n",
              "      <td>0.091555</td>\n",
              "      <td>...</td>\n",
              "      <td>0.23158</td>\n",
              "      <td>0.424180</td>\n",
              "      <td>-0.247490</td>\n",
              "      <td>-0.082691</td>\n",
              "      <td>-0.241830</td>\n",
              "      <td>0.207260</td>\n",
              "      <td>0.096817</td>\n",
              "      <td>0.694230</td>\n",
              "      <td>-0.182070</td>\n",
              "      <td>4</td>\n",
              "    </tr>\n",
              "    <tr>\n",
              "      <th>8740</th>\n",
              "      <td>1.214500</td>\n",
              "      <td>-0.313790</td>\n",
              "      <td>0.507320</td>\n",
              "      <td>-0.493680</td>\n",
              "      <td>0.921990</td>\n",
              "      <td>0.39320</td>\n",
              "      <td>0.90520</td>\n",
              "      <td>-0.072055</td>\n",
              "      <td>-0.460310</td>\n",
              "      <td>-0.032393</td>\n",
              "      <td>...</td>\n",
              "      <td>-0.31410</td>\n",
              "      <td>-0.764840</td>\n",
              "      <td>0.249630</td>\n",
              "      <td>0.390790</td>\n",
              "      <td>0.178840</td>\n",
              "      <td>-0.181940</td>\n",
              "      <td>0.355300</td>\n",
              "      <td>-0.052214</td>\n",
              "      <td>0.128040</td>\n",
              "      <td>4</td>\n",
              "    </tr>\n",
              "    <tr>\n",
              "      <th>8741</th>\n",
              "      <td>1.244300</td>\n",
              "      <td>-0.173910</td>\n",
              "      <td>1.410800</td>\n",
              "      <td>0.517600</td>\n",
              "      <td>0.767560</td>\n",
              "      <td>1.39010</td>\n",
              "      <td>0.59400</td>\n",
              "      <td>0.482670</td>\n",
              "      <td>-0.345180</td>\n",
              "      <td>-0.115000</td>\n",
              "      <td>...</td>\n",
              "      <td>0.21063</td>\n",
              "      <td>0.824450</td>\n",
              "      <td>0.424030</td>\n",
              "      <td>-0.099364</td>\n",
              "      <td>0.090958</td>\n",
              "      <td>-0.498750</td>\n",
              "      <td>0.806600</td>\n",
              "      <td>0.857060</td>\n",
              "      <td>0.539360</td>\n",
              "      <td>4</td>\n",
              "    </tr>\n",
              "    <tr>\n",
              "      <th>8742</th>\n",
              "      <td>-0.177390</td>\n",
              "      <td>-0.274260</td>\n",
              "      <td>0.098526</td>\n",
              "      <td>0.296240</td>\n",
              "      <td>0.380100</td>\n",
              "      <td>0.65176</td>\n",
              "      <td>0.13143</td>\n",
              "      <td>-0.643950</td>\n",
              "      <td>-0.371700</td>\n",
              "      <td>0.153050</td>\n",
              "      <td>...</td>\n",
              "      <td>-0.48796</td>\n",
              "      <td>0.719990</td>\n",
              "      <td>0.086141</td>\n",
              "      <td>0.294120</td>\n",
              "      <td>-0.356080</td>\n",
              "      <td>0.842780</td>\n",
              "      <td>-0.155020</td>\n",
              "      <td>1.090000</td>\n",
              "      <td>0.038873</td>\n",
              "      <td>3</td>\n",
              "    </tr>\n",
              "  </tbody>\n",
              "</table>\n",
              "<p>8743 rows × 225 columns</p>\n",
              "</div>\n",
              "    <div class=\"colab-df-buttons\">\n",
              "\n",
              "  <div class=\"colab-df-container\">\n",
              "    <button class=\"colab-df-convert\" onclick=\"convertToInteractive('df-a0071c69-681e-4426-b97b-91b0a6b6cf2c')\"\n",
              "            title=\"Convert this dataframe to an interactive table.\"\n",
              "            style=\"display:none;\">\n",
              "\n",
              "  <svg xmlns=\"http://www.w3.org/2000/svg\" height=\"24px\" viewBox=\"0 -960 960 960\">\n",
              "    <path d=\"M120-120v-720h720v720H120Zm60-500h600v-160H180v160Zm220 220h160v-160H400v160Zm0 220h160v-160H400v160ZM180-400h160v-160H180v160Zm440 0h160v-160H620v160ZM180-180h160v-160H180v160Zm440 0h160v-160H620v160Z\"/>\n",
              "  </svg>\n",
              "    </button>\n",
              "\n",
              "  <style>\n",
              "    .colab-df-container {\n",
              "      display:flex;\n",
              "      gap: 12px;\n",
              "    }\n",
              "\n",
              "    .colab-df-convert {\n",
              "      background-color: #E8F0FE;\n",
              "      border: none;\n",
              "      border-radius: 50%;\n",
              "      cursor: pointer;\n",
              "      display: none;\n",
              "      fill: #1967D2;\n",
              "      height: 32px;\n",
              "      padding: 0 0 0 0;\n",
              "      width: 32px;\n",
              "    }\n",
              "\n",
              "    .colab-df-convert:hover {\n",
              "      background-color: #E2EBFA;\n",
              "      box-shadow: 0px 1px 2px rgba(60, 64, 67, 0.3), 0px 1px 3px 1px rgba(60, 64, 67, 0.15);\n",
              "      fill: #174EA6;\n",
              "    }\n",
              "\n",
              "    .colab-df-buttons div {\n",
              "      margin-bottom: 4px;\n",
              "    }\n",
              "\n",
              "    [theme=dark] .colab-df-convert {\n",
              "      background-color: #3B4455;\n",
              "      fill: #D2E3FC;\n",
              "    }\n",
              "\n",
              "    [theme=dark] .colab-df-convert:hover {\n",
              "      background-color: #434B5C;\n",
              "      box-shadow: 0px 1px 3px 1px rgba(0, 0, 0, 0.15);\n",
              "      filter: drop-shadow(0px 1px 2px rgba(0, 0, 0, 0.3));\n",
              "      fill: #FFFFFF;\n",
              "    }\n",
              "  </style>\n",
              "\n",
              "    <script>\n",
              "      const buttonEl =\n",
              "        document.querySelector('#df-a0071c69-681e-4426-b97b-91b0a6b6cf2c button.colab-df-convert');\n",
              "      buttonEl.style.display =\n",
              "        google.colab.kernel.accessAllowed ? 'block' : 'none';\n",
              "\n",
              "      async function convertToInteractive(key) {\n",
              "        const element = document.querySelector('#df-a0071c69-681e-4426-b97b-91b0a6b6cf2c');\n",
              "        const dataTable =\n",
              "          await google.colab.kernel.invokeFunction('convertToInteractive',\n",
              "                                                    [key], {});\n",
              "        if (!dataTable) return;\n",
              "\n",
              "        const docLinkHtml = 'Like what you see? Visit the ' +\n",
              "          '<a target=\"_blank\" href=https://colab.research.google.com/notebooks/data_table.ipynb>data table notebook</a>'\n",
              "          + ' to learn more about interactive tables.';\n",
              "        element.innerHTML = '';\n",
              "        dataTable['output_type'] = 'display_data';\n",
              "        await google.colab.output.renderOutput(dataTable, element);\n",
              "        const docLink = document.createElement('div');\n",
              "        docLink.innerHTML = docLinkHtml;\n",
              "        element.appendChild(docLink);\n",
              "      }\n",
              "    </script>\n",
              "  </div>\n",
              "\n",
              "\n",
              "<div id=\"df-8e6163c1-67a5-4d52-a5f3-1fd17ac09404\">\n",
              "  <button class=\"colab-df-quickchart\" onclick=\"quickchart('df-8e6163c1-67a5-4d52-a5f3-1fd17ac09404')\"\n",
              "            title=\"Suggest charts\"\n",
              "            style=\"display:none;\">\n",
              "\n",
              "<svg xmlns=\"http://www.w3.org/2000/svg\" height=\"24px\"viewBox=\"0 0 24 24\"\n",
              "     width=\"24px\">\n",
              "    <g>\n",
              "        <path d=\"M19 3H5c-1.1 0-2 .9-2 2v14c0 1.1.9 2 2 2h14c1.1 0 2-.9 2-2V5c0-1.1-.9-2-2-2zM9 17H7v-7h2v7zm4 0h-2V7h2v10zm4 0h-2v-4h2v4z\"/>\n",
              "    </g>\n",
              "</svg>\n",
              "  </button>\n",
              "\n",
              "<style>\n",
              "  .colab-df-quickchart {\n",
              "      --bg-color: #E8F0FE;\n",
              "      --fill-color: #1967D2;\n",
              "      --hover-bg-color: #E2EBFA;\n",
              "      --hover-fill-color: #174EA6;\n",
              "      --disabled-fill-color: #AAA;\n",
              "      --disabled-bg-color: #DDD;\n",
              "  }\n",
              "\n",
              "  [theme=dark] .colab-df-quickchart {\n",
              "      --bg-color: #3B4455;\n",
              "      --fill-color: #D2E3FC;\n",
              "      --hover-bg-color: #434B5C;\n",
              "      --hover-fill-color: #FFFFFF;\n",
              "      --disabled-bg-color: #3B4455;\n",
              "      --disabled-fill-color: #666;\n",
              "  }\n",
              "\n",
              "  .colab-df-quickchart {\n",
              "    background-color: var(--bg-color);\n",
              "    border: none;\n",
              "    border-radius: 50%;\n",
              "    cursor: pointer;\n",
              "    display: none;\n",
              "    fill: var(--fill-color);\n",
              "    height: 32px;\n",
              "    padding: 0;\n",
              "    width: 32px;\n",
              "  }\n",
              "\n",
              "  .colab-df-quickchart:hover {\n",
              "    background-color: var(--hover-bg-color);\n",
              "    box-shadow: 0 1px 2px rgba(60, 64, 67, 0.3), 0 1px 3px 1px rgba(60, 64, 67, 0.15);\n",
              "    fill: var(--button-hover-fill-color);\n",
              "  }\n",
              "\n",
              "  .colab-df-quickchart-complete:disabled,\n",
              "  .colab-df-quickchart-complete:disabled:hover {\n",
              "    background-color: var(--disabled-bg-color);\n",
              "    fill: var(--disabled-fill-color);\n",
              "    box-shadow: none;\n",
              "  }\n",
              "\n",
              "  .colab-df-spinner {\n",
              "    border: 2px solid var(--fill-color);\n",
              "    border-color: transparent;\n",
              "    border-bottom-color: var(--fill-color);\n",
              "    animation:\n",
              "      spin 1s steps(1) infinite;\n",
              "  }\n",
              "\n",
              "  @keyframes spin {\n",
              "    0% {\n",
              "      border-color: transparent;\n",
              "      border-bottom-color: var(--fill-color);\n",
              "      border-left-color: var(--fill-color);\n",
              "    }\n",
              "    20% {\n",
              "      border-color: transparent;\n",
              "      border-left-color: var(--fill-color);\n",
              "      border-top-color: var(--fill-color);\n",
              "    }\n",
              "    30% {\n",
              "      border-color: transparent;\n",
              "      border-left-color: var(--fill-color);\n",
              "      border-top-color: var(--fill-color);\n",
              "      border-right-color: var(--fill-color);\n",
              "    }\n",
              "    40% {\n",
              "      border-color: transparent;\n",
              "      border-right-color: var(--fill-color);\n",
              "      border-top-color: var(--fill-color);\n",
              "    }\n",
              "    60% {\n",
              "      border-color: transparent;\n",
              "      border-right-color: var(--fill-color);\n",
              "    }\n",
              "    80% {\n",
              "      border-color: transparent;\n",
              "      border-right-color: var(--fill-color);\n",
              "      border-bottom-color: var(--fill-color);\n",
              "    }\n",
              "    90% {\n",
              "      border-color: transparent;\n",
              "      border-bottom-color: var(--fill-color);\n",
              "    }\n",
              "  }\n",
              "</style>\n",
              "\n",
              "  <script>\n",
              "    async function quickchart(key) {\n",
              "      const quickchartButtonEl =\n",
              "        document.querySelector('#' + key + ' button');\n",
              "      quickchartButtonEl.disabled = true;  // To prevent multiple clicks.\n",
              "      quickchartButtonEl.classList.add('colab-df-spinner');\n",
              "      try {\n",
              "        const charts = await google.colab.kernel.invokeFunction(\n",
              "            'suggestCharts', [key], {});\n",
              "      } catch (error) {\n",
              "        console.error('Error during call to suggestCharts:', error);\n",
              "      }\n",
              "      quickchartButtonEl.classList.remove('colab-df-spinner');\n",
              "      quickchartButtonEl.classList.add('colab-df-quickchart-complete');\n",
              "    }\n",
              "    (() => {\n",
              "      let quickchartButtonEl =\n",
              "        document.querySelector('#df-8e6163c1-67a5-4d52-a5f3-1fd17ac09404 button');\n",
              "      quickchartButtonEl.style.display =\n",
              "        google.colab.kernel.accessAllowed ? 'block' : 'none';\n",
              "    })();\n",
              "  </script>\n",
              "</div>\n",
              "\n",
              "  <div id=\"id_26880880-a5e3-44e8-8053-21d95dc7c4e6\">\n",
              "    <style>\n",
              "      .colab-df-generate {\n",
              "        background-color: #E8F0FE;\n",
              "        border: none;\n",
              "        border-radius: 50%;\n",
              "        cursor: pointer;\n",
              "        display: none;\n",
              "        fill: #1967D2;\n",
              "        height: 32px;\n",
              "        padding: 0 0 0 0;\n",
              "        width: 32px;\n",
              "      }\n",
              "\n",
              "      .colab-df-generate:hover {\n",
              "        background-color: #E2EBFA;\n",
              "        box-shadow: 0px 1px 2px rgba(60, 64, 67, 0.3), 0px 1px 3px 1px rgba(60, 64, 67, 0.15);\n",
              "        fill: #174EA6;\n",
              "      }\n",
              "\n",
              "      [theme=dark] .colab-df-generate {\n",
              "        background-color: #3B4455;\n",
              "        fill: #D2E3FC;\n",
              "      }\n",
              "\n",
              "      [theme=dark] .colab-df-generate:hover {\n",
              "        background-color: #434B5C;\n",
              "        box-shadow: 0px 1px 3px 1px rgba(0, 0, 0, 0.15);\n",
              "        filter: drop-shadow(0px 1px 2px rgba(0, 0, 0, 0.3));\n",
              "        fill: #FFFFFF;\n",
              "      }\n",
              "    </style>\n",
              "    <button class=\"colab-df-generate\" onclick=\"generateWithVariable('trainDataset')\"\n",
              "            title=\"Generate code using this dataframe.\"\n",
              "            style=\"display:none;\">\n",
              "\n",
              "  <svg xmlns=\"http://www.w3.org/2000/svg\" height=\"24px\"viewBox=\"0 0 24 24\"\n",
              "       width=\"24px\">\n",
              "    <path d=\"M7,19H8.4L18.45,9,17,7.55,7,17.6ZM5,21V16.75L18.45,3.32a2,2,0,0,1,2.83,0l1.4,1.43a1.91,1.91,0,0,1,.58,1.4,1.91,1.91,0,0,1-.58,1.4L9.25,21ZM18.45,9,17,7.55Zm-12,3A5.31,5.31,0,0,0,4.9,8.1,5.31,5.31,0,0,0,1,6.5,5.31,5.31,0,0,0,4.9,4.9,5.31,5.31,0,0,0,6.5,1,5.31,5.31,0,0,0,8.1,4.9,5.31,5.31,0,0,0,12,6.5,5.46,5.46,0,0,0,6.5,12Z\"/>\n",
              "  </svg>\n",
              "    </button>\n",
              "    <script>\n",
              "      (() => {\n",
              "      const buttonEl =\n",
              "        document.querySelector('#id_26880880-a5e3-44e8-8053-21d95dc7c4e6 button.colab-df-generate');\n",
              "      buttonEl.style.display =\n",
              "        google.colab.kernel.accessAllowed ? 'block' : 'none';\n",
              "\n",
              "      buttonEl.onclick = () => {\n",
              "        google.colab.notebook.generateWithVariable('trainDataset');\n",
              "      }\n",
              "      })();\n",
              "    </script>\n",
              "  </div>\n",
              "\n",
              "    </div>\n",
              "  </div>\n"
            ],
            "application/vnd.google.colaboratory.intrinsic+json": {
              "type": "dataframe",
              "variable_name": "trainDataset"
            }
          },
          "metadata": {}
        },
        {
          "output_type": "stream",
          "name": "stdout",
          "text": [
            "Size of the dataset: (8743, 225)\n"
          ]
        }
      ],
      "source": [
        "# Training Dataset\n",
        "trainingDataset = pd.read_csv('datasetTV.csv',delimiter=',',\n",
        "                         skip_blank_lines=True,\n",
        "                         header=None)\n",
        "\n",
        "# Drop any samples that have NaN values\n",
        "trainDataset = trainingDataset.dropna()\n",
        "\n",
        "display(trainDataset)\n",
        "print(\"Size of the dataset:\",trainDataset.shape)"
      ]
    },
    {
      "cell_type": "markdown",
      "metadata": {
        "id": "QdjH5AnjWdl7"
      },
      "source": [
        "**Σημαντικές Πληροφορίες, Κωδικοποίηση, Κανονικοποίηση και Διαχωρισμός του Dataset**\n",
        "\n",
        " Προετοιμασία του dataset για χρήση σε ένα μοντέλο μηχανικής μάθησης. Αρχικά, μετατρέπεται σε numpy πίνακα και διαχωρίζονται τα χαρακτηριστικά (features) X από τις ετικέτες (labels) y, που αποτελούν την τελευταία στήλη του set. Οι ετικέτες κωδικοποιούνται σε αριθμητική μορφή (αν δεν είναι ήδη) και, στη συνέχεια, πραγματοποιείται διαχωρισμός σε **σύνολο εκπαίδευσης (training)** και **δοκιμής (testing)**, μέσω της συνάρτησης **train_test_split** της βιβλιοθήκης **sklearn**. Οι ετικέτες μετατρέπονται σε one-hot encoding για πολυκατηγορική ταξινόμηση. Υπολογίζονται και τυπώνονται οι αριθμοί των χαρακτηριστικών (features) και των κατηγοριών (classes), ενώ τα δεδομένα και οι ετικέτες επαναδιαμορφώνονται και **κανονικοποιούνται** σε τιμές μεταξύ 0 και 1 για να διευκολυνθεί η εκπαίδευση του μοντέλου. Ο κώδικας διασφαλίζει ότι τα δεδομένα έχουν σωστή μορφή και είναι έτοιμα για εισαγωγή σε αλγόριθμο."
      ]
    },
    {
      "cell_type": "code",
      "execution_count": null,
      "metadata": {
        "colab": {
          "base_uri": "https://localhost:8080/"
        },
        "id": "ehZRzE7qDs05",
        "outputId": "f9007e22-0ec5-4869-fdcc-ed9751821dfb"
      },
      "outputs": [
        {
          "output_type": "stream",
          "name": "stdout",
          "text": [
            "Training Labels:  {0: 1392, 1: 1388, 2: 1405, 3: 1391, 4: 1418}\n",
            "Testing Labels:  {0: 377, 1: 332, 2: 349, 3: 325, 4: 366}\n",
            "Number of features in the dataset: 224\n",
            "Number of classes in the dataset: 5\n",
            "Train set shape :  (6994, 224)\n",
            "Labels for the train set shape : (6994, 1)\n",
            "Test set shape : (1749, 224)\n",
            "Labels for the test set shape : (1749, 1)\n"
          ]
        }
      ],
      "source": [
        "# Convert to numpy\n",
        "dataset = trainingDataset.to_numpy()\n",
        "\n",
        "# Get all but the last column from the dataset (data) (features)\n",
        "X = dataset[..., :-1]\n",
        "numFeatures = np.size(X, 1)\n",
        "\n",
        "# Get the last column from the dataset (labels) (Target variable)\n",
        "y = dataset[..., -1].astype(int)\n",
        "yUnique, yUniqueCounts = np.unique(y, return_counts=True)\n",
        "\n",
        "# Encode labels if they are not already numeric\n",
        "label_encoder = LabelEncoder()\n",
        "y = label_encoder.fit_transform(y)\n",
        "\n",
        "XTrain, XTest, yTrain, yTest = train_test_split(X, y,\n",
        "                                                    test_size=0.2,\n",
        "                                                    shuffle=True,\n",
        "                                                    random_state=42)\n",
        "\n",
        "#One-hot encoding\n",
        "numClasses = len(np.unique(y))\n",
        "yTrainLabelsOneHot = to_categorical(yTrain, num_classes=numClasses)\n",
        "yTestLabelsOneHot = to_categorical(yTest, num_classes=numClasses)\n",
        "\n",
        "unique, counts = np.unique(yTrain, return_counts=True)\n",
        "print(\"Training Labels: \", dict(zip(unique, counts)))\n",
        "unique, counts = np.unique(yTest, return_counts=True)\n",
        "print(\"Testing Labels: \", dict(zip(unique, counts)))\n",
        "\n",
        "# Get the number of features in the test set\n",
        "numFeatures = XTrain.shape[1]\n",
        "print(\"Number of features in the dataset:\", numFeatures)\n",
        "\n",
        "# Get the number of classes in the test set\n",
        "numClasses = len(set(yTest.flatten()))\n",
        "print(\"Number of classes in the dataset:\", numClasses)\n",
        "\n",
        "yTrain = yTrain.reshape(-1, 1)\n",
        "yTest = yTest.reshape(-1, 1)\n",
        "\n",
        "print(\"Train set shape : \", XTrain.shape)\n",
        "print(\"Labels for the train set shape :\", yTrain.shape)\n",
        "print(\"Test set shape :\", XTest.shape)\n",
        "print(\"Labels for the test set shape :\", yTest.shape)\n",
        "\n",
        "# Convert to float32\n",
        "XTrain, XTest = np.array(XTrain, dtype=np.float32), np.array(XTest, dtype=np.float32)\n",
        "\n",
        "# Normalize to [0,1]\n",
        "XTrainScaled = XTrain/XTrain.max()\n",
        "XTestScaled =  XTest/XTest.max()"
      ]
    },
    {
      "cell_type": "markdown",
      "metadata": {
        "id": "nWz5l3WFekNG"
      },
      "source": [
        "### **Απεικόνιση των Μέσων Τιμών και των Τυπικών Αποκλίσεων των Χαρακτηριστικών**"
      ]
    },
    {
      "cell_type": "code",
      "execution_count": null,
      "metadata": {
        "colab": {
          "base_uri": "https://localhost:8080/",
          "height": 465
        },
        "id": "d_LX8fR1RZwY",
        "outputId": "8a4c8456-e141-4df1-f0ac-49e3bd1eccc6"
      },
      "outputs": [
        {
          "output_type": "display_data",
          "data": {
            "text/plain": [
              "<Figure size 900x500 with 1 Axes>"
            ],
            "image/png": "[encoded data removed]"
          },
          "metadata": {}
        }
      ],
      "source": [
        "# Plot features mean values\n",
        "plt.figure(figsize=(9, 5))\n",
        "plt.scatter(range(numFeatures), np.mean(XTrain, axis=0))\n",
        "plt.xlabel('Features')\n",
        "plt.ylabel('Mean value')\n",
        "plt.axhline(y=0, color='r', linestyle='--')\n",
        "plt.show()\n"
      ]
    },
    {
      "cell_type": "markdown",
      "metadata": {
        "id": "g_OSB_4WfoWC"
      },
      "source": [
        "Το παραπάνω διάγραμμα απεικονίζει την κατανομή της μέσης τιμής για διάφορα χαρακτηριστικά του training dataset και μπορεί να χρησιμοποιηθεί για την αξιολόγηση της καταλληλότητας των χαρακτηριστικών και την ανίχνευση ανωμαλιών στα δεδομένα. Κάθε σημείο αντιστοιχεί στη μέση τιμή ενός χαρακτηριστικού, ενώ η κόκκινη διακεκομμένη γραμμή αντιπροσωπεύει το μηδέν, ως σημείο αναφοράς για τις μέσες τιμές.\n",
        "\n",
        "Παρότι υπάρχει σημαντική ποικιλία στις μέσες τιμές των χαρακτηριστικών, η πλειονότητά τους συγκεντρώνεται κοντά στο μηδέν, υποδεικνύοντας ότι πολλά χαρακτηριστικά έχουν χαμηλές μέσες τιμές, πιθανόν λόγω κανονικοποίησης ή αραιότητας δεδομένων. Κάποια χαρακτηριστικά με υψηλότερες μέσες τιμές μπορεί να είναι πιο σημαντικά για το πρόβλημα ή να έχουν διαφορετική κλίμακα.\n",
        "\n"
      ]
    },
    {
      "cell_type": "code",
      "execution_count": null,
      "metadata": {
        "colab": {
          "base_uri": "https://localhost:8080/",
          "height": 465
        },
        "id": "V6iv5pDeTMMi",
        "outputId": "360a7b75-a239-4ef2-aebd-dbc159bb4306"
      },
      "outputs": [
        {
          "output_type": "display_data",
          "data": {
            "text/plain": [
              "<Figure size 900x500 with 1 Axes>"
            ],
            "image/png": "[encoded data removed]"
          },
          "metadata": {}
        }
      ],
      "source": [
        "# Plot features Standard Devation\n",
        "plt.figure(figsize=(9, 5))\n",
        "plt.axhline(y=1, color='r', linestyle='--')\n",
        "plt.scatter(range(numFeatures), np.std(XTrain, axis=0))\n",
        "plt.xlabel('Features')\n",
        "plt.ylabel('Standard Devation Value')\n",
        "plt.show()\n"
      ]
    },
    {
      "cell_type": "markdown",
      "metadata": {
        "id": "SZpcfp2Os8b7"
      },
      "source": [
        "Παρατηρούμε πως τα χαρακτηριστικά του dataset έχουν αρκετά χαμηλές και διαιρεμένες τιμές τυπικής απόκλισης. Αυτό μπορεί να αποτελέσει πρόβλημα κατά την χρήση του για την αξιολόγηση των ταξινομητών, καθώς υπάρχει περίπτωση να αποδοθούν διαφορετικά **βάρη** στα χαρακτηριστικά, με αποτέλεσμα να υπάρχει κατευθυνόμενη αποδοτικότητα. Για τον λόγο αυτό, θα προβούμε σε **κανονικοποίηση** των χαρακτηριστικών.\n"
      ]
    },
    {
      "cell_type": "markdown",
      "metadata": {
        "id": "B-rrFHmDU3D2"
      },
      "source": [
        "### **Κανονικοποίηση Χαρακτηριστικών (Feature Normalization)**\n",
        "\n",
        "Στο σημείο αυτό, εκτελείται κανονικοποίηση, εξισορρόπηση και επιλογή χαρακτηριστικών για το training dataset μέσω του Lasso Regression:\n",
        "\n",
        "* **Κανονικοποίηση των χαρακτηριστικών**: Χρησιμοποιείται ο **StandardScaler**, ώστε να μετασχηματιστούν τα δεδομένα εκπαίδευσης και δοκιμής (XTrain και XTest), με αποτέλεσμα να έχουν **μηδενική μέση τιμή** και **τυπική απόκλιση 1**.\n",
        "\n",
        "* **Βελτιστοποίηση υπερπαραμέτρων**: Με τη χρήση του **GridSearchCV**, εκτελείται αναζήτηση πλέγματος (grid search) για να βρεθεί η καλύτερη τιμή της παραμέτρου α για το μοντέλο Lasso, χρησιμοποιώντας **5-fold cross-validation**.\n",
        "\n",
        "* **Τελικό μοντέλο Lasso**: Με την καλύτερη τιμή της α που προκύπτει, δημιουργείται ένα βέλτιστο μοντέλο Lasso Regression, το οποίο εκπαιδεύεται στο κανονικοποιημένο σύνολο εκπαίδευσης.\n",
        "\n",
        "* **Επιλογή χαρακτηριστικών**: Οι συντελεστές του μοντέλου Lasso (coef) λαμβάνονται, μετατρέπονται σε απόλυτες τιμές, και χρησιμοποιούνται για να αξιολογηθεί η σημασία των χαρακτηριστικών. Ένα χαρακτηριστικό θεωρείται σημαντικό αν ο συντελεστής του είναι μεγαλύτερος από ένα κατώφλι (0.018).\n",
        "\n",
        "Μέσω της χρήσης του Lasso Regression για να επιλεγούν τα πιο σημαντικά χαρακτηριστικά του training dataset, μειώνεται η διάσταση των δεδομένων και διευκολύνεται η βελτιστοποίηση των αλγορίθμων ταξινόμησης που πρόκειται να αξιολογηθούν στη συνέχεια.\n",
        "\n"
      ]
    },
    {
      "cell_type": "code",
      "execution_count": null,
      "metadata": {
        "colab": {
          "base_uri": "https://localhost:8080/",
          "height": 943
        },
        "id": "dGNJAlm2TfbZ",
        "outputId": "9ed711c6-1e7c-4bf6-a111-7f9fdceb9c35"
      },
      "outputs": [
        {
          "output_type": "display_data",
          "data": {
            "text/plain": [
              "<Figure size 900x500 with 1 Axes>"
            ],
            "image/png": "[encoded data removed]"
          },
          "metadata": {}
        },
        {
          "output_type": "display_data",
          "data": {
            "text/plain": [
              "<Figure size 900x500 with 1 Axes>"
            ],
            "image/png": "[encoded data removed]"
          },
          "metadata": {}
        }
      ],
      "source": [
        "# Normalize the features\n",
        "scaler = StandardScaler()\n",
        "XTrain = scaler.fit_transform(XTrain)\n",
        "XTest = scaler.transform(XTest)\n",
        "\n",
        "# Plot normalized features mean values\n",
        "plt.figure(figsize=(9, 5))\n",
        "plt.scatter(range(numFeatures), np.mean(XTrain, axis=0))\n",
        "plt.xlabel('Features')\n",
        "plt.ylabel('Mean value')\n",
        "plt.axhline(y=0, color='r', linestyle='--')\n",
        "plt.show()\n",
        "\n",
        "# Plot normalized features Standard Devation\n",
        "plt.figure(figsize=(9, 5))\n",
        "plt.axhline(y=1, color='r', linestyle='--')\n",
        "plt.scatter(range(numFeatures), np.std(XTrain, axis=0))\n",
        "plt.xlabel('Features')\n",
        "plt.ylabel('Standard Devation Value')\n",
        "plt.show()\n",
        "\n"
      ]
    },
    {
      "cell_type": "markdown",
      "metadata": {
        "id": "J2LdA1ZsveIj"
      },
      "source": [
        "Πλέον, όπως φαίνεται από τα παραπάνω διαγράμματα, όλα τα χαρακτηριστικά έχουν μέση τιμή κοντά στο μηδέν και τυπική απόκλιση κοντά στη μονάδα. Συνεπώς, έχουμε ένα **normalized training dataset**, γεγονός που θα μας επιτρέψει να κάνουμε πιο \"δίκαιες\" αξιολογήσεις των μοντέλων που πρόκειται να μελετηθούν."
      ]
    },
    {
      "cell_type": "code",
      "execution_count": null,
      "metadata": {
        "colab": {
          "base_uri": "https://localhost:8080/",
          "height": 551
        },
        "id": "Owrlg-NIGUAN",
        "outputId": "b1825f49-fd44-4863-a0e5-2b678a7b2990"
      },
      "outputs": [
        {
          "name": "stdout",
          "output_type": "stream",
          "text": [
            "Best Params {'alpha': 1e-05}\n"
          ]
        },
        {
          "data": {
            "image/png": "[encoded data removed]",
            "text/plain": [
              "<Figure size 900x500 with 1 Axes>"
            ]
          },
          "metadata": {},
          "output_type": "display_data"
        },
        {
          "name": "stdout",
          "output_type": "stream",
          "text": [
            "Number of important features: 101\n",
            "Number of features dropped: 123\n"
          ]
        }
      ],
      "source": [
        "# Suppress specific FutureWarnings\n",
        "warnings.filterwarnings(\"ignore\", category=FutureWarning, message=\".*force_all_finite.*\")\n",
        "warnings.filterwarnings(\"ignore\", category=FutureWarning, message=\".*BaseEstimator._check_n_features.*\")\n",
        "warnings.filterwarnings(\"ignore\", category=FutureWarning, message=\".*BaseEstimator._check_feature_names.*\")\n",
        "\n",
        "# Parameters to be tested on GridSearchCV\n",
        "params = {\"alpha\":np.arange(0.00001, 10, 500)}\n",
        "\n",
        "# Number of Folds and adding the random state for replication\n",
        "kf = KFold(n_splits=5, shuffle=True, random_state=42)\n",
        "\n",
        "# Initializing the Model\n",
        "lasso = Lasso()\n",
        "\n",
        "# GridSearchCV with model, params and folds.\n",
        "lasso_cv = GridSearchCV(lasso, param_grid=params, cv=kf)\n",
        "lasso_cv.fit(X, y)\n",
        "\n",
        "print(\"Best Params {}\".format(lasso_cv.best_params_))\n",
        "\n",
        "\n",
        "# Calling the model with the best parameter\n",
        "optimalLasso = Lasso(alpha=0.000001)\n",
        "optimalLasso.fit(XTrain, yTrain)\n",
        "\n",
        "# Making coefficients positive\n",
        "optimalLassoCoef = np.abs(optimalLasso.coef_)\n",
        "\n",
        "# Plotting the features and their importance\n",
        "plt.figure(figsize=(9, 5))\n",
        "plt.bar(range(numFeatures), optimalLassoCoef)\n",
        "plt.xticks(rotation=90)\n",
        "plt.grid()\n",
        "plt.title(\"Feature Selection Based on Lasso\")\n",
        "plt.xlabel(\"Features\")\n",
        "plt.ylabel(\"Importance\")\n",
        "plt.ylim(0, 0.15)\n",
        "plt.show()\n",
        "\n",
        "# New set after Lasso-Based Feature Selection\n",
        "featuresSet = np.array(range(numFeatures))[optimalLassoCoef>0.018]\n",
        "XTrainLasso = XTrain[:, featuresSet]\n",
        "XTestLasso = XTest[:, featuresSet]\n",
        "\n",
        "numImportantFeatures = np.size(featuresSet)\n",
        "\n",
        "print(\"Number of important features:\", numImportantFeatures)\n",
        "print(\"Number of features dropped:\", numFeatures-numImportantFeatures)"
      ]
    },
    {
      "cell_type": "markdown",
      "metadata": {
        "id": "eMdbl8Mb2g66"
      },
      "source": [
        "Παρατηρείται πως ο αριθμός των σημαντικών παραμέτρων είναι αρκετά μειωμένος σε σχέση με τον αριθμό των αρχικών χαρακτηριστικών (από τα 224 features απορρίφθηκαν τα 123). Αυτό σημαίνει πως μπορεί να πραγματοποιηθεί μια ισχυρή ελάττωση της διαστασιμότητας του training dataset, γεγονός που θα συμβάλλει στην ευκολότερη και ταχύτερη αξιολόγηση των μεθόδων ταξινόμησης που θα μελετηθούν.\n",
        "\n",
        "Παρόλα αυτά, παρακάτω θα τρέξουμε κάποιες δοκιμές με τα μειωμένα αυτά features για να δούμε αν όντως \"αξίζει\" να κρατήσουμε μόνο τα features αυτά βλέποντας αν αυξάνεται σημαντικά το accuracy των classifiers."
      ]
    },
    {
      "cell_type": "markdown",
      "metadata": {
        "id": "jpW-YZBgCmaY"
      },
      "source": [
        "### **PCA: Principle Component Analysis**"
      ]
    },
    {
      "cell_type": "markdown",
      "metadata": {
        "id": "T9GTkbhzBxJk"
      },
      "source": [
        "Παρακάτω, με ανάλυση κυρίων συνιστωσών, μειώνεται ο αριθμός των features, ωστε να διατηρείται το 90%, ή αντίστοιχα το 95 % της διακύμανσης των αρχικών δεδομένων. Γενικά, στόχος είναι να δημιουργηθούν νέα χαρακτηριστικά, που να προκύπτουν από το αρχικό σύνολο (224 για το συγκεκριμένο dataset), με σκοπό να διατηρηθεί όσο περισσότερη πληροφορία γίνεται σε πολύ μικρότερο αριθμό features."
      ]
    },
    {
      "cell_type": "code",
      "execution_count": null,
      "metadata": {
        "colab": {
          "base_uri": "https://localhost:8080/"
        },
        "id": "AHAQzpyZUNvv",
        "outputId": "3cc92981-2292-4328-86d7-89abcadfd185"
      },
      "outputs": [
        {
          "output_type": "stream",
          "name": "stdout",
          "text": [
            "Number of features after PCA : 161\n"
          ]
        }
      ],
      "source": [
        "pca = PCA(n_components=0.9).fit(XTrain)\n",
        "XTrainPCA = pca.transform(XTrain)\n",
        "XTestPCA = pca.transform(XTest)\n",
        "\n",
        "print('Number of features after PCA :',XTrainPCA.shape[1])"
      ]
    },
    {
      "cell_type": "code",
      "execution_count": null,
      "metadata": {
        "colab": {
          "base_uri": "https://localhost:8080/"
        },
        "id": "6RXAG56qUVqH",
        "outputId": "21529201-c217-46bd-bd20-8cdab8487b52"
      },
      "outputs": [
        {
          "name": "stdout",
          "output_type": "stream",
          "text": [
            "Number of features after PCA : 190\n"
          ]
        }
      ],
      "source": [
        "pca2 = PCA(n_components=0.95).fit(XTrain)\n",
        "XTrainPCA2 = pca2.transform(XTrain)\n",
        "XTestPCA2 = pca2.transform(XTest)\n",
        "\n",
        "print('Number of features after PCA :',XTrainPCA2.shape[1])"
      ]
    },
    {
      "cell_type": "markdown",
      "metadata": {
        "id": "HKmbmmddVFQX"
      },
      "source": [
        "### **Δοκιμές Classifiers**"
      ]
    },
    {
      "cell_type": "markdown",
      "metadata": {
        "id": "TWJytsdD7PuX"
      },
      "source": [
        "#####**Naive Bayes (NB) Classifier**\n",
        "\n"
      ]
    },
    {
      "cell_type": "code",
      "execution_count": null,
      "metadata": {
        "colab": {
          "base_uri": "https://localhost:8080/"
        },
        "id": "NJAZ99Jeto-j",
        "outputId": "94c7c611-550d-43dd-d613-4f1b3159b975"
      },
      "outputs": [
        {
          "name": "stdout",
          "output_type": "stream",
          "text": [
            "Test Accuracy for initial dataset: 0.699\n",
            "Test Accuracy for reduced dataset (Lasso): 0.694\n",
            "Test Accuracy for reduced dataset (PCA - 90%): 0.753\n"
          ]
        }
      ],
      "source": [
        "# First Test - Initial Dataset\n",
        "nb = GaussianNB()\n",
        "nb.fit(XTrain, yTrain.ravel())  # Flatten yTrain\n",
        "accuracy = nb.score(XTest, yTest.ravel())  # Flatten yTest\n",
        "print(f\"Test Accuracy for initial dataset: {accuracy:.3f}\")\n",
        "\n",
        "# Second Test - Reduced Dataset (Lasso)\n",
        "nb = GaussianNB()\n",
        "nb.fit(XTrainLasso, yTrain.ravel()) # Flatten yTrain\n",
        "accuracy = nb.score(XTestLasso, yTest.ravel()) # Flatten yTest\n",
        "print(f\"Test Accuracy for reduced dataset (Lasso): {accuracy:.3f}\")\n",
        "\n",
        "# Third Test - Reduced Dataset (PCA - 90%)\n",
        "nb = GaussianNB()\n",
        "nb.fit(XTrainPCA, yTrain.ravel()) # Flatten yTrain\n",
        "accuracy = nb.score(XTestPCA, yTest.ravel()) # Flatten yTest\n",
        "print(f\"Test Accuracy for reduced dataset (PCA - 90%): {accuracy:.3f}\")\n"
      ]
    },
    {
      "cell_type": "markdown",
      "metadata": {
        "id": "cQlR_pmBJbr9"
      },
      "source": [
        "#####**LDA (Linear Discriminant Analysis) Classifier**"
      ]
    },
    {
      "cell_type": "code",
      "execution_count": null,
      "metadata": {
        "colab": {
          "base_uri": "https://localhost:8080/"
        },
        "id": "1YKMMMvdJt3O",
        "outputId": "7c813b60-da15-4d1b-a6b0-ba496b7a727e"
      },
      "outputs": [
        {
          "name": "stdout",
          "output_type": "stream",
          "text": [
            "Test Accuracy for initial dataset: 0.767\n"
          ]
        }
      ],
      "source": [
        "# First Test - Initial Dataset\n",
        "model_LDA = LinearDiscriminantAnalysis()\n",
        "\n",
        "model_LDA.fit(XTrain, yTrain.ravel()) # Flatten yTrain\n",
        "\n",
        "accuracy = model_LDA.score(XTest, yTest.ravel())  # Flatten yTest\n",
        "print(f\"Test Accuracy for initial dataset: {accuracy:.3f}\")"
      ]
    },
    {
      "cell_type": "code",
      "execution_count": null,
      "metadata": {
        "colab": {
          "base_uri": "https://localhost:8080/"
        },
        "id": "JgdMZIA7JdlC",
        "outputId": "01941ae0-76b1-4124-a770-e152101d5aa3"
      },
      "outputs": [
        {
          "name": "stdout",
          "output_type": "stream",
          "text": [
            "Test Accuracy for reduced dataset (Lasso): 0.752\n"
          ]
        }
      ],
      "source": [
        "# Second Test - Reduced Dataset (Lasso)\n",
        "model_LDA = LinearDiscriminantAnalysis()\n",
        "model_LDA.fit(XTrainLasso, yTrain.ravel())  # Flatten yTrain\n",
        "\n",
        "accuracy = model_LDA.score(XTestLasso, yTest.ravel()) # Flatten yTest\n",
        "print(f\"Test Accuracy for reduced dataset (Lasso): {accuracy:.3f}\")\n"
      ]
    },
    {
      "cell_type": "code",
      "execution_count": null,
      "metadata": {
        "colab": {
          "base_uri": "https://localhost:8080/"
        },
        "id": "jWHbiTaFVxQZ",
        "outputId": "49d4d7a0-a94f-4ebd-faa5-56b43612d532"
      },
      "outputs": [
        {
          "name": "stdout",
          "output_type": "stream",
          "text": [
            "Test Accuracy for reduced dataset (PCA - 90%): 0.763\n"
          ]
        }
      ],
      "source": [
        "# Third Test - Reduced Dataset (PCA - 90%)\n",
        "model_LDA = LinearDiscriminantAnalysis()\n",
        "model_LDA.fit(XTrainPCA, yTrain.ravel())  # Flatten yTrain\n",
        "\n",
        "accuracy = model_LDA.score(XTestPCA, yTest.ravel()) # Flatten yTest\n",
        "print(f\"Test Accuracy for reduced dataset (PCA - 90%): {accuracy:.3f}\")"
      ]
    },
    {
      "cell_type": "markdown",
      "metadata": {
        "id": "zcKAd2t5Kpow"
      },
      "source": [
        "#####**Gaussian Process (GB) Classifier**"
      ]
    },
    {
      "cell_type": "code",
      "execution_count": null,
      "metadata": {
        "colab": {
          "base_uri": "https://localhost:8080/"
        },
        "id": "9jqvFUabKxsH",
        "outputId": "4286faaf-9af1-48a5-8a6f-279613761a1d"
      },
      "outputs": [
        {
          "name": "stdout",
          "output_type": "stream",
          "text": [
            "Test Accuracy for initial dataset:0.209\n"
          ]
        }
      ],
      "source": [
        "# First Test - Initial Dataset\n",
        "gp = GaussianProcessClassifier(random_state=42)\n",
        "\n",
        "gp.fit(XTrain, yTrain.ravel())  # Flatten yTrain\n",
        "\n",
        "accuracy = gp.score(XTest, yTest.ravel()) # Flatten yTest\n",
        "print(f\"Test Accuracy for initial dataset:{accuracy:.3f}\")"
      ]
    },
    {
      "cell_type": "code",
      "execution_count": null,
      "metadata": {
        "colab": {
          "background_save": true
        },
        "id": "whAECm3R0c_5",
        "outputId": "7ef06b3d-a1c7-4430-b28b-4fbacf57b02f"
      },
      "outputs": [
        {
          "name": "stdout",
          "output_type": "stream",
          "text": [
            "Test Accuracy for reduced dataset (Lasso): 0.285\n"
          ]
        }
      ],
      "source": [
        "# Second Test - Reduced Dataset (Lasso)\n",
        "\n",
        "gp = GaussianProcessClassifier(random_state=42)\n",
        "\n",
        "gp.fit(XTrainLasso, yTrain.ravel()) # Flatten yTrain\n",
        "\n",
        "accuracy = gp.score(XTestLasso, yTest.ravel())  # Flatten yTest\n",
        "print(f\"Test Accuracy for reduced dataset (Lasso): {accuracy:.3f}\")"
      ]
    },
    {
      "cell_type": "code",
      "execution_count": null,
      "metadata": {
        "colab": {
          "base_uri": "https://localhost:8080/"
        },
        "id": "ivFAevigXKq-",
        "outputId": "1618a6a8-8e9e-474c-dff2-316199d90c5e"
      },
      "outputs": [
        {
          "name": "stdout",
          "output_type": "stream",
          "text": [
            "Test Accuracy for reduced dataset (PCA - 90%): 0.209\n"
          ]
        }
      ],
      "source": [
        "# Third Test - Reduced Dataset (PCA - 90%)\n",
        "\n",
        "gp = GaussianProcessClassifier(random_state=42)\n",
        "\n",
        "gp.fit(XTrainPCA, yTrain.ravel()) # Flatten yTrain\n",
        "\n",
        "accuracy = gp.score(XTestPCA, yTest.ravel())  # Flatten yTest\n",
        "print(f\"Test Accuracy for reduced dataset (PCA - 90%): {accuracy:.3f}\")"
      ]
    },
    {
      "cell_type": "markdown",
      "metadata": {
        "id": "IJhkSJhLNGIY"
      },
      "source": [
        "#####**QDA (Quadratic Discriminant Analysis) Classifier**"
      ]
    },
    {
      "cell_type": "code",
      "execution_count": null,
      "metadata": {
        "colab": {
          "base_uri": "https://localhost:8080/"
        },
        "id": "EhfzPAjudE87",
        "outputId": "a4c63b64-5334-441b-8c12-87d32d58706c"
      },
      "outputs": [
        {
          "name": "stdout",
          "output_type": "stream",
          "text": [
            "Test Accuracy for initial dataset:0.807\n"
          ]
        }
      ],
      "source": [
        "# First Test - Initial Dataset\n",
        "\n",
        "model_QDA = QuadraticDiscriminantAnalysis()\n",
        "\n",
        "model_QDA.fit(XTrain, yTrain.ravel()) # Flatten yTrain\n",
        "\n",
        "accuracy = model_QDA.score(XTest, yTest.ravel())  # Flatten yTest\n",
        "\n",
        "print(f\"Test Accuracy for initial dataset:{accuracy:.3f}\")"
      ]
    },
    {
      "cell_type": "code",
      "execution_count": null,
      "metadata": {
        "colab": {
          "base_uri": "https://localhost:8080/"
        },
        "id": "OaqVhRI5NBhr",
        "outputId": "f451d8d7-2dbe-4678-8389-8209e78b788b"
      },
      "outputs": [
        {
          "name": "stdout",
          "output_type": "stream",
          "text": [
            "Test Accuracy for reduced dataset (Lasso): 0.807\n"
          ]
        }
      ],
      "source": [
        "# Second Test - Reduced Dataset (Lasso)\n",
        "\n",
        "model_QDA = QuadraticDiscriminantAnalysis()\n",
        "\n",
        "model_QDA.fit(XTrainLasso, yTrain.ravel())  # Flatten yTrain\n",
        "\n",
        "model_QDA.score(XTestLasso, yTest.ravel())  # Flatten yTest\n",
        "print(f\"Test Accuracy for reduced dataset (Lasso): {accuracy:.3f}\")"
      ]
    },
    {
      "cell_type": "code",
      "execution_count": null,
      "metadata": {
        "colab": {
          "base_uri": "https://localhost:8080/"
        },
        "id": "7H3kAuK9a1hD",
        "outputId": "7004450a-f7c8-43ca-b546-217c50e76647"
      },
      "outputs": [
        {
          "name": "stdout",
          "output_type": "stream",
          "text": [
            "Test Accuracy for reduced dataset (PCA - 90%): 0.807\n"
          ]
        }
      ],
      "source": [
        "# Third Test - Reduced Dataset (PCA - 90%)\n",
        "\n",
        "model_QDA = QuadraticDiscriminantAnalysis()\n",
        "\n",
        "model_QDA.fit(XTrainPCA, yTrain.ravel())  # Flatten yTrain\n",
        "\n",
        "model_QDA.score(XTestPCA, yTest.ravel())  # Flatten yTest\n",
        "print(f\"Test Accuracy for reduced dataset (PCA - 90%): {accuracy:.3f}\")"
      ]
    },
    {
      "cell_type": "markdown",
      "metadata": {
        "id": "-qL6DRquNaqZ"
      },
      "source": [
        "#####**AdaBoost**"
      ]
    },
    {
      "cell_type": "code",
      "execution_count": null,
      "metadata": {
        "colab": {
          "base_uri": "https://localhost:8080/"
        },
        "id": "y8tWkqwpc-ph",
        "outputId": "e9a9b3a5-a8d3-4c17-bf96-82a3bf57c95a"
      },
      "outputs": [
        {
          "name": "stdout",
          "output_type": "stream",
          "text": [
            "Test Accuracy for initial dataset:0.620\n"
          ]
        }
      ],
      "source": [
        "# First Test - Initial Dataset\n",
        "ab = AdaBoostClassifier(random_state=42)\n",
        "\n",
        "ab.fit(XTrain, yTrain.ravel())  # Flatten yTrain\n",
        "accuracy = ab.score(XTest, yTest.ravel()) # Flatten yTest\n",
        "\n",
        "print(f\"Test Accuracy for initial dataset:{accuracy:.3f}\")\n"
      ]
    },
    {
      "cell_type": "code",
      "execution_count": null,
      "metadata": {
        "colab": {
          "base_uri": "https://localhost:8080/"
        },
        "id": "vkbleeuENeWg",
        "outputId": "b00e4b60-5daf-4675-842c-2787281a6a12"
      },
      "outputs": [
        {
          "name": "stdout",
          "output_type": "stream",
          "text": [
            "Test Accuracy for reduced dataset (Lasso): 0.609\n"
          ]
        }
      ],
      "source": [
        "# Second Test - Reduced Dataset (Lasso)\n",
        "\n",
        "ab = AdaBoostClassifier(random_state=42)\n",
        "\n",
        "ab.fit(XTrainLasso, yTrain.ravel()) # Flatten yTrain\n",
        "\n",
        "accuracy = ab.score(XTestLasso, yTest.ravel()) # Flatten yTest\n",
        "print(f\"Test Accuracy for reduced dataset (Lasso): {accuracy:.3f}\")"
      ]
    },
    {
      "cell_type": "code",
      "execution_count": null,
      "metadata": {
        "colab": {
          "base_uri": "https://localhost:8080/"
        },
        "id": "B4dSdd-pd8rD",
        "outputId": "bd462983-5c4c-478e-f6e8-f128cf90b28a"
      },
      "outputs": [
        {
          "name": "stdout",
          "output_type": "stream",
          "text": [
            "Test Accuracy for reduced dataset (PCA - 90%): 0.658\n"
          ]
        }
      ],
      "source": [
        "# Third Test - Reduced Dataset (PCA - 90%)\n",
        "\n",
        "ab = AdaBoostClassifier(random_state=42)\n",
        "\n",
        "ab.fit(XTrainPCA, yTrain.ravel()) # Flatten yTrain\n",
        "\n",
        "accuracy = ab.score(XTestPCA, yTest.ravel()) # Flatten yTest\n",
        "print(f\"Test Accuracy for reduced dataset (PCA - 90%): {accuracy:.3f}\")"
      ]
    },
    {
      "cell_type": "markdown",
      "metadata": {
        "id": "gyIHdMQ7NveX"
      },
      "source": [
        "#####**Random Forest**"
      ]
    },
    {
      "cell_type": "code",
      "execution_count": null,
      "metadata": {
        "colab": {
          "base_uri": "https://localhost:8080/"
        },
        "id": "PuR1OQDJc3LR",
        "outputId": "882e4460-997e-480c-aee4-878f082ea6c8"
      },
      "outputs": [
        {
          "name": "stdout",
          "output_type": "stream",
          "text": [
            "Test Accuracy for initial dataset:0.806\n"
          ]
        }
      ],
      "source": [
        "# First Test - Initial Dataset\n",
        "rf = RandomForestClassifier(random_state=42)\n",
        "\n",
        "rf.fit(XTrain, yTrain.ravel())  # Flatten yTrain\n",
        "accuracy = rf.score(XTest, yTest.ravel()) # Flatten yTest\n",
        "\n",
        "print(f\"Test Accuracy for initial dataset:{accuracy:.3f}\")"
      ]
    },
    {
      "cell_type": "code",
      "execution_count": null,
      "metadata": {
        "colab": {
          "base_uri": "https://localhost:8080/"
        },
        "id": "tVi6q5SsNxaz",
        "outputId": "c7b6ce4b-fa01-4429-f198-c5b2fbf0ca47"
      },
      "outputs": [
        {
          "name": "stdout",
          "output_type": "stream",
          "text": [
            "Test Accuracy for reduced dataset (Lasso): 0.805\n"
          ]
        }
      ],
      "source": [
        "# Second Test - Reduced Dataset (Lasso)\n",
        "\n",
        "rf = RandomForestClassifier(random_state=42)\n",
        "\n",
        "rf.fit(XTrainLasso, yTrain.ravel())  # Flatten yTrain\n",
        "accuracy = rf.score(XTestLasso, yTest.ravel()) # Flatten yTest\n",
        "\n",
        "print(f\"Test Accuracy for reduced dataset (Lasso): {accuracy:.3f}\")"
      ]
    },
    {
      "cell_type": "code",
      "execution_count": null,
      "metadata": {
        "colab": {
          "base_uri": "https://localhost:8080/"
        },
        "id": "5dke8I-0erV5",
        "outputId": "38485719-ce81-41f5-8aae-b2e2c2a23020"
      },
      "outputs": [
        {
          "name": "stdout",
          "output_type": "stream",
          "text": [
            "Test Accuracy for reduced dataset (PCA - 90%): 0.782\n"
          ]
        }
      ],
      "source": [
        "# Third Test - Reduced Dataset (PCA - 90%)\n",
        "\n",
        "rf = RandomForestClassifier(random_state=42)\n",
        "\n",
        "rf.fit(XTrainPCA, yTrain.ravel())  # Flatten yTrain\n",
        "accuracy = rf.score(XTestPCA, yTest.ravel()) # Flatten yTest\n",
        "\n",
        "print(f\"Test Accuracy for reduced dataset (PCA - 90%): {accuracy:.3f}\")"
      ]
    },
    {
      "cell_type": "markdown",
      "metadata": {
        "id": "QnGSZeSqiqme"
      },
      "source": [
        "#####**XGBoost**"
      ]
    },
    {
      "cell_type": "code",
      "execution_count": null,
      "metadata": {
        "colab": {
          "base_uri": "https://localhost:8080/"
        },
        "id": "Tp1POyWFir15",
        "outputId": "5a7c2b67-bf0f-4b24-aa11-5e6c012f905b"
      },
      "outputs": [
        {
          "name": "stdout",
          "output_type": "stream",
          "text": [
            "Test Accuracy for initial dataset: 0.840\n"
          ]
        }
      ],
      "source": [
        "# First Test - Initial Dataset\n",
        "\n",
        "# Creating an XGBoost classifier\n",
        "model = xgb.XGBClassifier()\n",
        "\n",
        "if np.min(yTrain) < 0:\n",
        "  for i in range(len(yTrain)):\n",
        "    yTrain[i] = yTrain[i] + 1\n",
        "elif np.min(yTrain) > 0:\n",
        "  for i in range(len(yTrain)):\n",
        "    yTrain[i] = yTrain[i] - 1\n",
        "\n",
        "if np.min(yTest) < 0:\n",
        "  for i in range(len(yTest)):\n",
        "    yTest[i] = yTest[i] - 1\n",
        "elif np.min(yTest) > 0:\n",
        "  for i in range(len(yTest)):\n",
        "    yTest[i] = yTest[i] + 1\n",
        "\n",
        "# Training the model on the training data\n",
        "model.fit(XTrain, yTrain.ravel()) # Flatten yTrain\n",
        "\n",
        "# Making predictions on the test set\n",
        "predictions = model.predict(XTest)\n",
        "\n",
        "# Calculating accuracy\n",
        "accuracy = accuracy_score(yTest.ravel(), predictions)   # Flatten yTest\n",
        "\n",
        "print(f\"Test Accuracy for initial dataset: {accuracy:.3f}\")"
      ]
    },
    {
      "cell_type": "code",
      "execution_count": null,
      "metadata": {
        "colab": {
          "base_uri": "https://localhost:8080/"
        },
        "id": "6kJ22GdCiygV",
        "outputId": "5f251ce6-6268-409a-cee5-84dea5aff467"
      },
      "outputs": [
        {
          "name": "stdout",
          "output_type": "stream",
          "text": [
            "Test Accuracy for reduced dataset (Lasso): 0.815\n"
          ]
        }
      ],
      "source": [
        "# Second Test - Reduced Dataset (Lasso)\n",
        "\n",
        "# Creating an XGBoost classifier\n",
        "model = xgb.XGBClassifier()\n",
        "\n",
        "if np.min(yTrain) < 0:\n",
        "  for i in range(len(yTrain)):\n",
        "    yTrain[i] = yTrain[i] + 1\n",
        "elif np.min(yTrain) > 0:\n",
        "  for i in range(len(yTrain)):\n",
        "    yTrain[i] = yTrain[i] - 1\n",
        "\n",
        "if np.min(yTest) < 0:\n",
        "  for i in range(len(yTest)):\n",
        "    yTest[i] = yTest[i] - 1\n",
        "elif np.min(yTest) > 0:\n",
        "  for i in range(len(yTest)):\n",
        "    yTest[i] = yTest[i] + 1\n",
        "\n",
        "# Training the model on the training data\n",
        "model.fit(XTrainLasso, yTrain.ravel()) # Flatten yTrain\n",
        "\n",
        "# Making predictions on the test set\n",
        "predictions = model.predict(XTestLasso)\n",
        "\n",
        "# Calculating accuracy\n",
        "accuracy = accuracy_score(yTest.ravel(), predictions)   # Flatten yTest\n",
        "\n",
        "print(f\"Test Accuracy for reduced dataset (Lasso): {accuracy:.3f}\")"
      ]
    },
    {
      "cell_type": "code",
      "execution_count": null,
      "metadata": {
        "colab": {
          "base_uri": "https://localhost:8080/"
        },
        "id": "g1ny731if1F3",
        "outputId": "a70ef21f-aa77-4722-c835-783d906d481b"
      },
      "outputs": [
        {
          "name": "stdout",
          "output_type": "stream",
          "text": [
            "Test Accuracy for reduced dataset (Lasso): 0.822\n"
          ]
        }
      ],
      "source": [
        "# Third Test - Reduced Dataset (PCA - 90%)\n",
        "\n",
        "# Creating an XGBoost classifier\n",
        "model = xgb.XGBClassifier()\n",
        "\n",
        "if np.min(yTrain) < 0:\n",
        "  for i in range(len(yTrain)):\n",
        "    yTrain[i] = yTrain[i] + 1\n",
        "elif np.min(yTrain) > 0:\n",
        "  for i in range(len(yTrain)):\n",
        "    yTrain[i] = yTrain[i] - 1\n",
        "\n",
        "if np.min(yTest) < 0:\n",
        "  for i in range(len(yTest)):\n",
        "    yTest[i] = yTest[i] - 1\n",
        "elif np.min(yTest) > 0:\n",
        "  for i in range(len(yTest)):\n",
        "    yTest[i] = yTest[i] + 1\n",
        "\n",
        "# Training the model on the training data\n",
        "model.fit(XTrainPCA, yTrain.ravel()) # Flatten yTrain\n",
        "\n",
        "# Making predictions on the test set\n",
        "predictions = model.predict(XTestPCA)\n",
        "\n",
        "# Calculating accuracy\n",
        "accuracy = accuracy_score(yTest.ravel(), predictions)   # Flatten yTest\n",
        "\n",
        "print(f\"Test Accuracy for reduced dataset (Lasso): {accuracy:.3f}\")"
      ]
    },
    {
      "cell_type": "markdown",
      "metadata": {
        "id": "oOu-NAxCjKqx"
      },
      "source": [
        "#####**CatBoost**\n"
      ]
    },
    {
      "cell_type": "code",
      "execution_count": null,
      "metadata": {
        "colab": {
          "base_uri": "https://localhost:8080/"
        },
        "id": "HqFOH_CJjLu-",
        "outputId": "46b07e7f-73e4-4e91-d9ea-6dda9510c049"
      },
      "outputs": [
        {
          "name": "stdout",
          "output_type": "stream",
          "text": [
            "0:\tlearn: 0.5540463\ttotal: 609ms\tremaining: 1m\n",
            "10:\tlearn: 0.7440663\ttotal: 3.1s\tremaining: 25.1s\n",
            "20:\tlearn: 0.7868173\ttotal: 5.64s\tremaining: 21.2s\n",
            "30:\tlearn: 0.8162711\ttotal: 9.98s\tremaining: 22.2s\n",
            "40:\tlearn: 0.8392908\ttotal: 12.4s\tremaining: 17.9s\n",
            "50:\tlearn: 0.8528739\ttotal: 14.8s\tremaining: 14.2s\n",
            "60:\tlearn: 0.8621676\ttotal: 17.3s\tremaining: 11s\n",
            "70:\tlearn: 0.8734630\ttotal: 19.7s\tremaining: 8.03s\n",
            "80:\tlearn: 0.8800400\ttotal: 23.8s\tremaining: 5.58s\n",
            "90:\tlearn: 0.8910495\ttotal: 26.4s\tremaining: 2.61s\n",
            "99:\tlearn: 0.8956248\ttotal: 28.5s\tremaining: 0us\n",
            "Test Accuracy for initial dataset: 0.824\n"
          ]
        }
      ],
      "source": [
        "# First Test - Initial Dataset\n",
        "\n",
        "# Creating CatBoost Model\n",
        "model = CatBoostClassifier(iterations=100, learning_rate=0.1, depth=6, eval_metric=\"Accuracy\", random_state=42, verbose=10)\n",
        "# Model Training\n",
        "model.fit(XTrain, yTrain.ravel()) # Flatten yTrain\n",
        "\n",
        "# Prediction on the test set\n",
        "y_pred = model.predict(XTest)\n",
        "\n",
        "# Accuracy score Calculation\n",
        "accuracy = accuracy_score(yTest.ravel(), y_pred)  # Flatten yTest\n",
        "print(f\"Test Accuracy for initial dataset: {accuracy:.3f}\")"
      ]
    },
    {
      "cell_type": "code",
      "execution_count": null,
      "metadata": {
        "colab": {
          "base_uri": "https://localhost:8080/"
        },
        "id": "tWlNW0wPjPfT",
        "outputId": "4c479d1f-f893-4c04-f5a5-bf7bb7b10660"
      },
      "outputs": [
        {
          "name": "stdout",
          "output_type": "stream",
          "text": [
            "0:\tlearn: 0.5686303\ttotal: 304ms\tremaining: 30.1s\n",
            "10:\tlearn: 0.7266228\ttotal: 2.44s\tremaining: 19.8s\n",
            "20:\tlearn: 0.7712325\ttotal: 3.66s\tremaining: 13.8s\n",
            "30:\tlearn: 0.7952531\ttotal: 4.83s\tremaining: 10.8s\n",
            "40:\tlearn: 0.8188447\ttotal: 5.97s\tremaining: 8.6s\n",
            "50:\tlearn: 0.8362882\ttotal: 7.13s\tremaining: 6.85s\n",
            "60:\tlearn: 0.8481556\ttotal: 8.25s\tremaining: 5.28s\n",
            "70:\tlearn: 0.8600229\ttotal: 9.38s\tremaining: 3.83s\n",
            "80:\tlearn: 0.8693166\ttotal: 10.5s\tremaining: 2.46s\n",
            "90:\tlearn: 0.8780383\ttotal: 11.6s\tremaining: 1.15s\n",
            "99:\tlearn: 0.8847584\ttotal: 12.7s\tremaining: 0us\n",
            "Test Accuracy for reduced dataset (Lasso): 0.811\n"
          ]
        }
      ],
      "source": [
        "# Second Test - Reduced Dataset (Lasso)\n",
        "\n",
        "# Creating CatBoost Model\n",
        "model = CatBoostClassifier(iterations=100, learning_rate=0.1, depth=6, eval_metric=\"Accuracy\", random_state=42, verbose=10)\n",
        "# Model Training\n",
        "model.fit(XTrainLasso, yTrain.ravel()) # Flatten yTrain\n",
        "\n",
        "# Prediction on the test set\n",
        "y_pred = model.predict(XTestLasso)\n",
        "\n",
        "# Accuracy score Calculation\n",
        "accuracy = accuracy_score(yTest.ravel(), y_pred)  # Flatten yTest\n",
        "print(f\"Test Accuracy for reduced dataset (Lasso): {accuracy:.3f}\")"
      ]
    },
    {
      "cell_type": "code",
      "execution_count": null,
      "metadata": {
        "colab": {
          "base_uri": "https://localhost:8080/"
        },
        "id": "W_UMFVRrhUnd",
        "outputId": "a88d37ea-59a0-41d6-e9a1-8fad17316b6b"
      },
      "outputs": [
        {
          "name": "stdout",
          "output_type": "stream",
          "text": [
            "0:\tlearn: 0.6371175\ttotal: 442ms\tremaining: 43.8s\n",
            "10:\tlearn: 0.7249071\ttotal: 3.03s\tremaining: 24.5s\n",
            "20:\tlearn: 0.7596511\ttotal: 4.79s\tremaining: 18s\n",
            "30:\tlearn: 0.7833858\ttotal: 6.55s\tremaining: 14.6s\n",
            "40:\tlearn: 0.8054046\ttotal: 8.3s\tremaining: 11.9s\n",
            "50:\tlearn: 0.8171290\ttotal: 10.1s\tremaining: 9.67s\n",
            "60:\tlearn: 0.8269946\ttotal: 11.8s\tremaining: 7.55s\n",
            "70:\tlearn: 0.8378610\ttotal: 14.6s\tremaining: 5.96s\n",
            "80:\tlearn: 0.8494424\ttotal: 17.2s\tremaining: 4.04s\n",
            "90:\tlearn: 0.8570203\ttotal: 18.9s\tremaining: 1.87s\n",
            "99:\tlearn: 0.8640263\ttotal: 20.5s\tremaining: 0us\n",
            "Test Accuracy for reduced dataset (PCA - 90%): 0.798\n"
          ]
        }
      ],
      "source": [
        "# Third Test - Reduced Dataset (PCA - 90%)\n",
        "\n",
        "# Creating CatBoost Model\n",
        "model = CatBoostClassifier(iterations=100, learning_rate=0.1, depth=6, eval_metric=\"Accuracy\", random_state=42, verbose=10)\n",
        "# Model Training\n",
        "model.fit(XTrainPCA, yTrain.ravel()) # Flatten yTrain\n",
        "\n",
        "# Prediction on the test set\n",
        "y_pred = model.predict(XTestPCA)\n",
        "\n",
        "# Accuracy score Calculation\n",
        "accuracy = accuracy_score(yTest.ravel(), y_pred)  # Flatten yTest\n",
        "print(f\"Test Accuracy for reduced dataset (PCA - 90%): {accuracy:.3f}\")"
      ]
    },
    {
      "cell_type": "markdown",
      "metadata": {
        "id": "yKfRnO7zTQs9"
      },
      "source": [
        "#####  **KNN Classification**\n",
        "\n"
      ]
    },
    {
      "cell_type": "markdown",
      "metadata": {
        "id": "suRvus0NxE8z"
      },
      "source": [
        "###### **Nearest Neighbor with k=1 neighbor**"
      ]
    },
    {
      "cell_type": "code",
      "execution_count": null,
      "metadata": {
        "colab": {
          "base_uri": "https://localhost:8080/"
        },
        "id": "SQhaS_OQw-_K",
        "outputId": "cf4b8809-3cb8-497f-87a1-5d77cd4add95"
      },
      "outputs": [
        {
          "name": "stdout",
          "output_type": "stream",
          "text": [
            "Training time: 0.005 seconds\n",
            "\n",
            "Testing time: 0.607 seconds\n",
            "\n",
            "For the 1-NN classifier accuracy is: 0.787\n",
            "For the 1-NN classifier, F1 score is: 0.786\n"
          ]
        }
      ],
      "source": [
        "# First Test - Initial Dataset\n",
        "\n",
        "knn1Neighbor = KNeighborsClassifier(n_neighbors=1, p=2)   # Use Euclidean distance metric\n",
        "\n",
        "start = time.time()\n",
        "\n",
        "knn1Neighbor.fit(XTrain, yTrain.ravel())  # Flatten yTrain\n",
        "\n",
        "end = time.time()\n",
        "\n",
        "print(\"Training time: {:.3f} seconds\\n\".format(end-start))\n",
        "\n",
        "start = time.time()\n",
        "\n",
        "score = knn1Neighbor.score(XTest, yTest.ravel())  # Flatten yTest\n",
        "yPred = knn1Neighbor.predict(XTest)\n",
        "f1 = f1_score(yTest, yPred,average='weighted')  # Calculate F1 score\n",
        "\n",
        "end = time.time()\n",
        "print(\"Testing time: {:.3f} seconds\\n\".format(end-start))\n",
        "\n",
        "print(\"For the 1-NN classifier accuracy is: {:.3f}\".format(score))\n",
        "print(\"For the 1-NN classifier, F1 score is: {:.3f}\".format(f1))"
      ]
    },
    {
      "cell_type": "code",
      "execution_count": null,
      "metadata": {
        "colab": {
          "base_uri": "https://localhost:8080/"
        },
        "id": "GUM3ZtUOiApB",
        "outputId": "2ef32504-2c42-45cb-db7b-8d54bd738df8"
      },
      "outputs": [
        {
          "name": "stdout",
          "output_type": "stream",
          "text": [
            "Training time: 0.009 seconds\n",
            "\n",
            "Testing time: 0.443 seconds\n",
            "\n",
            "For the 1-NN classifier accuracy is: 0.779\n",
            "For the 1-NN classifier, F1 score is: 0.777\n"
          ]
        }
      ],
      "source": [
        "# Second Test - Reduced Dataset (Lasso)\n",
        "\n",
        "knn1Neighbor = KNeighborsClassifier(n_neighbors=1, p=2)   # Use Euclidean distance metric\n",
        "\n",
        "start = time.time()\n",
        "\n",
        "knn1Neighbor.fit(XTrainLasso, yTrain.ravel())  # Flatten yTrain\n",
        "\n",
        "end = time.time()\n",
        "\n",
        "print(\"Training time: {:.3f} seconds\\n\".format(end-start))\n",
        "\n",
        "start = time.time()\n",
        "\n",
        "score = knn1Neighbor.score(XTestLasso, yTest.ravel())  # Flatten yTest\n",
        "yPred = knn1Neighbor.predict(XTestLasso)\n",
        "f1 = f1_score(yTest, yPred,average='weighted')  # Calculate F1 score\n",
        "\n",
        "end = time.time()\n",
        "print(\"Testing time: {:.3f} seconds\\n\".format(end-start))\n",
        "\n",
        "print(\"For the 1-NN classifier accuracy is: {:.3f}\".format(score))\n",
        "print(\"For the 1-NN classifier, F1 score is: {:.3f}\".format(f1))"
      ]
    },
    {
      "cell_type": "code",
      "execution_count": null,
      "metadata": {
        "colab": {
          "base_uri": "https://localhost:8080/"
        },
        "id": "9hY1TOvBiNO5",
        "outputId": "48d11775-b570-4197-de4b-2e9d8b6b81f9"
      },
      "outputs": [
        {
          "name": "stdout",
          "output_type": "stream",
          "text": [
            "Training time: 0.003 seconds\n",
            "\n",
            "Testing time: 0.392 seconds\n",
            "\n",
            "For the 1-NN classifier accuracy is: 0.791\n",
            "For the 1-NN classifier, F1 score is: 0.789\n"
          ]
        }
      ],
      "source": [
        "# Third Test - Reduced Dataset (PCA - 90%)\n",
        "\n",
        "knn1Neighbor = KNeighborsClassifier(n_neighbors=1, p=2)   # Use Euclidean distance metric\n",
        "\n",
        "start = time.time()\n",
        "\n",
        "knn1Neighbor.fit(XTrainPCA, yTrain.ravel())  # Flatten yTrain\n",
        "\n",
        "end = time.time()\n",
        "\n",
        "print(\"Training time: {:.3f} seconds\\n\".format(end-start))\n",
        "\n",
        "start = time.time()\n",
        "\n",
        "score = knn1Neighbor.score(XTestPCA, yTest.ravel())  # Flatten yTest\n",
        "yPred = knn1Neighbor.predict(XTestPCA)\n",
        "f1 = f1_score(yTest, yPred,average='weighted')  # Calculate F1 score\n",
        "\n",
        "end = time.time()\n",
        "print(\"Testing time: {:.3f} seconds\\n\".format(end-start))\n",
        "\n",
        "print(\"For the 1-NN classifier accuracy is: {:.3f}\".format(score))\n",
        "print(\"For the 1-NN classifier, F1 score is: {:.3f}\".format(f1))"
      ]
    },
    {
      "cell_type": "markdown",
      "metadata": {
        "id": "hQSBh8akjDUm"
      },
      "source": [
        "###### **Nearest Neighbor with k=3 neighbors**\n",
        "\n",
        "\n"
      ]
    },
    {
      "cell_type": "code",
      "execution_count": null,
      "metadata": {
        "colab": {
          "base_uri": "https://localhost:8080/"
        },
        "id": "jdzxBeRwjVKE",
        "outputId": "08a3ad76-3dad-4287-8875-176b05f46559"
      },
      "outputs": [
        {
          "name": "stdout",
          "output_type": "stream",
          "text": [
            "Training time: 0.0036902427673339844 seconds\n",
            "\n",
            "Testing time: 0.499 seconds\n",
            "\n",
            "For the 3-NN classifier accuracy is: 0.803\n",
            "For the 3-NN classifier, F1 score is: 0.801\n"
          ]
        }
      ],
      "source": [
        "# First Test - Initial Dataset\n",
        "\n",
        "knn3Neighbors = KNeighborsClassifier(n_neighbors=3, p=2)      # Use Euclidean distance metric\n",
        "\n",
        "start = time.time()\n",
        "\n",
        "knn3Neighbors.fit(XTrain, yTrain.ravel())  # Flatten yTrain\n",
        "\n",
        "end = time.time()\n",
        "print(\"Training time: {} seconds\\n\".format(end-start))\n",
        "\n",
        "start = time.time()\n",
        "\n",
        "score = knn3Neighbors.score(XTest, yTest.ravel())  # Flatten yTest\n",
        "yPred = knn3Neighbors.predict(XTest)\n",
        "f1 = f1_score(yTest, yPred,average='weighted')  # Calculate F1 score\n",
        "\n",
        "end = time.time()\n",
        "print(\"Testing time: {:.3f} seconds\\n\".format(end-start))\n",
        "\n",
        "print(\"For the 3-NN classifier accuracy is: {:.3f}\".format(score))\n",
        "print(\"For the 3-NN classifier, F1 score is: {:.3f}\".format(f1))"
      ]
    },
    {
      "cell_type": "code",
      "execution_count": null,
      "metadata": {
        "colab": {
          "base_uri": "https://localhost:8080/"
        },
        "id": "-WvxNcNminn3",
        "outputId": "554cfa1a-9c56-4fa2-be17-b8445c0dab26"
      },
      "outputs": [
        {
          "name": "stdout",
          "output_type": "stream",
          "text": [
            "Training time: 0.009363412857055664 seconds\n",
            "\n",
            "Testing time: 0.488 seconds\n",
            "\n",
            "For the 3-NN classifier accuracy is: 0.792\n",
            "For the 3-NN classifier, F1 score is: 0.790\n"
          ]
        }
      ],
      "source": [
        "# Second Test - Reduced Dataset (Lasso)\n",
        "\n",
        "knn3Neighbors = KNeighborsClassifier(n_neighbors=3, p=2)      # Use Euclidean distance metric\n",
        "\n",
        "start = time.time()\n",
        "\n",
        "knn3Neighbors.fit(XTrainLasso, yTrain.ravel())  # Flatten yTrain\n",
        "\n",
        "end = time.time()\n",
        "print(\"Training time: {} seconds\\n\".format(end-start))\n",
        "\n",
        "start = time.time()\n",
        "\n",
        "score = knn3Neighbors.score(XTestLasso, yTest.ravel())  # Flatten yTest\n",
        "yPred = knn3Neighbors.predict(XTestLasso)\n",
        "f1 = f1_score(yTest, yPred,average='weighted')  # Calculate F1 score\n",
        "\n",
        "end = time.time()\n",
        "print(\"Testing time: {:.3f} seconds\\n\".format(end-start))\n",
        "\n",
        "print(\"For the 3-NN classifier accuracy is: {:.3f}\".format(score))\n",
        "print(\"For the 3-NN classifier, F1 score is: {:.3f}\".format(f1))"
      ]
    },
    {
      "cell_type": "code",
      "execution_count": null,
      "metadata": {
        "colab": {
          "base_uri": "https://localhost:8080/"
        },
        "id": "tp_o7MNjizxM",
        "outputId": "545e59ba-7c93-4f43-caca-36a36ab560ec"
      },
      "outputs": [
        {
          "name": "stdout",
          "output_type": "stream",
          "text": [
            "Training time: 0.003492116928100586 seconds\n",
            "\n",
            "Testing time: 0.499 seconds\n",
            "\n",
            "For the 3-NN classifier accuracy is: 0.804\n",
            "For the 3-NN classifier, F1 score is: 0.801\n"
          ]
        }
      ],
      "source": [
        "# Third Test - Reduced Dataset (PCA - 90%)\n",
        "\n",
        "knn3Neighbors = KNeighborsClassifier(n_neighbors=3, p=2)      # Use Euclidean distance metric\n",
        "\n",
        "start = time.time()\n",
        "\n",
        "knn3Neighbors.fit(XTrainPCA, yTrain.ravel())  # Flatten yTrain\n",
        "\n",
        "end = time.time()\n",
        "print(\"Training time: {} seconds\\n\".format(end-start))\n",
        "\n",
        "start = time.time()\n",
        "\n",
        "score = knn3Neighbors.score(XTestPCA, yTest.ravel())  # Flatten yTest\n",
        "yPred = knn3Neighbors.predict(XTestPCA)\n",
        "f1 = f1_score(yTest, yPred,average='weighted')  # Calculate F1 score\n",
        "\n",
        "end = time.time()\n",
        "print(\"Testing time: {:.3f} seconds\\n\".format(end-start))\n",
        "\n",
        "print(\"For the 3-NN classifier accuracy is: {:.3f}\".format(score))\n",
        "print(\"For the 3-NN classifier, F1 score is: {:.3f}\".format(f1))"
      ]
    },
    {
      "cell_type": "markdown",
      "metadata": {
        "id": "nWWGdOdHjjrC"
      },
      "source": [
        "######**Testing for a range of neighbors**"
      ]
    },
    {
      "cell_type": "code",
      "execution_count": null,
      "metadata": {
        "colab": {
          "base_uri": "https://localhost:8080/"
        },
        "id": "hE4PtTlEjkmi",
        "outputId": "9ef68a07-212a-46fb-f5c2-8086413ea258"
      },
      "outputs": [
        {
          "name": "stdout",
          "output_type": "stream",
          "text": [
            "Test Accuracy for initial dataset: 0.834\n"
          ]
        }
      ],
      "source": [
        "# First Test - Initial Dataset\n",
        "\n",
        "# Run training process for every k = 1, 2, ..., 30\n",
        "k_min = 1\n",
        "k_max = 30\n",
        "\n",
        "score_knn = []\n",
        "\n",
        "for k in range(k_min, k_max + 1):\n",
        "    # Train model\n",
        "    model_knn = KNeighborsClassifier(n_neighbors=k)\n",
        "    model_knn.fit(XTrain, yTrain.ravel())  # Flatten yTrain\n",
        "\n",
        "    # Calculate accuracy\n",
        "    score_knn.append(model_knn.score(XTest, yTest.ravel()))  # Flatten yTest\n",
        "\n",
        "accuracy = np.max(score_knn)\n",
        "print(f\"Test Accuracy for initial dataset: {accuracy:.3f}\")\n"
      ]
    },
    {
      "cell_type": "code",
      "execution_count": null,
      "metadata": {
        "colab": {
          "base_uri": "https://localhost:8080/"
        },
        "id": "9-A3RHf5jwjg",
        "outputId": "ba0f49be-c840-4d74-8cec-6c3eeb931858"
      },
      "outputs": [
        {
          "name": "stdout",
          "output_type": "stream",
          "text": [
            "Test Accuracy for reduced dataset (Lasso): 0.825\n"
          ]
        }
      ],
      "source": [
        "# Second Test - Reduced Dataset (Lasso)\n",
        "\n",
        "# Run training process for every k = 1, 2, ..., 30\n",
        "k_min = 1\n",
        "k_max = 30\n",
        "\n",
        "score_knn = []\n",
        "\n",
        "for k in range(k_min, k_max + 1):\n",
        "    # Train model\n",
        "    model_knn = KNeighborsClassifier(n_neighbors=k)\n",
        "    model_knn.fit(XTrainLasso, yTrain.ravel())  # Flatten yTrain\n",
        "\n",
        "    # Calculate accuracy\n",
        "    score_knn.append(model_knn.score(XTestLasso, yTest.ravel()))  # Flatten yTest\n",
        "\n",
        "accuracy = np.max(score_knn)\n",
        "print(f\"Test Accuracy for reduced dataset (Lasso): {accuracy:.3f}\")\n"
      ]
    },
    {
      "cell_type": "code",
      "execution_count": null,
      "metadata": {
        "colab": {
          "base_uri": "https://localhost:8080/"
        },
        "id": "6V4oJAR7kBur",
        "outputId": "ad99d634-504d-4d8c-b567-cb5912d9ba41"
      },
      "outputs": [
        {
          "name": "stdout",
          "output_type": "stream",
          "text": [
            "Test Accuracy for reduced dataset (PCA - 90%): 0.832\n"
          ]
        }
      ],
      "source": [
        "# Second Test - Reduced Dataset (PCA - 90%)\n",
        "\n",
        "# Run training process for every k = 1, 2, ..., 30\n",
        "k_min = 1\n",
        "k_max = 30\n",
        "\n",
        "score_knn = []\n",
        "\n",
        "for k in range(k_min, k_max + 1):\n",
        "    # Train model\n",
        "    model_knn = KNeighborsClassifier(n_neighbors=k)\n",
        "    model_knn.fit(XTrainPCA, yTrain.ravel())  # Flatten yTrain\n",
        "\n",
        "    # Calculate accuracy\n",
        "    score_knn.append(model_knn.score(XTestPCA, yTest.ravel()))  # Flatten yTest\n",
        "\n",
        "accuracy = np.max(score_knn)\n",
        "print(f\"Test Accuracy for reduced dataset (PCA - 90%): {accuracy:.3f}\")\n"
      ]
    },
    {
      "cell_type": "markdown",
      "metadata": {
        "id": "w0OZcI21Tmhu"
      },
      "source": [
        "## **Nearest Centroid Classification**"
      ]
    },
    {
      "cell_type": "markdown",
      "metadata": {
        "id": "XEhQZ0jL0D1s"
      },
      "source": [
        "### **Nearest Centroid Classifier with Euclidean Distance metric**"
      ]
    },
    {
      "cell_type": "code",
      "execution_count": null,
      "metadata": {
        "colab": {
          "base_uri": "https://localhost:8080/"
        },
        "id": "Z98dCCARgpST",
        "outputId": "2c2cf06b-e4f1-46aa-9f8b-872e6d13e287"
      },
      "outputs": [
        {
          "name": "stdout",
          "output_type": "stream",
          "text": [
            "224\n"
          ]
        }
      ],
      "source": [
        "yTrainLabels = yTrain\n",
        "yTestLabels = yTest\n",
        "numFeatures =XTrain.shape[1]\n",
        "print(numFeatures)"
      ]
    },
    {
      "cell_type": "code",
      "execution_count": null,
      "metadata": {
        "colab": {
          "base_uri": "https://localhost:8080/"
        },
        "id": "HyD7uOR7zhPn",
        "outputId": "18d166a7-1521-4b08-d464-395a91b864f9"
      },
      "outputs": [
        {
          "name": "stdout",
          "output_type": "stream",
          "text": [
            "Training time: 0.025 seconds\n",
            "\n",
            "Testing time: 0.014 seconds\n",
            "\n",
            "For the Nearest Centroid classifier accuracy is: 0.804\n",
            "For the Nearest Centroid classifier, F1 score is: 0.673\n"
          ]
        }
      ],
      "source": [
        "nearCentroid = NearestCentroid(metric='euclidean')\n",
        "\n",
        "start = time.time()\n",
        "\n",
        "nearCentroid.fit(XTrain, yTrain.ravel())\n",
        "\n",
        "end = time.time()\n",
        "print(\"Training time: {:.3f} seconds\\n\".format(end-start))\n",
        "\n",
        "start = time.time()\n",
        "\n",
        "scoreNearCentroid = nearCentroid.score(XTest,yTest.ravel())\n",
        "yPred = nearCentroid.predict(XTest)\n",
        "f1 = f1_score(yTest, yPred,average='weighted')  # Calculate F1 score\n",
        "\n",
        "end = time.time()\n",
        "print(\"Testing time: {:.3f} seconds\\n\".format(end-start))\n",
        "\n",
        "print(\"For the Nearest Centroid classifier accuracy is: {:.3f}\".format(score))\n",
        "print(\"For the Nearest Centroid classifier, F1 score is: {:.3f}\".format(f1))"
      ]
    },
    {
      "cell_type": "markdown",
      "metadata": {
        "id": "nK86e1ED0HnM"
      },
      "source": [
        "### **Nearest Centroid Classifier with Manhattan Distance metric**"
      ]
    },
    {
      "cell_type": "code",
      "execution_count": null,
      "metadata": {
        "colab": {
          "base_uri": "https://localhost:8080/"
        },
        "id": "YXBMlo1Qznds",
        "outputId": "c9141ae6-3067-4130-c4b3-4f6f3bbd675a"
      },
      "outputs": [
        {
          "name": "stdout",
          "output_type": "stream",
          "text": [
            "Training time: 0.039 seconds\n",
            "\n",
            "Testing time: 0.015 seconds\n",
            "\n",
            "For the Nearest Centroid classifier accuracy is: 0.804\n",
            "For the Nearest Centroid classifier, F1 score is: 0.690\n"
          ]
        }
      ],
      "source": [
        "nearCentroid = NearestCentroid(metric='manhattan')  # use manhattan distance metric\n",
        "\n",
        "start = time.time()\n",
        "\n",
        "nearCentroid.fit(XTrainPCA, yTrainLabels.ravel())\n",
        "\n",
        "end = time.time()\n",
        "print(\"Training time: {:.3f} seconds\\n\".format(end-start))\n",
        "\n",
        "start = time.time()\n",
        "\n",
        "scoreNearCentroid = nearCentroid.score(XTestPCA,yTestLabels.ravel())\n",
        "yPred = nearCentroid.predict(XTestPCA)\n",
        "f1 = f1_score(yTestLabels, yPred,average='weighted')  # Calculate F1 score\n",
        "\n",
        "end = time.time()\n",
        "print(\"Testing time: {:.3f} seconds\\n\".format(end-start))\n",
        "\n",
        "print(\"For the Nearest Centroid classifier accuracy is: {:.3f}\".format(score))\n",
        "print(\"For the Nearest Centroid classifier, F1 score is: {:.3f}\".format(f1))"
      ]
    },
    {
      "cell_type": "markdown",
      "metadata": {
        "id": "j8hh9t4lm_bt"
      },
      "source": [
        "Εκτιμάται ότι η αναζήτηση άλλων classifiers δεν προσφέρει ουσιαστικά οφέλη για το συγκεκριμένο πρόβλημα. Σημειώνεται πως με τον **XGBoost classifier** επιτεύχθηκε η καλύτερη ακρίβεια (0.840). Αντιθέτως, θεωρείται πως η χρήση **αλγορίθμων βαθιάς μάθησης** είναι η πιο κατάλληλη προσέγγιση, καθώς αναμένεται να αποδώσει τα καλύτερα δυνατά αποτελέσματα.\n",
        "\n",
        "Η χρήση ενός **νευρωνικού δικτύου** προκρίνεται ως μία ακόμα επιλογή, λόγω της ικανότητάς του να προσαρμόζεται σε σύνθετα προβλήματα και να παρέχει υψηλή απόδοση. Δεδομένου, ωστόσο, ότι ένα νευρωνικό δίκτυο αποτελεί μια γενική τεχνολογία με μεγάλο πλήθος παραμέτρων, αποφασίστηκε να περιοριστεί ο χώρος αναζήτησης στις αρχιτεκτονικές πλήρως συνδεδεμένων νευρωνικών δικτύων, προκειμένου να επιτευχθεί η βέλτιστη λύση.\n",
        "\n",
        "Επίσης, θα δοκιμαστεί η τεχνική των **Support Vector Machines** με διαφορετικές υπερπαραμετρους και τύπους πυρήνων.\n",
        "\n",
        "Τέλος, μετά το πέρας των δοκιμών που προηγήθηκαν, παρατηρείται πως η χρήση των dataset μειωμένης διαστασιμότητας δεν έχει ουσιαστική επίδραση στα αποτελέσματα και στην ακρίβεια της εκάστοτε ταξινόμησης. Για τον λόγο αυτό, στα επόμενα βήματα της εργασίας θα χρησιμοποιηθεί το αρχικό training dataset."
      ]
    },
    {
      "cell_type": "markdown",
      "metadata": {
        "id": "-eviTta26N-l"
      },
      "source": [
        "# **Multilayer Perceptron Neural Network**"
      ]
    },
    {
      "cell_type": "markdown",
      "metadata": {
        "id": "NoHSngEY1bh8"
      },
      "source": [
        "### **F1 score Calculation Function**"
      ]
    },
    {
      "cell_type": "markdown",
      "metadata": {
        "id": "S2LTMUstT390"
      },
      "source": [
        "Η συνάρτηση f1Score υπολογίζει το F1 score, έναν δείκτη που συνδυάζει το precision και το recall, δίνοντας μια ισορροπημένη μέτρηση της απόδοσης του μοντέλου. Χρησιμοποιεί τους true positives, predicted positives και possible positives για να υπολογίσει το recall και το precision, και στη συνέχεια επιστρέφει τον αρμονικό μέσο αυτών των δύο, αποφεύγοντας τη διαίρεση με το μηδέν μέσω της χρήσης ενός πολύ μικρού αριθμού (K.epsilon())."
      ]
    },
    {
      "cell_type": "code",
      "execution_count": null,
      "metadata": {
        "id": "uM5iRxjd1a2n"
      },
      "outputs": [],
      "source": [
        "def f1Score(yTrue, yPrediction):\n",
        "    truePositives = K.sum(K.round(K.clip(yTrue * yPrediction, 0, 1)))\n",
        "    predictedPositives = K.sum(K.round(K.clip(yPrediction, 0, 1)))\n",
        "    possiblePositives = K.sum(K.round(K.clip(yTrue, 0, 1)))\n",
        "\n",
        "    # Calculate recall\n",
        "    recall = truePositives / (possiblePositives+K.epsilon())\n",
        "    # Calculate precision\n",
        "    precision = truePositives / (predictedPositives+K.epsilon())\n",
        "\n",
        "    return 2*((precision*recall)/(precision+recall+K.epsilon()))\n"
      ]
    },
    {
      "cell_type": "markdown",
      "metadata": {
        "id": "z-waZfgLb45E"
      },
      "source": []
    },
    {
      "cell_type": "markdown",
      "metadata": {
        "id": "YXujACFSDCbI"
      },
      "source": [
        "### **MLP Model**"
      ]
    },
    {
      "cell_type": "markdown",
      "metadata": {
        "id": "SRO2JK-Nr1Rd"
      },
      "source": [
        "Η συνάρτηση MLP_Model δημιουργεί ένα πολυεπίπεδο perceptron (MLP) νευρωνικό δίκτυο, παρέχοντας δυνατότητες παραμετροποίησης ανάλογα με τις απαιτήσεις του προβλήματος. Ως είσοδος δίνεται το μέγεθος των χαρακτηριστικών του dataset (input_shape), ο αριθμός των κλάσεων εξόδου (numClasses), ο τύπος του optimizer (adam ή sgd), ο αριθμός των εποχών εκπαίδευσης (numEpochs) και η αρχική τιμή του learning rate (initial_learning_rate).\n",
        "\n",
        "Το μοντέλο βασίζεται στο Keras Sequential API και περιλαμβάνει ένα επίπεδο εισόδου (Dense) με ενεργοποίηση ReLU, κανονικοποίηση batch (BatchNormalization) και dropout για την αποφυγή υπερεκπαίδευσης. Ακολουθούν αρκετά κρυφά επίπεδα με συνάρτηση ενεργοποίησης ReLU, κανονικοποίηση batch και dropout. Το τελικό επίπεδο εξόδου αποτελείται από ένα πυκνό επίπεδο με αριθμό νευρώνων ίσο με τον αριθμό των κλάσεων και ενεργοποίηση Softmax, κατάλληλο για πολυκατηγορική ταξινόμηση.\n",
        "\n",
        "Ο ρυθμός εκμάθησης προσαρμόζεται δυναμικά μέσω ενός μηχανισμού Exponential Decay, που μειώνει την τιμή του learning rate σταδιακά κατά τη διάρκεια της εκπαίδευσης. Ανάλογα με την επιλογή του χρήστη, χρησιμοποιείται είτε ο Adam optimizer είτε ο SGD με momentum. Αν δοθεί μη έγκυρος optimizer, η συνάρτηση επιστρέφει εξαίρεση. Το μοντέλο συμπληρώνεται με απώλεια Categorical Crossentropy και μετρικές όπως accuracy και f1Score. Τέλος, η συνάρτηση επιστρέφει το πλήρως διαμορφωμένο και έτοιμο για εκπαίδευση μοντέλο μαζί με τον αριθμό των εποχών εκπαίδευσης."
      ]
    },
    {
      "cell_type": "code",
      "execution_count": null,
      "metadata": {
        "colab": {
          "base_uri": "https://localhost:8080/"
        },
        "id": "EdMN8LkbeD1A",
        "outputId": "e556be3a-7509-48e9-da45-0b2bd70a0927"
      },
      "outputs": [
        {
          "output_type": "stream",
          "name": "stdout",
          "text": [
            "Epoch 1/100\n",
            "\u001b[1m219/219\u001b[0m \u001b[32m━━━━━━━━━━━━━━━━━━━━\u001b[0m\u001b[37m\u001b[0m \u001b[1m9s\u001b[0m 20ms/step - accuracy: 0.6020 - f1_score: 0.5897 - loss: 1.1619 - val_accuracy: 0.8016 - val_f1_score: 0.8019 - val_loss: 0.6221\n",
            "Epoch 2/100\n",
            "\u001b[1m219/219\u001b[0m \u001b[32m━━━━━━━━━━━━━━━━━━━━\u001b[0m\u001b[37m\u001b[0m \u001b[1m6s\u001b[0m 26ms/step - accuracy: 0.7725 - f1_score: 0.7660 - loss: 0.5810 - val_accuracy: 0.8165 - val_f1_score: 0.8188 - val_loss: 0.5874\n",
            "Epoch 3/100\n",
            "\u001b[1m219/219\u001b[0m \u001b[32m━━━━━━━━━━━━━━━━━━━━\u001b[0m\u001b[37m\u001b[0m \u001b[1m9s\u001b[0m 20ms/step - accuracy: 0.8052 - f1_score: 0.8051 - loss: 0.4926 - val_accuracy: 0.8376 - val_f1_score: 0.8352 - val_loss: 0.4887\n",
            "Epoch 4/100\n",
            "\u001b[1m219/219\u001b[0m \u001b[32m━━━━━━━━━━━━━━━━━━━━\u001b[0m\u001b[37m\u001b[0m \u001b[1m7s\u001b[0m 27ms/step - accuracy: 0.8337 - f1_score: 0.8284 - loss: 0.4541 - val_accuracy: 0.8342 - val_f1_score: 0.8326 - val_loss: 0.4811\n",
            "Epoch 5/100\n",
            "\u001b[1m219/219\u001b[0m \u001b[32m━━━━━━━━━━━━━━━━━━━━\u001b[0m\u001b[37m\u001b[0m \u001b[1m9s\u001b[0m 22ms/step - accuracy: 0.8501 - f1_score: 0.8468 - loss: 0.4107 - val_accuracy: 0.8416 - val_f1_score: 0.8414 - val_loss: 0.4414\n",
            "Epoch 6/100\n",
            "\u001b[1m219/219\u001b[0m \u001b[32m━━━━━━━━━━━━━━━━━━━━\u001b[0m\u001b[37m\u001b[0m \u001b[1m5s\u001b[0m 25ms/step - accuracy: 0.8472 - f1_score: 0.8438 - loss: 0.4035 - val_accuracy: 0.8508 - val_f1_score: 0.8516 - val_loss: 0.4181\n",
            "Epoch 7/100\n",
            "\u001b[1m219/219\u001b[0m \u001b[32m━━━━━━━━━━━━━━━━━━━━\u001b[0m\u001b[37m\u001b[0m \u001b[1m4s\u001b[0m 20ms/step - accuracy: 0.8684 - f1_score: 0.8658 - loss: 0.3482 - val_accuracy: 0.8399 - val_f1_score: 0.8386 - val_loss: 0.4409\n",
            "Epoch 8/100\n",
            "\u001b[1m219/219\u001b[0m \u001b[32m━━━━━━━━━━━━━━━━━━━━\u001b[0m\u001b[37m\u001b[0m \u001b[1m6s\u001b[0m 25ms/step - accuracy: 0.8667 - f1_score: 0.8661 - loss: 0.3476 - val_accuracy: 0.8411 - val_f1_score: 0.8405 - val_loss: 0.4555\n",
            "Epoch 9/100\n",
            "\u001b[1m219/219\u001b[0m \u001b[32m━━━━━━━━━━━━━━━━━━━━\u001b[0m\u001b[37m\u001b[0m \u001b[1m4s\u001b[0m 19ms/step - accuracy: 0.8693 - f1_score: 0.8695 - loss: 0.3536 - val_accuracy: 0.8473 - val_f1_score: 0.8463 - val_loss: 0.4295\n",
            "Epoch 10/100\n",
            "\u001b[1m219/219\u001b[0m \u001b[32m━━━━━━━━━━━━━━━━━━━━\u001b[0m\u001b[37m\u001b[0m \u001b[1m4s\u001b[0m 18ms/step - accuracy: 0.8791 - f1_score: 0.8825 - loss: 0.3296 - val_accuracy: 0.8496 - val_f1_score: 0.8489 - val_loss: 0.4390\n",
            "Epoch 11/100\n",
            "\u001b[1m219/219\u001b[0m \u001b[32m━━━━━━━━━━━━━━━━━━━━\u001b[0m\u001b[37m\u001b[0m \u001b[1m5s\u001b[0m 23ms/step - accuracy: 0.8985 - f1_score: 0.8974 - loss: 0.2708 - val_accuracy: 0.8548 - val_f1_score: 0.8540 - val_loss: 0.4083\n",
            "Epoch 12/100\n",
            "\u001b[1m219/219\u001b[0m \u001b[32m━━━━━━━━━━━━━━━━━━━━\u001b[0m\u001b[37m\u001b[0m \u001b[1m4s\u001b[0m 20ms/step - accuracy: 0.9005 - f1_score: 0.8998 - loss: 0.2767 - val_accuracy: 0.8479 - val_f1_score: 0.8461 - val_loss: 0.4542\n",
            "Epoch 13/100\n",
            "\u001b[1m219/219\u001b[0m \u001b[32m━━━━━━━━━━━━━━━━━━━━\u001b[0m\u001b[37m\u001b[0m \u001b[1m5s\u001b[0m 17ms/step - accuracy: 0.8946 - f1_score: 0.8922 - loss: 0.3083 - val_accuracy: 0.8365 - val_f1_score: 0.8384 - val_loss: 0.4944\n",
            "Epoch 14/100\n",
            "\u001b[1m219/219\u001b[0m \u001b[32m━━━━━━━━━━━━━━━━━━━━\u001b[0m\u001b[37m\u001b[0m \u001b[1m7s\u001b[0m 25ms/step - accuracy: 0.9034 - f1_score: 0.9021 - loss: 0.2709 - val_accuracy: 0.8456 - val_f1_score: 0.8466 - val_loss: 0.4950\n",
            "Epoch 15/100\n",
            "\u001b[1m219/219\u001b[0m \u001b[32m━━━━━━━━━━━━━━━━━━━━\u001b[0m\u001b[37m\u001b[0m \u001b[1m9s\u001b[0m 18ms/step - accuracy: 0.9164 - f1_score: 0.9158 - loss: 0.2401 - val_accuracy: 0.8462 - val_f1_score: 0.8454 - val_loss: 0.4802\n",
            "Epoch 16/100\n",
            "\u001b[1m219/219\u001b[0m \u001b[32m━━━━━━━━━━━━━━━━━━━━\u001b[0m\u001b[37m\u001b[0m \u001b[1m7s\u001b[0m 26ms/step - accuracy: 0.9126 - f1_score: 0.9112 - loss: 0.2470 - val_accuracy: 0.8393 - val_f1_score: 0.8399 - val_loss: 0.4978\n",
            "Epoch 17/100\n",
            "\u001b[1m219/219\u001b[0m \u001b[32m━━━━━━━━━━━━━━━━━━━━\u001b[0m\u001b[37m\u001b[0m \u001b[1m9s\u001b[0m 19ms/step - accuracy: 0.9117 - f1_score: 0.9133 - loss: 0.2464 - val_accuracy: 0.8513 - val_f1_score: 0.8520 - val_loss: 0.4343\n",
            "Epoch 18/100\n",
            "\u001b[1m219/219\u001b[0m \u001b[32m━━━━━━━━━━━━━━━━━━━━\u001b[0m\u001b[37m\u001b[0m \u001b[1m6s\u001b[0m 23ms/step - accuracy: 0.9185 - f1_score: 0.9179 - loss: 0.2317 - val_accuracy: 0.8462 - val_f1_score: 0.8455 - val_loss: 0.4577\n",
            "Epoch 19/100\n",
            "\u001b[1m219/219\u001b[0m \u001b[32m━━━━━━━━━━━━━━━━━━━━\u001b[0m\u001b[37m\u001b[0m \u001b[1m4s\u001b[0m 16ms/step - accuracy: 0.9288 - f1_score: 0.9278 - loss: 0.2071 - val_accuracy: 0.8502 - val_f1_score: 0.8516 - val_loss: 0.5138\n",
            "Epoch 20/100\n",
            "\u001b[1m219/219\u001b[0m \u001b[32m━━━━━━━━━━━━━━━━━━━━\u001b[0m\u001b[37m\u001b[0m \u001b[1m6s\u001b[0m 19ms/step - accuracy: 0.9342 - f1_score: 0.9331 - loss: 0.1920 - val_accuracy: 0.8479 - val_f1_score: 0.8480 - val_loss: 0.4994\n",
            "Epoch 21/100\n",
            "\u001b[1m219/219\u001b[0m \u001b[32m━━━━━━━━━━━━━━━━━━━━\u001b[0m\u001b[37m\u001b[0m \u001b[1m6s\u001b[0m 21ms/step - accuracy: 0.9371 - f1_score: 0.9375 - loss: 0.1900 - val_accuracy: 0.8473 - val_f1_score: 0.8487 - val_loss: 0.4878\n",
            "Epoch 22/100\n",
            "\u001b[1m219/219\u001b[0m \u001b[32m━━━━━━━━━━━━━━━━━━━━\u001b[0m\u001b[37m\u001b[0m \u001b[1m4s\u001b[0m 16ms/step - accuracy: 0.9344 - f1_score: 0.9340 - loss: 0.2050 - val_accuracy: 0.8548 - val_f1_score: 0.8545 - val_loss: 0.4811\n",
            "Epoch 23/100\n",
            "\u001b[1m219/219\u001b[0m \u001b[32m━━━━━━━━━━━━━━━━━━━━\u001b[0m\u001b[37m\u001b[0m \u001b[1m7s\u001b[0m 24ms/step - accuracy: 0.9381 - f1_score: 0.9379 - loss: 0.1853 - val_accuracy: 0.8479 - val_f1_score: 0.8470 - val_loss: 0.5098\n",
            "Epoch 24/100\n",
            "\u001b[1m219/219\u001b[0m \u001b[32m━━━━━━━━━━━━━━━━━━━━\u001b[0m\u001b[37m\u001b[0m \u001b[1m9s\u001b[0m 20ms/step - accuracy: 0.9446 - f1_score: 0.9439 - loss: 0.1607 - val_accuracy: 0.8473 - val_f1_score: 0.8478 - val_loss: 0.5221\n",
            "Epoch 25/100\n",
            "\u001b[1m219/219\u001b[0m \u001b[32m━━━━━━━━━━━━━━━━━━━━\u001b[0m\u001b[37m\u001b[0m \u001b[1m8s\u001b[0m 32ms/step - accuracy: 0.9509 - f1_score: 0.9523 - loss: 0.1444 - val_accuracy: 0.8542 - val_f1_score: 0.8523 - val_loss: 0.5130\n",
            "Epoch 26/100\n",
            "\u001b[1m219/219\u001b[0m \u001b[32m━━━━━━━━━━━━━━━━━━━━\u001b[0m\u001b[37m\u001b[0m \u001b[1m7s\u001b[0m 17ms/step - accuracy: 0.9519 - f1_score: 0.9528 - loss: 0.1463 - val_accuracy: 0.8548 - val_f1_score: 0.8550 - val_loss: 0.5712\n",
            "Epoch 27/100\n",
            "\u001b[1m219/219\u001b[0m \u001b[32m━━━━━━━━━━━━━━━━━━━━\u001b[0m\u001b[37m\u001b[0m \u001b[1m7s\u001b[0m 24ms/step - accuracy: 0.9480 - f1_score: 0.9471 - loss: 0.1516 - val_accuracy: 0.8571 - val_f1_score: 0.8576 - val_loss: 0.5037\n",
            "Epoch 28/100\n",
            "\u001b[1m219/219\u001b[0m \u001b[32m━━━━━━━━━━━━━━━━━━━━\u001b[0m\u001b[37m\u001b[0m \u001b[1m4s\u001b[0m 19ms/step - accuracy: 0.9584 - f1_score: 0.9581 - loss: 0.1254 - val_accuracy: 0.8571 - val_f1_score: 0.8578 - val_loss: 0.5076\n",
            "Epoch 29/100\n",
            "\u001b[1m219/219\u001b[0m \u001b[32m━━━━━━━━━━━━━━━━━━━━\u001b[0m\u001b[37m\u001b[0m \u001b[1m5s\u001b[0m 17ms/step - accuracy: 0.9576 - f1_score: 0.9581 - loss: 0.1222 - val_accuracy: 0.8576 - val_f1_score: 0.8575 - val_loss: 0.5393\n",
            "Epoch 30/100\n",
            "\u001b[1m219/219\u001b[0m \u001b[32m━━━━━━━━━━━━━━━━━━━━\u001b[0m\u001b[37m\u001b[0m \u001b[1m6s\u001b[0m 25ms/step - accuracy: 0.9598 - f1_score: 0.9599 - loss: 0.1212 - val_accuracy: 0.8651 - val_f1_score: 0.8646 - val_loss: 0.5402\n",
            "Epoch 31/100\n",
            "\u001b[1m219/219\u001b[0m \u001b[32m━━━━━━━━━━━━━━━━━━━━\u001b[0m\u001b[37m\u001b[0m \u001b[1m4s\u001b[0m 18ms/step - accuracy: 0.9588 - f1_score: 0.9572 - loss: 0.1225 - val_accuracy: 0.8651 - val_f1_score: 0.8655 - val_loss: 0.5425\n",
            "Epoch 32/100\n",
            "\u001b[1m219/219\u001b[0m \u001b[32m━━━━━━━━━━━━━━━━━━━━\u001b[0m\u001b[37m\u001b[0m \u001b[1m4s\u001b[0m 18ms/step - accuracy: 0.9614 - f1_score: 0.9610 - loss: 0.1149 - val_accuracy: 0.8513 - val_f1_score: 0.8508 - val_loss: 0.5232\n",
            "Epoch 33/100\n",
            "\u001b[1m219/219\u001b[0m \u001b[32m━━━━━━━━━━━━━━━━━━━━\u001b[0m\u001b[37m\u001b[0m \u001b[1m5s\u001b[0m 23ms/step - accuracy: 0.9690 - f1_score: 0.9684 - loss: 0.1074 - val_accuracy: 0.8479 - val_f1_score: 0.8470 - val_loss: 0.6498\n",
            "Epoch 34/100\n",
            "\u001b[1m219/219\u001b[0m \u001b[32m━━━━━━━━━━━━━━━━━━━━\u001b[0m\u001b[37m\u001b[0m \u001b[1m6s\u001b[0m 26ms/step - accuracy: 0.9653 - f1_score: 0.9662 - loss: 0.1059 - val_accuracy: 0.8548 - val_f1_score: 0.8537 - val_loss: 0.5919\n",
            "Epoch 35/100\n",
            "\u001b[1m219/219\u001b[0m \u001b[32m━━━━━━━━━━━━━━━━━━━━\u001b[0m\u001b[37m\u001b[0m \u001b[1m9s\u001b[0m 22ms/step - accuracy: 0.9683 - f1_score: 0.9675 - loss: 0.0975 - val_accuracy: 0.8559 - val_f1_score: 0.8570 - val_loss: 0.5669\n",
            "Epoch 36/100\n",
            "\u001b[1m219/219\u001b[0m \u001b[32m━━━━━━━━━━━━━━━━━━━━\u001b[0m\u001b[37m\u001b[0m \u001b[1m5s\u001b[0m 21ms/step - accuracy: 0.9619 - f1_score: 0.9611 - loss: 0.1128 - val_accuracy: 0.8616 - val_f1_score: 0.8612 - val_loss: 0.4950\n",
            "Epoch 37/100\n",
            "\u001b[1m219/219\u001b[0m \u001b[32m━━━━━━━━━━━━━━━━━━━━\u001b[0m\u001b[37m\u001b[0m \u001b[1m4s\u001b[0m 18ms/step - accuracy: 0.9680 - f1_score: 0.9674 - loss: 0.1128 - val_accuracy: 0.8599 - val_f1_score: 0.8602 - val_loss: 0.5176\n",
            "Epoch 38/100\n",
            "\u001b[1m219/219\u001b[0m \u001b[32m━━━━━━━━━━━━━━━━━━━━\u001b[0m\u001b[37m\u001b[0m \u001b[1m4s\u001b[0m 18ms/step - accuracy: 0.9743 - f1_score: 0.9742 - loss: 0.0794 - val_accuracy: 0.8542 - val_f1_score: 0.8548 - val_loss: 0.6402\n",
            "Epoch 39/100\n",
            "\u001b[1m219/219\u001b[0m \u001b[32m━━━━━━━━━━━━━━━━━━━━\u001b[0m\u001b[37m\u001b[0m \u001b[1m6s\u001b[0m 20ms/step - accuracy: 0.9723 - f1_score: 0.9723 - loss: 0.0775 - val_accuracy: 0.8531 - val_f1_score: 0.8540 - val_loss: 0.6242\n",
            "Epoch 40/100\n",
            "\u001b[1m219/219\u001b[0m \u001b[32m━━━━━━━━━━━━━━━━━━━━\u001b[0m\u001b[37m\u001b[0m \u001b[1m4s\u001b[0m 17ms/step - accuracy: 0.9736 - f1_score: 0.9731 - loss: 0.0804 - val_accuracy: 0.8531 - val_f1_score: 0.8520 - val_loss: 0.6125\n",
            "Epoch 41/100\n",
            "\u001b[1m219/219\u001b[0m \u001b[32m━━━━━━━━━━━━━━━━━━━━\u001b[0m\u001b[37m\u001b[0m \u001b[1m6s\u001b[0m 22ms/step - accuracy: 0.9706 - f1_score: 0.9711 - loss: 0.0920 - val_accuracy: 0.8565 - val_f1_score: 0.8551 - val_loss: 0.6147\n",
            "Epoch 42/100\n",
            "\u001b[1m219/219\u001b[0m \u001b[32m━━━━━━━━━━━━━━━━━━━━\u001b[0m\u001b[37m\u001b[0m \u001b[1m4s\u001b[0m 20ms/step - accuracy: 0.9763 - f1_score: 0.9759 - loss: 0.0731 - val_accuracy: 0.8536 - val_f1_score: 0.8523 - val_loss: 0.6075\n",
            "Epoch 43/100\n",
            "\u001b[1m219/219\u001b[0m \u001b[32m━━━━━━━━━━━━━━━━━━━━\u001b[0m\u001b[37m\u001b[0m \u001b[1m4s\u001b[0m 17ms/step - accuracy: 0.9764 - f1_score: 0.9772 - loss: 0.0698 - val_accuracy: 0.8496 - val_f1_score: 0.8485 - val_loss: 0.5723\n",
            "Epoch 44/100\n",
            "\u001b[1m219/219\u001b[0m \u001b[32m━━━━━━━━━━━━━━━━━━━━\u001b[0m\u001b[37m\u001b[0m \u001b[1m5s\u001b[0m 21ms/step - accuracy: 0.9791 - f1_score: 0.9789 - loss: 0.0636 - val_accuracy: 0.8576 - val_f1_score: 0.8581 - val_loss: 0.6500\n",
            "Epoch 45/100\n",
            "\u001b[1m219/219\u001b[0m \u001b[32m━━━━━━━━━━━━━━━━━━━━\u001b[0m\u001b[37m\u001b[0m \u001b[1m5s\u001b[0m 23ms/step - accuracy: 0.9755 - f1_score: 0.9755 - loss: 0.0760 - val_accuracy: 0.8548 - val_f1_score: 0.8563 - val_loss: 0.5878\n",
            "Epoch 46/100\n",
            "\u001b[1m219/219\u001b[0m \u001b[32m━━━━━━━━━━━━━━━━━━━━\u001b[0m\u001b[37m\u001b[0m \u001b[1m9s\u001b[0m 18ms/step - accuracy: 0.9733 - f1_score: 0.9735 - loss: 0.0743 - val_accuracy: 0.8588 - val_f1_score: 0.8578 - val_loss: 0.6339\n",
            "Epoch 47/100\n",
            "\u001b[1m219/219\u001b[0m \u001b[32m━━━━━━━━━━━━━━━━━━━━\u001b[0m\u001b[37m\u001b[0m \u001b[1m5s\u001b[0m 19ms/step - accuracy: 0.9783 - f1_score: 0.9781 - loss: 0.0645 - val_accuracy: 0.8548 - val_f1_score: 0.8550 - val_loss: 0.6014\n",
            "Epoch 48/100\n",
            "\u001b[1m219/219\u001b[0m \u001b[32m━━━━━━━━━━━━━━━━━━━━\u001b[0m\u001b[37m\u001b[0m \u001b[1m4s\u001b[0m 17ms/step - accuracy: 0.9825 - f1_score: 0.9831 - loss: 0.0584 - val_accuracy: 0.8605 - val_f1_score: 0.8595 - val_loss: 0.6103\n",
            "Epoch 49/100\n",
            "\u001b[1m219/219\u001b[0m \u001b[32m━━━━━━━━━━━━━━━━━━━━\u001b[0m\u001b[37m\u001b[0m \u001b[1m6s\u001b[0m 22ms/step - accuracy: 0.9832 - f1_score: 0.9829 - loss: 0.0480 - val_accuracy: 0.8582 - val_f1_score: 0.8588 - val_loss: 0.6534\n",
            "Epoch 50/100\n",
            "\u001b[1m219/219\u001b[0m \u001b[32m━━━━━━━━━━━━━━━━━━━━\u001b[0m\u001b[37m\u001b[0m \u001b[1m4s\u001b[0m 19ms/step - accuracy: 0.9836 - f1_score: 0.9835 - loss: 0.0523 - val_accuracy: 0.8565 - val_f1_score: 0.8560 - val_loss: 0.6486\n",
            "Epoch 51/100\n",
            "\u001b[1m219/219\u001b[0m \u001b[32m━━━━━━━━━━━━━━━━━━━━\u001b[0m\u001b[37m\u001b[0m \u001b[1m5s\u001b[0m 16ms/step - accuracy: 0.9824 - f1_score: 0.9827 - loss: 0.0485 - val_accuracy: 0.8548 - val_f1_score: 0.8550 - val_loss: 0.6292\n",
            "Epoch 52/100\n",
            "\u001b[1m219/219\u001b[0m \u001b[32m━━━━━━━━━━━━━━━━━━━━\u001b[0m\u001b[37m\u001b[0m \u001b[1m7s\u001b[0m 23ms/step - accuracy: 0.9793 - f1_score: 0.9792 - loss: 0.0554 - val_accuracy: 0.8639 - val_f1_score: 0.8639 - val_loss: 0.6110\n",
            "Epoch 53/100\n",
            "\u001b[1m219/219\u001b[0m \u001b[32m━━━━━━━━━━━━━━━━━━━━\u001b[0m\u001b[37m\u001b[0m \u001b[1m9s\u001b[0m 18ms/step - accuracy: 0.9825 - f1_score: 0.9823 - loss: 0.0521 - val_accuracy: 0.8588 - val_f1_score: 0.8584 - val_loss: 0.6518\n",
            "Epoch 54/100\n",
            "\u001b[1m219/219\u001b[0m \u001b[32m━━━━━━━━━━━━━━━━━━━━\u001b[0m\u001b[37m\u001b[0m \u001b[1m6s\u001b[0m 27ms/step - accuracy: 0.9822 - f1_score: 0.9825 - loss: 0.0630 - val_accuracy: 0.8622 - val_f1_score: 0.8627 - val_loss: 0.6254\n",
            "Epoch 55/100\n",
            "\u001b[1m219/219\u001b[0m \u001b[32m━━━━━━━━━━━━━━━━━━━━\u001b[0m\u001b[37m\u001b[0m \u001b[1m4s\u001b[0m 18ms/step - accuracy: 0.9854 - f1_score: 0.9851 - loss: 0.0485 - val_accuracy: 0.8645 - val_f1_score: 0.8652 - val_loss: 0.6259\n",
            "Epoch 56/100\n",
            "\u001b[1m219/219\u001b[0m \u001b[32m━━━━━━━━━━━━━━━━━━━━\u001b[0m\u001b[37m\u001b[0m \u001b[1m5s\u001b[0m 17ms/step - accuracy: 0.9860 - f1_score: 0.9855 - loss: 0.0432 - val_accuracy: 0.8582 - val_f1_score: 0.8580 - val_loss: 0.6366\n",
            "Epoch 57/100\n",
            "\u001b[1m219/219\u001b[0m \u001b[32m━━━━━━━━━━━━━━━━━━━━\u001b[0m\u001b[37m\u001b[0m \u001b[1m7s\u001b[0m 25ms/step - accuracy: 0.9869 - f1_score: 0.9868 - loss: 0.0408 - val_accuracy: 0.8433 - val_f1_score: 0.8438 - val_loss: 0.6124\n",
            "Epoch 58/100\n",
            "\u001b[1m219/219\u001b[0m \u001b[32m━━━━━━━━━━━━━━━━━━━━\u001b[0m\u001b[37m\u001b[0m \u001b[1m9s\u001b[0m 18ms/step - accuracy: 0.9839 - f1_score: 0.9838 - loss: 0.0491 - val_accuracy: 0.8685 - val_f1_score: 0.8696 - val_loss: 0.6557\n",
            "Epoch 59/100\n",
            "\u001b[1m219/219\u001b[0m \u001b[32m━━━━━━━━━━━━━━━━━━━━\u001b[0m\u001b[37m\u001b[0m \u001b[1m6s\u001b[0m 23ms/step - accuracy: 0.9879 - f1_score: 0.9876 - loss: 0.0419 - val_accuracy: 0.8605 - val_f1_score: 0.8592 - val_loss: 0.6824\n",
            "Epoch 60/100\n",
            "\u001b[1m219/219\u001b[0m \u001b[32m━━━━━━━━━━━━━━━━━━━━\u001b[0m\u001b[37m\u001b[0m \u001b[1m10s\u001b[0m 23ms/step - accuracy: 0.9850 - f1_score: 0.9857 - loss: 0.0415 - val_accuracy: 0.8588 - val_f1_score: 0.8597 - val_loss: 0.6685\n",
            "Epoch 61/100\n",
            "\u001b[1m219/219\u001b[0m \u001b[32m━━━━━━━━━━━━━━━━━━━━\u001b[0m\u001b[37m\u001b[0m \u001b[1m5s\u001b[0m 23ms/step - accuracy: 0.9861 - f1_score: 0.9861 - loss: 0.0441 - val_accuracy: 0.8645 - val_f1_score: 0.8634 - val_loss: 0.6295\n",
            "Epoch 62/100\n",
            "\u001b[1m219/219\u001b[0m \u001b[32m━━━━━━━━━━━━━━━━━━━━\u001b[0m\u001b[37m\u001b[0m \u001b[1m4s\u001b[0m 19ms/step - accuracy: 0.9894 - f1_score: 0.9894 - loss: 0.0321 - val_accuracy: 0.8588 - val_f1_score: 0.8596 - val_loss: 0.6913\n",
            "Epoch 63/100\n",
            "\u001b[1m219/219\u001b[0m \u001b[32m━━━━━━━━━━━━━━━━━━━━\u001b[0m\u001b[37m\u001b[0m \u001b[1m6s\u001b[0m 24ms/step - accuracy: 0.9879 - f1_score: 0.9879 - loss: 0.0378 - val_accuracy: 0.8519 - val_f1_score: 0.8517 - val_loss: 0.7082\n",
            "Epoch 64/100\n",
            "\u001b[1m219/219\u001b[0m \u001b[32m━━━━━━━━━━━━━━━━━━━━\u001b[0m\u001b[37m\u001b[0m \u001b[1m9s\u001b[0m 17ms/step - accuracy: 0.9895 - f1_score: 0.9894 - loss: 0.0331 - val_accuracy: 0.8588 - val_f1_score: 0.8591 - val_loss: 0.6967\n",
            "Epoch 65/100\n",
            "\u001b[1m219/219\u001b[0m \u001b[32m━━━━━━━━━━━━━━━━━━━━\u001b[0m\u001b[37m\u001b[0m \u001b[1m7s\u001b[0m 27ms/step - accuracy: 0.9860 - f1_score: 0.9864 - loss: 0.0398 - val_accuracy: 0.8548 - val_f1_score: 0.8540 - val_loss: 0.6989\n",
            "Epoch 66/100\n",
            "\u001b[1m219/219\u001b[0m \u001b[32m━━━━━━━━━━━━━━━━━━━━\u001b[0m\u001b[37m\u001b[0m \u001b[1m4s\u001b[0m 18ms/step - accuracy: 0.9890 - f1_score: 0.9891 - loss: 0.0335 - val_accuracy: 0.8571 - val_f1_score: 0.8567 - val_loss: 0.6473\n",
            "Epoch 67/100\n",
            "\u001b[1m219/219\u001b[0m \u001b[32m━━━━━━━━━━━━━━━━━━━━\u001b[0m\u001b[37m\u001b[0m \u001b[1m5s\u001b[0m 18ms/step - accuracy: 0.9888 - f1_score: 0.9893 - loss: 0.0317 - val_accuracy: 0.8622 - val_f1_score: 0.8628 - val_loss: 0.6845\n",
            "Epoch 68/100\n",
            "\u001b[1m219/219\u001b[0m \u001b[32m━━━━━━━━━━━━━━━━━━━━\u001b[0m\u001b[37m\u001b[0m \u001b[1m6s\u001b[0m 26ms/step - accuracy: 0.9907 - f1_score: 0.9908 - loss: 0.0296 - val_accuracy: 0.8576 - val_f1_score: 0.8568 - val_loss: 0.7034\n",
            "Epoch 69/100\n",
            "\u001b[1m219/219\u001b[0m \u001b[32m━━━━━━━━━━━━━━━━━━━━\u001b[0m\u001b[37m\u001b[0m \u001b[1m9s\u001b[0m 18ms/step - accuracy: 0.9888 - f1_score: 0.9889 - loss: 0.0380 - val_accuracy: 0.8679 - val_f1_score: 0.8671 - val_loss: 0.6788\n",
            "Epoch 70/100\n",
            "\u001b[1m219/219\u001b[0m \u001b[32m━━━━━━━━━━━━━━━━━━━━\u001b[0m\u001b[37m\u001b[0m \u001b[1m7s\u001b[0m 28ms/step - accuracy: 0.9901 - f1_score: 0.9901 - loss: 0.0320 - val_accuracy: 0.8611 - val_f1_score: 0.8609 - val_loss: 0.6963\n",
            "Epoch 71/100\n",
            "\u001b[1m219/219\u001b[0m \u001b[32m━━━━━━━━━━━━━━━━━━━━\u001b[0m\u001b[37m\u001b[0m \u001b[1m5s\u001b[0m 21ms/step - accuracy: 0.9916 - f1_score: 0.9915 - loss: 0.0279 - val_accuracy: 0.8628 - val_f1_score: 0.8628 - val_loss: 0.6928\n",
            "Epoch 72/100\n",
            "\u001b[1m219/219\u001b[0m \u001b[32m━━━━━━━━━━━━━━━━━━━━\u001b[0m\u001b[37m\u001b[0m \u001b[1m5s\u001b[0m 19ms/step - accuracy: 0.9906 - f1_score: 0.9906 - loss: 0.0300 - val_accuracy: 0.8639 - val_f1_score: 0.8631 - val_loss: 0.6639\n",
            "Epoch 73/100\n",
            "\u001b[1m219/219\u001b[0m \u001b[32m━━━━━━━━━━━━━━━━━━━━\u001b[0m\u001b[37m\u001b[0m \u001b[1m6s\u001b[0m 26ms/step - accuracy: 0.9927 - f1_score: 0.9926 - loss: 0.0265 - val_accuracy: 0.8634 - val_f1_score: 0.8630 - val_loss: 0.6784\n",
            "Epoch 74/100\n",
            "\u001b[1m219/219\u001b[0m \u001b[32m━━━━━━━━━━━━━━━━━━━━\u001b[0m\u001b[37m\u001b[0m \u001b[1m9s\u001b[0m 19ms/step - accuracy: 0.9931 - f1_score: 0.9931 - loss: 0.0201 - val_accuracy: 0.8622 - val_f1_score: 0.8620 - val_loss: 0.6739\n",
            "Epoch 75/100\n",
            "\u001b[1m219/219\u001b[0m \u001b[32m━━━━━━━━━━━━━━━━━━━━\u001b[0m\u001b[37m\u001b[0m \u001b[1m6s\u001b[0m 26ms/step - accuracy: 0.9929 - f1_score: 0.9930 - loss: 0.0226 - val_accuracy: 0.8668 - val_f1_score: 0.8668 - val_loss: 0.7263\n",
            "Epoch 76/100\n",
            "\u001b[1m219/219\u001b[0m \u001b[32m━━━━━━━━━━━━━━━━━━━━\u001b[0m\u001b[37m\u001b[0m \u001b[1m4s\u001b[0m 18ms/step - accuracy: 0.9933 - f1_score: 0.9933 - loss: 0.0211 - val_accuracy: 0.8616 - val_f1_score: 0.8610 - val_loss: 0.6900\n",
            "Epoch 77/100\n",
            "\u001b[1m219/219\u001b[0m \u001b[32m━━━━━━━━━━━━━━━━━━━━\u001b[0m\u001b[37m\u001b[0m \u001b[1m5s\u001b[0m 18ms/step - accuracy: 0.9908 - f1_score: 0.9906 - loss: 0.0346 - val_accuracy: 0.8662 - val_f1_score: 0.8655 - val_loss: 0.7050\n",
            "Epoch 78/100\n",
            "\u001b[1m219/219\u001b[0m \u001b[32m━━━━━━━━━━━━━━━━━━━━\u001b[0m\u001b[37m\u001b[0m \u001b[1m7s\u001b[0m 25ms/step - accuracy: 0.9944 - f1_score: 0.9944 - loss: 0.0193 - val_accuracy: 0.8628 - val_f1_score: 0.8628 - val_loss: 0.7407\n",
            "Epoch 79/100\n",
            "\u001b[1m219/219\u001b[0m \u001b[32m━━━━━━━━━━━━━━━━━━━━\u001b[0m\u001b[37m\u001b[0m \u001b[1m9s\u001b[0m 21ms/step - accuracy: 0.9921 - f1_score: 0.9923 - loss: 0.0265 - val_accuracy: 0.8645 - val_f1_score: 0.8640 - val_loss: 0.7202\n",
            "Epoch 80/100\n",
            "\u001b[1m219/219\u001b[0m \u001b[32m━━━━━━━━━━━━━━━━━━━━\u001b[0m\u001b[37m\u001b[0m \u001b[1m6s\u001b[0m 25ms/step - accuracy: 0.9920 - f1_score: 0.9921 - loss: 0.0234 - val_accuracy: 0.8639 - val_f1_score: 0.8630 - val_loss: 0.7254\n",
            "Epoch 81/100\n",
            "\u001b[1m219/219\u001b[0m \u001b[32m━━━━━━━━━━━━━━━━━━━━\u001b[0m\u001b[37m\u001b[0m \u001b[1m4s\u001b[0m 19ms/step - accuracy: 0.9946 - f1_score: 0.9946 - loss: 0.0208 - val_accuracy: 0.8651 - val_f1_score: 0.8645 - val_loss: 0.7085\n",
            "Epoch 82/100\n",
            "\u001b[1m219/219\u001b[0m \u001b[32m━━━━━━━━━━━━━━━━━━━━\u001b[0m\u001b[37m\u001b[0m \u001b[1m4s\u001b[0m 20ms/step - accuracy: 0.9927 - f1_score: 0.9927 - loss: 0.0203 - val_accuracy: 0.8628 - val_f1_score: 0.8617 - val_loss: 0.7327\n",
            "Epoch 83/100\n",
            "\u001b[1m219/219\u001b[0m \u001b[32m━━━━━━━━━━━━━━━━━━━━\u001b[0m\u001b[37m\u001b[0m \u001b[1m5s\u001b[0m 25ms/step - accuracy: 0.9958 - f1_score: 0.9958 - loss: 0.0143 - val_accuracy: 0.8576 - val_f1_score: 0.8579 - val_loss: 0.7321\n",
            "Epoch 84/100\n",
            "\u001b[1m219/219\u001b[0m \u001b[32m━━━━━━━━━━━━━━━━━━━━\u001b[0m\u001b[37m\u001b[0m \u001b[1m4s\u001b[0m 19ms/step - accuracy: 0.9922 - f1_score: 0.9922 - loss: 0.0246 - val_accuracy: 0.8668 - val_f1_score: 0.8666 - val_loss: 0.7274\n",
            "Epoch 85/100\n",
            "\u001b[1m219/219\u001b[0m \u001b[32m━━━━━━━━━━━━━━━━━━━━\u001b[0m\u001b[37m\u001b[0m \u001b[1m5s\u001b[0m 24ms/step - accuracy: 0.9951 - f1_score: 0.9952 - loss: 0.0159 - val_accuracy: 0.8696 - val_f1_score: 0.8700 - val_loss: 0.7479\n",
            "Epoch 86/100\n",
            "\u001b[1m219/219\u001b[0m \u001b[32m━━━━━━━━━━━━━━━━━━━━\u001b[0m\u001b[37m\u001b[0m \u001b[1m6s\u001b[0m 27ms/step - accuracy: 0.9937 - f1_score: 0.9938 - loss: 0.0214 - val_accuracy: 0.8656 - val_f1_score: 0.8655 - val_loss: 0.7717\n",
            "Epoch 87/100\n",
            "\u001b[1m219/219\u001b[0m \u001b[32m━━━━━━━━━━━━━━━━━━━━\u001b[0m\u001b[37m\u001b[0m \u001b[1m9s\u001b[0m 23ms/step - accuracy: 0.9925 - f1_score: 0.9926 - loss: 0.0232 - val_accuracy: 0.8656 - val_f1_score: 0.8643 - val_loss: 0.7551\n",
            "Epoch 88/100\n",
            "\u001b[1m219/219\u001b[0m \u001b[32m━━━━━━━━━━━━━━━━━━━━\u001b[0m\u001b[37m\u001b[0m \u001b[1m6s\u001b[0m 26ms/step - accuracy: 0.9960 - f1_score: 0.9962 - loss: 0.0170 - val_accuracy: 0.8674 - val_f1_score: 0.8662 - val_loss: 0.7316\n",
            "Epoch 89/100\n",
            "\u001b[1m219/219\u001b[0m \u001b[32m━━━━━━━━━━━━━━━━━━━━\u001b[0m\u001b[37m\u001b[0m \u001b[1m10s\u001b[0m 23ms/step - accuracy: 0.9944 - f1_score: 0.9947 - loss: 0.0193 - val_accuracy: 0.8645 - val_f1_score: 0.8639 - val_loss: 0.7296\n",
            "Epoch 90/100\n",
            "\u001b[1m219/219\u001b[0m \u001b[32m━━━━━━━━━━━━━━━━━━━━\u001b[0m\u001b[37m\u001b[0m \u001b[1m6s\u001b[0m 25ms/step - accuracy: 0.9953 - f1_score: 0.9953 - loss: 0.0158 - val_accuracy: 0.8679 - val_f1_score: 0.8678 - val_loss: 0.7407\n",
            "Epoch 91/100\n",
            "\u001b[1m219/219\u001b[0m \u001b[32m━━━━━━━━━━━━━━━━━━━━\u001b[0m\u001b[37m\u001b[0m \u001b[1m5s\u001b[0m 21ms/step - accuracy: 0.9935 - f1_score: 0.9934 - loss: 0.0176 - val_accuracy: 0.8656 - val_f1_score: 0.8662 - val_loss: 0.7020\n",
            "Epoch 92/100\n",
            "\u001b[1m219/219\u001b[0m \u001b[32m━━━━━━━━━━━━━━━━━━━━\u001b[0m\u001b[37m\u001b[0m \u001b[1m5s\u001b[0m 24ms/step - accuracy: 0.9948 - f1_score: 0.9947 - loss: 0.0168 - val_accuracy: 0.8691 - val_f1_score: 0.8683 - val_loss: 0.7042\n",
            "Epoch 93/100\n",
            "\u001b[1m219/219\u001b[0m \u001b[32m━━━━━━━━━━━━━━━━━━━━\u001b[0m\u001b[37m\u001b[0m \u001b[1m5s\u001b[0m 24ms/step - accuracy: 0.9945 - f1_score: 0.9945 - loss: 0.0157 - val_accuracy: 0.8679 - val_f1_score: 0.8672 - val_loss: 0.7356\n",
            "Epoch 94/100\n",
            "\u001b[1m219/219\u001b[0m \u001b[32m━━━━━━━━━━━━━━━━━━━━\u001b[0m\u001b[37m\u001b[0m \u001b[1m4s\u001b[0m 20ms/step - accuracy: 0.9937 - f1_score: 0.9939 - loss: 0.0219 - val_accuracy: 0.8628 - val_f1_score: 0.8628 - val_loss: 0.7487\n",
            "Epoch 95/100\n",
            "\u001b[1m219/219\u001b[0m \u001b[32m━━━━━━━━━━━━━━━━━━━━\u001b[0m\u001b[37m\u001b[0m \u001b[1m6s\u001b[0m 23ms/step - accuracy: 0.9959 - f1_score: 0.9958 - loss: 0.0172 - val_accuracy: 0.8611 - val_f1_score: 0.8602 - val_loss: 0.7501\n",
            "Epoch 96/100\n",
            "\u001b[1m219/219\u001b[0m \u001b[32m━━━━━━━━━━━━━━━━━━━━\u001b[0m\u001b[37m\u001b[0m \u001b[1m6s\u001b[0m 25ms/step - accuracy: 0.9927 - f1_score: 0.9928 - loss: 0.0213 - val_accuracy: 0.8645 - val_f1_score: 0.8641 - val_loss: 0.7266\n",
            "Epoch 97/100\n",
            "\u001b[1m219/219\u001b[0m \u001b[32m━━━━━━━━━━━━━━━━━━━━\u001b[0m\u001b[37m\u001b[0m \u001b[1m10s\u001b[0m 24ms/step - accuracy: 0.9962 - f1_score: 0.9959 - loss: 0.0163 - val_accuracy: 0.8656 - val_f1_score: 0.8662 - val_loss: 0.7275\n",
            "Epoch 98/100\n",
            "\u001b[1m219/219\u001b[0m \u001b[32m━━━━━━━━━━━━━━━━━━━━\u001b[0m\u001b[37m\u001b[0m \u001b[1m9s\u001b[0m 19ms/step - accuracy: 0.9956 - f1_score: 0.9956 - loss: 0.0181 - val_accuracy: 0.8662 - val_f1_score: 0.8654 - val_loss: 0.7181\n",
            "Epoch 99/100\n",
            "\u001b[1m219/219\u001b[0m \u001b[32m━━━━━━━━━━━━━━━━━━━━\u001b[0m\u001b[37m\u001b[0m \u001b[1m6s\u001b[0m 26ms/step - accuracy: 0.9964 - f1_score: 0.9965 - loss: 0.0124 - val_accuracy: 0.8645 - val_f1_score: 0.8634 - val_loss: 0.7489\n",
            "Epoch 100/100\n",
            "\u001b[1m219/219\u001b[0m \u001b[32m━━━━━━━━━━━━━━━━━━━━\u001b[0m\u001b[37m\u001b[0m \u001b[1m4s\u001b[0m 20ms/step - accuracy: 0.9973 - f1_score: 0.9973 - loss: 0.0083 - val_accuracy: 0.8662 - val_f1_score: 0.8660 - val_loss: 0.7765\n",
            "Training time: 599.943 seconds\n",
            "\n"
          ]
        }
      ],
      "source": [
        "def MLP_Model(input_shape, numClasses, optimizer_type='adam', numEpochs=30, initial_learning_rate=0.01):\n",
        "    \"\"\"\n",
        "    Creates an MLP model with options for optimizer, epochs, and learning rate.\n",
        "\n",
        "    Parameters:\n",
        "    - input_shape: the number of features in the input data.\n",
        "    - numClasses: the number of output classes.\n",
        "    - optimizer_type: 'adam' or 'sgd' to select the optimizer. Default is 'adam'.\n",
        "    - numEpochs: number of training epochs. Default is 30.\n",
        "    - initial_learning_rate: the starting learning rate. Default is 0.01.\n",
        "\n",
        "    Returns:\n",
        "    - model: Compiled TensorFlow Keras model.\n",
        "    - numEpochs: Number of epochs to use in training.\n",
        "    \"\"\"\n",
        "    model = tensorflow.keras.Sequential()\n",
        "    #Explicitly add the Input layer\n",
        "    model.add(tensorflow.keras.layers.Input(shape=(input_shape,)))\n",
        "\n",
        "    # Input layer with batch normalization\n",
        "    model.add(layers.Dense(512, activation='relu'))\n",
        "    model.add(layers.BatchNormalization())\n",
        "    model.add(layers.Dropout(0.4))\n",
        "\n",
        "    # Hidden layers with batch normalization and dropout\n",
        "    model.add(layers.Dense(400, activation='relu', kernel_initializer =initializers.HeNormal))\n",
        "    model.add(layers.BatchNormalization())\n",
        "    model.add(layers.Dropout(0.4))\n",
        "\n",
        "    model.add(layers.Dense(400, activation='relu', kernel_initializer =initializers.HeNormal))\n",
        "    model.add(layers.BatchNormalization())\n",
        "    model.add(layers.Dropout(0.4))\n",
        "\n",
        "    model.add(layers.Dense(256, activation='relu'))\n",
        "    model.add(layers.BatchNormalization())\n",
        "    model.add(layers.Dropout(0.4))\n",
        "\n",
        "    model.add(layers.Dense(128, activation='relu'))\n",
        "    model.add(layers.BatchNormalization())\n",
        "    model.add(layers.Dropout(0.4))\n",
        "\n",
        "    # Output layer\n",
        "    model.add(layers.Dense(numClasses, activation='softmax'))\n",
        "\n",
        "    # Learning rate schedule\n",
        "    lr_schedule = tensorflow.keras.optimizers.schedules.ExponentialDecay(\n",
        "       initial_learning_rate=initial_learning_rate, decay_steps=1000, decay_rate=0.9)\n",
        "    # Select optimizer\n",
        "    if optimizer_type.lower() == 'adam':\n",
        "        optimizer = tensorflow.keras.optimizers.Adam(learning_rate=lr_schedule)\n",
        "    elif optimizer_type.lower() == 'sgd':\n",
        "        optimizer = tensorflow.keras.optimizers.SGD(learning_rate=lr_schedule, momentum=0.9)\n",
        "    else:\n",
        "        raise ValueError(\"Unsupported optimizer type. Choose 'adam' or 'sgd'.\")\n",
        "\n",
        "    # Compile the model\n",
        "    model.compile(optimizer=optimizer, loss=tensorflow.keras.losses.CategoricalCrossentropy, metrics=['accuracy', f1Score])\n",
        "\n",
        "    return model, numEpochs\n",
        "\n",
        "\n",
        "# Set parameters\n",
        "input_shape = XTrain.shape[1]\n",
        "numClasses = yTrainLabelsOneHot.shape[1]\n",
        "optimizer_type = 'adam'  # Choose between 'adam' or 'sgd'\n",
        "numEpochs = 100  # Set the number of epochs\n",
        "initial_learning_rate = 0.01  # Set initial learning rate\n",
        "\n",
        "start = time.time()\n",
        "# Create and train the MLP model\n",
        "mlpModel, epochs = MLP_Model(input_shape, numClasses, optimizer_type, numEpochs, initial_learning_rate)\n",
        "mlpHistory = mlpModel.fit(\n",
        "    XTrain, yTrainLabelsOneHot,\n",
        "    validation_data=(XTest, yTestLabelsOneHot), epochs=epochs, batch_size=32)\n",
        "\n",
        "end = time.time()\n",
        "print(\"Training time: {:.3f} seconds\\n\".format(end-start))"
      ]
    },
    {
      "cell_type": "markdown",
      "metadata": {
        "id": "RkVAS6F0uPfd"
      },
      "source": [
        "Ο παρακάτω κώδικας δημιουργεί δύο διαγράμματα για την ακρίβεια και την απώλεια του μοντέλου στις σειρές εκπαίδευσης και επικύρωσης, χρησιμοποιώντας τα δεδομένα από το αντικείμενο ιστορικού εκπαίδευσης (mlpHistory). Στη συνέχεια, αξιολογεί το μοντέλο σε δεδομένα δοκιμών (XTest, yTestLabelsOneHot), εμφανίζοντας την ακρίβεια και το F1 score. Τέλος, προβλέπει τις κατηγορίες των δεδομένων δοκιμών και εκτυπώνει τις προβλέψεις (yPred)."
      ]
    },
    {
      "cell_type": "code",
      "execution_count": null,
      "metadata": {
        "colab": {
          "base_uri": "https://localhost:8080/",
          "height": 1000
        },
        "id": "W37_DOY4_a_Y",
        "outputId": "6f26be60-ff5d-45e5-a189-1cfdfad4da1b"
      },
      "outputs": [
        {
          "output_type": "display_data",
          "data": {
            "text/plain": [
              "\u001b[1mModel: \"sequential_10\"\u001b[0m\n"
            ],
            "text/html": [
              "<pre style=\"white-space:pre;overflow-x:auto;line-height:normal;font-family:Menlo,'DejaVu Sans Mono',consolas,'Courier New',monospace\"><span style=\"font-weight: bold\">Model: \"sequential_10\"</span>\n",
              "</pre>\n"
            ]
          },
          "metadata": {}
        },
        {
          "output_type": "display_data",
          "data": {
            "text/plain": [
              "┏━━━━━━━━━━━━━━━━━━━━━━━━━━━━━━━━━━━━━━┳━━━━━━━━━━━━━━━━━━━━━━━━━━━━━┳━━━━━━━━━━━━━━━━━┓\n",
              "┃\u001b[1m \u001b[0m\u001b[1mLayer (type)                        \u001b[0m\u001b[1m \u001b[0m┃\u001b[1m \u001b[0m\u001b[1mOutput Shape               \u001b[0m\u001b[1m \u001b[0m┃\u001b[1m \u001b[0m\u001b[1m        Param #\u001b[0m\u001b[1m \u001b[0m┃\n",
              "┡━━━━━━━━━━━━━━━━━━━━━━━━━━━━━━━━━━━━━━╇━━━━━━━━━━━━━━━━━━━━━━━━━━━━━╇━━━━━━━━━━━━━━━━━┩\n",
              "│ dense_60 (\u001b[38;5;33mDense\u001b[0m)                     │ (\u001b[38;5;45mNone\u001b[0m, \u001b[38;5;34m512\u001b[0m)                 │         \u001b[38;5;34m115,200\u001b[0m │\n",
              "├──────────────────────────────────────┼─────────────────────────────┼─────────────────┤\n",
              "│ batch_normalization_50               │ (\u001b[38;5;45mNone\u001b[0m, \u001b[38;5;34m512\u001b[0m)                 │           \u001b[38;5;34m2,048\u001b[0m │\n",
              "│ (\u001b[38;5;33mBatchNormalization\u001b[0m)                 │                             │                 │\n",
              "├──────────────────────────────────────┼─────────────────────────────┼─────────────────┤\n",
              "│ dropout_50 (\u001b[38;5;33mDropout\u001b[0m)                 │ (\u001b[38;5;45mNone\u001b[0m, \u001b[38;5;34m512\u001b[0m)                 │               \u001b[38;5;34m0\u001b[0m │\n",
              "├──────────────────────────────────────┼─────────────────────────────┼─────────────────┤\n",
              "│ dense_61 (\u001b[38;5;33mDense\u001b[0m)                     │ (\u001b[38;5;45mNone\u001b[0m, \u001b[38;5;34m400\u001b[0m)                 │         \u001b[38;5;34m205,200\u001b[0m │\n",
              "├──────────────────────────────────────┼─────────────────────────────┼─────────────────┤\n",
              "│ batch_normalization_51               │ (\u001b[38;5;45mNone\u001b[0m, \u001b[38;5;34m400\u001b[0m)                 │           \u001b[38;5;34m1,600\u001b[0m │\n",
              "│ (\u001b[38;5;33mBatchNormalization\u001b[0m)                 │                             │                 │\n",
              "├──────────────────────────────────────┼─────────────────────────────┼─────────────────┤\n",
              "│ dropout_51 (\u001b[38;5;33mDropout\u001b[0m)                 │ (\u001b[38;5;45mNone\u001b[0m, \u001b[38;5;34m400\u001b[0m)                 │               \u001b[38;5;34m0\u001b[0m │\n",
              "├──────────────────────────────────────┼─────────────────────────────┼─────────────────┤\n",
              "│ dense_62 (\u001b[38;5;33mDense\u001b[0m)                     │ (\u001b[38;5;45mNone\u001b[0m, \u001b[38;5;34m400\u001b[0m)                 │         \u001b[38;5;34m160,400\u001b[0m │\n",
              "├──────────────────────────────────────┼─────────────────────────────┼─────────────────┤\n",
              "│ batch_normalization_52               │ (\u001b[38;5;45mNone\u001b[0m, \u001b[38;5;34m400\u001b[0m)                 │           \u001b[38;5;34m1,600\u001b[0m │\n",
              "│ (\u001b[38;5;33mBatchNormalization\u001b[0m)                 │                             │                 │\n",
              "├──────────────────────────────────────┼─────────────────────────────┼─────────────────┤\n",
              "│ dropout_52 (\u001b[38;5;33mDropout\u001b[0m)                 │ (\u001b[38;5;45mNone\u001b[0m, \u001b[38;5;34m400\u001b[0m)                 │               \u001b[38;5;34m0\u001b[0m │\n",
              "├──────────────────────────────────────┼─────────────────────────────┼─────────────────┤\n",
              "│ dense_63 (\u001b[38;5;33mDense\u001b[0m)                     │ (\u001b[38;5;45mNone\u001b[0m, \u001b[38;5;34m256\u001b[0m)                 │         \u001b[38;5;34m102,656\u001b[0m │\n",
              "├──────────────────────────────────────┼─────────────────────────────┼─────────────────┤\n",
              "│ batch_normalization_53               │ (\u001b[38;5;45mNone\u001b[0m, \u001b[38;5;34m256\u001b[0m)                 │           \u001b[38;5;34m1,024\u001b[0m │\n",
              "│ (\u001b[38;5;33mBatchNormalization\u001b[0m)                 │                             │                 │\n",
              "├──────────────────────────────────────┼─────────────────────────────┼─────────────────┤\n",
              "│ dropout_53 (\u001b[38;5;33mDropout\u001b[0m)                 │ (\u001b[38;5;45mNone\u001b[0m, \u001b[38;5;34m256\u001b[0m)                 │               \u001b[38;5;34m0\u001b[0m │\n",
              "├──────────────────────────────────────┼─────────────────────────────┼─────────────────┤\n",
              "│ dense_64 (\u001b[38;5;33mDense\u001b[0m)                     │ (\u001b[38;5;45mNone\u001b[0m, \u001b[38;5;34m128\u001b[0m)                 │          \u001b[38;5;34m32,896\u001b[0m │\n",
              "├──────────────────────────────────────┼─────────────────────────────┼─────────────────┤\n",
              "│ batch_normalization_54               │ (\u001b[38;5;45mNone\u001b[0m, \u001b[38;5;34m128\u001b[0m)                 │             \u001b[38;5;34m512\u001b[0m │\n",
              "│ (\u001b[38;5;33mBatchNormalization\u001b[0m)                 │                             │                 │\n",
              "├──────────────────────────────────────┼─────────────────────────────┼─────────────────┤\n",
              "│ dropout_54 (\u001b[38;5;33mDropout\u001b[0m)                 │ (\u001b[38;5;45mNone\u001b[0m, \u001b[38;5;34m128\u001b[0m)                 │               \u001b[38;5;34m0\u001b[0m │\n",
              "├──────────────────────────────────────┼─────────────────────────────┼─────────────────┤\n",
              "│ dense_65 (\u001b[38;5;33mDense\u001b[0m)                     │ (\u001b[38;5;45mNone\u001b[0m, \u001b[38;5;34m5\u001b[0m)                   │             \u001b[38;5;34m645\u001b[0m │\n",
              "└──────────────────────────────────────┴─────────────────────────────┴─────────────────┘\n"
            ],
            "text/html": [
              "<pre style=\"white-space:pre;overflow-x:auto;line-height:normal;font-family:Menlo,'DejaVu Sans Mono',consolas,'Courier New',monospace\">┏━━━━━━━━━━━━━━━━━━━━━━━━━━━━━━━━━━━━━━┳━━━━━━━━━━━━━━━━━━━━━━━━━━━━━┳━━━━━━━━━━━━━━━━━┓\n",
              "┃<span style=\"font-weight: bold\"> Layer (type)                         </span>┃<span style=\"font-weight: bold\"> Output Shape                </span>┃<span style=\"font-weight: bold\">         Param # </span>┃\n",
              "┡━━━━━━━━━━━━━━━━━━━━━━━━━━━━━━━━━━━━━━╇━━━━━━━━━━━━━━━━━━━━━━━━━━━━━╇━━━━━━━━━━━━━━━━━┩\n",
              "│ dense_60 (<span style=\"color: #0087ff; text-decoration-color: #0087ff\">Dense</span>)                     │ (<span style=\"color: #00d7ff; text-decoration-color: #00d7ff\">None</span>, <span style=\"color: #00af00; text-decoration-color: #00af00\">512</span>)                 │         <span style=\"color: #00af00; text-decoration-color: #00af00\">115,200</span> │\n",
              "├──────────────────────────────────────┼─────────────────────────────┼─────────────────┤\n",
              "│ batch_normalization_50               │ (<span style=\"color: #00d7ff; text-decoration-color: #00d7ff\">None</span>, <span style=\"color: #00af00; text-decoration-color: #00af00\">512</span>)                 │           <span style=\"color: #00af00; text-decoration-color: #00af00\">2,048</span> │\n",
              "│ (<span style=\"color: #0087ff; text-decoration-color: #0087ff\">BatchNormalization</span>)                 │                             │                 │\n",
              "├──────────────────────────────────────┼─────────────────────────────┼─────────────────┤\n",
              "│ dropout_50 (<span style=\"color: #0087ff; text-decoration-color: #0087ff\">Dropout</span>)                 │ (<span style=\"color: #00d7ff; text-decoration-color: #00d7ff\">None</span>, <span style=\"color: #00af00; text-decoration-color: #00af00\">512</span>)                 │               <span style=\"color: #00af00; text-decoration-color: #00af00\">0</span> │\n",
              "├──────────────────────────────────────┼─────────────────────────────┼─────────────────┤\n",
              "│ dense_61 (<span style=\"color: #0087ff; text-decoration-color: #0087ff\">Dense</span>)                     │ (<span style=\"color: #00d7ff; text-decoration-color: #00d7ff\">None</span>, <span style=\"color: #00af00; text-decoration-color: #00af00\">400</span>)                 │         <span style=\"color: #00af00; text-decoration-color: #00af00\">205,200</span> │\n",
              "├──────────────────────────────────────┼─────────────────────────────┼─────────────────┤\n",
              "│ batch_normalization_51               │ (<span style=\"color: #00d7ff; text-decoration-color: #00d7ff\">None</span>, <span style=\"color: #00af00; text-decoration-color: #00af00\">400</span>)                 │           <span style=\"color: #00af00; text-decoration-color: #00af00\">1,600</span> │\n",
              "│ (<span style=\"color: #0087ff; text-decoration-color: #0087ff\">BatchNormalization</span>)                 │                             │                 │\n",
              "├──────────────────────────────────────┼─────────────────────────────┼─────────────────┤\n",
              "│ dropout_51 (<span style=\"color: #0087ff; text-decoration-color: #0087ff\">Dropout</span>)                 │ (<span style=\"color: #00d7ff; text-decoration-color: #00d7ff\">None</span>, <span style=\"color: #00af00; text-decoration-color: #00af00\">400</span>)                 │               <span style=\"color: #00af00; text-decoration-color: #00af00\">0</span> │\n",
              "├──────────────────────────────────────┼─────────────────────────────┼─────────────────┤\n",
              "│ dense_62 (<span style=\"color: #0087ff; text-decoration-color: #0087ff\">Dense</span>)                     │ (<span style=\"color: #00d7ff; text-decoration-color: #00d7ff\">None</span>, <span style=\"color: #00af00; text-decoration-color: #00af00\">400</span>)                 │         <span style=\"color: #00af00; text-decoration-color: #00af00\">160,400</span> │\n",
              "├──────────────────────────────────────┼─────────────────────────────┼─────────────────┤\n",
              "│ batch_normalization_52               │ (<span style=\"color: #00d7ff; text-decoration-color: #00d7ff\">None</span>, <span style=\"color: #00af00; text-decoration-color: #00af00\">400</span>)                 │           <span style=\"color: #00af00; text-decoration-color: #00af00\">1,600</span> │\n",
              "│ (<span style=\"color: #0087ff; text-decoration-color: #0087ff\">BatchNormalization</span>)                 │                             │                 │\n",
              "├──────────────────────────────────────┼─────────────────────────────┼─────────────────┤\n",
              "│ dropout_52 (<span style=\"color: #0087ff; text-decoration-color: #0087ff\">Dropout</span>)                 │ (<span style=\"color: #00d7ff; text-decoration-color: #00d7ff\">None</span>, <span style=\"color: #00af00; text-decoration-color: #00af00\">400</span>)                 │               <span style=\"color: #00af00; text-decoration-color: #00af00\">0</span> │\n",
              "├──────────────────────────────────────┼─────────────────────────────┼─────────────────┤\n",
              "│ dense_63 (<span style=\"color: #0087ff; text-decoration-color: #0087ff\">Dense</span>)                     │ (<span style=\"color: #00d7ff; text-decoration-color: #00d7ff\">None</span>, <span style=\"color: #00af00; text-decoration-color: #00af00\">256</span>)                 │         <span style=\"color: #00af00; text-decoration-color: #00af00\">102,656</span> │\n",
              "├──────────────────────────────────────┼─────────────────────────────┼─────────────────┤\n",
              "│ batch_normalization_53               │ (<span style=\"color: #00d7ff; text-decoration-color: #00d7ff\">None</span>, <span style=\"color: #00af00; text-decoration-color: #00af00\">256</span>)                 │           <span style=\"color: #00af00; text-decoration-color: #00af00\">1,024</span> │\n",
              "│ (<span style=\"color: #0087ff; text-decoration-color: #0087ff\">BatchNormalization</span>)                 │                             │                 │\n",
              "├──────────────────────────────────────┼─────────────────────────────┼─────────────────┤\n",
              "│ dropout_53 (<span style=\"color: #0087ff; text-decoration-color: #0087ff\">Dropout</span>)                 │ (<span style=\"color: #00d7ff; text-decoration-color: #00d7ff\">None</span>, <span style=\"color: #00af00; text-decoration-color: #00af00\">256</span>)                 │               <span style=\"color: #00af00; text-decoration-color: #00af00\">0</span> │\n",
              "├──────────────────────────────────────┼─────────────────────────────┼─────────────────┤\n",
              "│ dense_64 (<span style=\"color: #0087ff; text-decoration-color: #0087ff\">Dense</span>)                     │ (<span style=\"color: #00d7ff; text-decoration-color: #00d7ff\">None</span>, <span style=\"color: #00af00; text-decoration-color: #00af00\">128</span>)                 │          <span style=\"color: #00af00; text-decoration-color: #00af00\">32,896</span> │\n",
              "├──────────────────────────────────────┼─────────────────────────────┼─────────────────┤\n",
              "│ batch_normalization_54               │ (<span style=\"color: #00d7ff; text-decoration-color: #00d7ff\">None</span>, <span style=\"color: #00af00; text-decoration-color: #00af00\">128</span>)                 │             <span style=\"color: #00af00; text-decoration-color: #00af00\">512</span> │\n",
              "│ (<span style=\"color: #0087ff; text-decoration-color: #0087ff\">BatchNormalization</span>)                 │                             │                 │\n",
              "├──────────────────────────────────────┼─────────────────────────────┼─────────────────┤\n",
              "│ dropout_54 (<span style=\"color: #0087ff; text-decoration-color: #0087ff\">Dropout</span>)                 │ (<span style=\"color: #00d7ff; text-decoration-color: #00d7ff\">None</span>, <span style=\"color: #00af00; text-decoration-color: #00af00\">128</span>)                 │               <span style=\"color: #00af00; text-decoration-color: #00af00\">0</span> │\n",
              "├──────────────────────────────────────┼─────────────────────────────┼─────────────────┤\n",
              "│ dense_65 (<span style=\"color: #0087ff; text-decoration-color: #0087ff\">Dense</span>)                     │ (<span style=\"color: #00d7ff; text-decoration-color: #00d7ff\">None</span>, <span style=\"color: #00af00; text-decoration-color: #00af00\">5</span>)                   │             <span style=\"color: #00af00; text-decoration-color: #00af00\">645</span> │\n",
              "└──────────────────────────────────────┴─────────────────────────────┴─────────────────┘\n",
              "</pre>\n"
            ]
          },
          "metadata": {}
        },
        {
          "output_type": "display_data",
          "data": {
            "text/plain": [
              "\u001b[1m Total params: \u001b[0m\u001b[38;5;34m1,864,560\u001b[0m (7.11 MB)\n"
            ],
            "text/html": [
              "<pre style=\"white-space:pre;overflow-x:auto;line-height:normal;font-family:Menlo,'DejaVu Sans Mono',consolas,'Courier New',monospace\"><span style=\"font-weight: bold\"> Total params: </span><span style=\"color: #00af00; text-decoration-color: #00af00\">1,864,560</span> (7.11 MB)\n",
              "</pre>\n"
            ]
          },
          "metadata": {}
        },
        {
          "output_type": "display_data",
          "data": {
            "text/plain": [
              "\u001b[1m Trainable params: \u001b[0m\u001b[38;5;34m620,389\u001b[0m (2.37 MB)\n"
            ],
            "text/html": [
              "<pre style=\"white-space:pre;overflow-x:auto;line-height:normal;font-family:Menlo,'DejaVu Sans Mono',consolas,'Courier New',monospace\"><span style=\"font-weight: bold\"> Trainable params: </span><span style=\"color: #00af00; text-decoration-color: #00af00\">620,389</span> (2.37 MB)\n",
              "</pre>\n"
            ]
          },
          "metadata": {}
        },
        {
          "output_type": "display_data",
          "data": {
            "text/plain": [
              "\u001b[1m Non-trainable params: \u001b[0m\u001b[38;5;34m3,392\u001b[0m (13.25 KB)\n"
            ],
            "text/html": [
              "<pre style=\"white-space:pre;overflow-x:auto;line-height:normal;font-family:Menlo,'DejaVu Sans Mono',consolas,'Courier New',monospace\"><span style=\"font-weight: bold\"> Non-trainable params: </span><span style=\"color: #00af00; text-decoration-color: #00af00\">3,392</span> (13.25 KB)\n",
              "</pre>\n"
            ]
          },
          "metadata": {}
        },
        {
          "output_type": "display_data",
          "data": {
            "text/plain": [
              "\u001b[1m Optimizer params: \u001b[0m\u001b[38;5;34m1,240,779\u001b[0m (4.73 MB)\n"
            ],
            "text/html": [
              "<pre style=\"white-space:pre;overflow-x:auto;line-height:normal;font-family:Menlo,'DejaVu Sans Mono',consolas,'Courier New',monospace\"><span style=\"font-weight: bold\"> Optimizer params: </span><span style=\"color: #00af00; text-decoration-color: #00af00\">1,240,779</span> (4.73 MB)\n",
              "</pre>\n"
            ]
          },
          "metadata": {}
        },
        {
          "output_type": "display_data",
          "data": {
            "text/plain": [
              "<Figure size 640x480 with 1 Axes>"
            ],
            "image/png": "[encoded data removed]"
          },
          "metadata": {}
        },
        {
          "output_type": "display_data",
          "data": {
            "text/plain": [
              "<Figure size 640x480 with 1 Axes>"
            ],
            "image/png": "[encoded data removed]"
          },
          "metadata": {}
        },
        {
          "output_type": "stream",
          "name": "stdout",
          "text": [
            "\u001b[1m55/55\u001b[0m \u001b[32m━━━━━━━━━━━━━━━━━━━━\u001b[0m\u001b[37m\u001b[0m \u001b[1m0s\u001b[0m 5ms/step - accuracy: 0.8709 - f1_score: 0.8714 - loss: 0.7649\n",
            "Test accuracy: 0.8662\n",
            "Test F1 Score: 0.8660\n",
            "\u001b[1m55/55\u001b[0m \u001b[32m━━━━━━━━━━━━━━━━━━━━\u001b[0m\u001b[37m\u001b[0m \u001b[1m1s\u001b[0m 8ms/step\n",
            "[0 4 1 ... 3 4 1]\n",
            "              precision    recall  f1-score   support\n",
            "\n",
            "           0       0.95      0.98      0.96       377\n",
            "           1       0.75      0.75      0.75       332\n",
            "           2       0.93      0.93      0.93       349\n",
            "           3       0.91      0.90      0.90       325\n",
            "           4       0.79      0.77      0.78       366\n",
            "\n",
            "    accuracy                           0.87      1749\n",
            "   macro avg       0.86      0.86      0.86      1749\n",
            "weighted avg       0.87      0.87      0.87      1749\n",
            "\n"
          ]
        },
        {
          "output_type": "display_data",
          "data": {
            "text/plain": [
              "<Figure size 640x480 with 2 Axes>"
            ],
            "image/png": "[encoded data removed]"
          },
          "metadata": {}
        }
      ],
      "source": [
        "mlpModel.summary()\n",
        "\n",
        "plt.figure()\n",
        "plt.plot(mlpHistory.history['accuracy'],label='Train Accuracy')\n",
        "plt.plot(mlpHistory.history['val_accuracy'],label='Test Accuracy')\n",
        "plt.title('Acurracy on training and validation sets')\n",
        "plt.ylabel('Accuracy')\n",
        "plt.xlabel('Epochs')\n",
        "plt.legend()\n",
        "plt.show()\n",
        "\n",
        "plt.figure()\n",
        "plt.plot(mlpHistory.history['loss'],label='Train Loss')\n",
        "plt.plot(mlpHistory.history['val_loss'],label='Test Loss')\n",
        "plt.title('Loss on training and validation sets')\n",
        "plt.ylabel('Cross-Entropy')\n",
        "plt.xlabel('Epochs')\n",
        "plt.legend()\n",
        "plt.show()\n",
        "\n",
        "# Calculate F1 score\n",
        "score = mlpModel.evaluate(XTest, yTestLabelsOneHot)\n",
        "print('Test accuracy: {:.4f}'.format(score[1]))\n",
        "print('Test F1 Score: {:.4f}'.format(score[2]))\n",
        "\n",
        "#Predictions\n",
        "prediction = mlpModel.predict(XTest)\n",
        "yPred = np.argmax(prediction, axis=1) #get predicted class\n",
        "print(yPred)\n",
        "labels = [\"1\", \"2\", \"3\", \"4\", \"5\"]\n",
        "\n",
        "#Create and display confusion matrix\n",
        "M = confusion_matrix(yTest, yPred)\n",
        "\n",
        "disp = ConfusionMatrixDisplay(confusion_matrix=M, display_labels=labels)\n",
        "\n",
        "disp.plot(cmap=plt.cm.Blues)\n",
        "plt.show\n",
        "\n",
        "#accuracy, precision, recall and f1-score\n",
        "print(classification_report(yTest, yPred))"
      ]
    },
    {
      "cell_type": "markdown",
      "metadata": {
        "id": "cLYulDigoyNF"
      },
      "source": [
        "## **MLP Model and Backpropagation Algorithm**"
      ]
    },
    {
      "cell_type": "markdown",
      "metadata": {
        "id": "WbPxBIRBpN6E"
      },
      "source": [
        "### **Split Training Set to Training and Validation**"
      ]
    },
    {
      "cell_type": "code",
      "execution_count": null,
      "metadata": {
        "colab": {
          "base_uri": "https://localhost:8080/"
        },
        "id": "WJJfm_SOp6hP",
        "outputId": "259d74d2-fdd6-468a-d657-1ebf6b8545e4"
      },
      "outputs": [
        {
          "name": "stdout",
          "output_type": "stream",
          "text": [
            "Training data shape: (5595, 224), (5595, 5)\n",
            "Validation data shape: (1399, 224), (1399, 5)\n"
          ]
        }
      ],
      "source": [
        "# Split XTrain and yTrainLabelsOneHot into training and validation datasets\n",
        "XTrainData, XValData, yTrainLabelsOneHotData, yValLabelsOneHoData = train_test_split(\n",
        "    XTrain, yTrainLabelsOneHot, test_size=0.2, random_state=42\n",
        ")\n",
        "\n",
        "print(f\"Training data shape: {XTrainData.shape}, {yTrainLabelsOneHotData.shape}\")\n",
        "print(f\"Validation data shape: {XValData.shape}, {yValLabelsOneHoData.shape}\")"
      ]
    },
    {
      "cell_type": "markdown",
      "metadata": {
        "id": "Rxcz08n-42hX"
      },
      "source": [
        "### **MLP Model Structure**"
      ]
    },
    {
      "cell_type": "markdown",
      "metadata": {
        "id": "llap1sgOu_vp"
      },
      "source": [
        "Ακολουθεί μια δική μας υλοποίηση αλγόριθμου Stohastic Gradient Descent (SGD) με back propagation για ενημέρωση των βαρών.\n",
        "\n",
        "Σε 1η φάση όπως και προηγουμένως, η συνάρτηση MLP_Model δημιουργεί ένα πολυεπίπεδο perceptron (MLP) μοντέλο χρησιμοποιώντας το Sequential API της TensorFlow. Ξεκινά με ένα επίπεδο εισόδου που αντιστοιχεί στο σχήμα των χαρακτηριστικών εισόδου. Ακολουθεί μια σειρά από layers με ενεργοποίηση ReLU, κανονικοποίηση batch και dropout. Το μοντέλο περιλαμβάνει τρία κρυφά layers με διαφορετικό αριθμό νευρώνων και καταλήγει σε ένα επίπεδο εξόδου με ενεργοποίηση softmax, κατάλληλο για multiclas ταξινόμηση. Η συνάρτηση επιστρέφει το μοντέλο έτοιμο για εκπαίδευση."
      ]
    },
    {
      "cell_type": "code",
      "execution_count": null,
      "metadata": {
        "id": "J-2FrCvho9j-"
      },
      "outputs": [],
      "source": [
        "# Define datasets\n",
        "batch_size = 128\n",
        "# Creating TensorFlow datasets from training and validation data\n",
        "train_dataset = tensorflow.data.Dataset.from_tensor_slices((XTrainData, yTrainLabelsOneHotData)).batch(batch_size)\n",
        "val_dataset = tensorflow.data.Dataset.from_tensor_slices((XValData, yValLabelsOneHoData)).batch(batch_size)\n",
        "\n",
        "# Define the MLP model\n",
        "def MLP_Model(inputShape, numClasses):\n",
        "\n",
        "    model = models.Sequential()\n",
        "\n",
        "    input_shape = (XTrain.shape[1],)  # Assuming XTrain is a 2D array with samples and features\n",
        "    model.add(layers.Input(shape=input_shape))\n",
        "\n",
        "    # Input layer with batch normalization and dropout\n",
        "    model.add(layers.Dense(1024, activation='relu'))\n",
        "    model.add(layers.BatchNormalization())\n",
        "    model.add(layers.Dropout(0.4))\n",
        "\n",
        "    # Hidden layer 1\n",
        "    model.add(layers.Dense(512, activation='relu'))\n",
        "    model.add(layers.BatchNormalization())\n",
        "    model.add(layers.Dropout(0.4))\n",
        "\n",
        "    # Hidden layer 2\n",
        "    model.add(layers.Dense(256, activation='relu'))\n",
        "    model.add(layers.BatchNormalization())\n",
        "    model.add(layers.Dropout(0.4))\n",
        "\n",
        "    # Hidden layer 3\n",
        "    model.add(layers.Dense(128, activation='relu'))\n",
        "    model.add(layers.BatchNormalization())\n",
        "    model.add(layers.Dropout(0.3))\n",
        "\n",
        "    # Output layer with softmax activation\n",
        "    model.add(layers.Dense(numClasses, activation='softmax'))\n",
        "\n",
        "    return model"
      ]
    },
    {
      "cell_type": "markdown",
      "metadata": {
        "id": "RT7Ze1Q74_BS"
      },
      "source": [
        "### **Train the MLP model with back Propagation Algorithm**"
      ]
    },
    {
      "cell_type": "markdown",
      "metadata": {
        "id": "4cBkdOCjTbfL"
      },
      "source": [
        "Ο παρακάτω κώδικας περιγράφει τη διαδικασία εκπαίδευσης ενός νευρωνικού δικτύου μέσω επαναλήψεων (epochs) και με χρήση Stochastic Gradient Descent. Κατά τη διάρκεια κάθε εποχής, το δίκτυο εκπαιδεύεται σε υποσύνολα δεδομένων (mini-batches) ώστε να προσαρμόζει σταδιακά τις παραμέτρους του. Σε κάθε βήμα, το μοντέλο εκτελεί ένα forward pass για να υπολογίσει τις προβλέψεις του και συγκρίνει αυτές τις προβλέψεις με τις πραγματικές ετικέτες, υπολογίζοντας μια τιμή απώλειας. Στη συνέχεια, με τη χρήση της μεθόδου backpropagation, υπολογίζονται οι παράγωγοι της απώλειας ως προς τις παραμέτρους του μοντέλου. Αυτές οι παράγωγοι χρησιμοποιούνται από τον αλγόριθμο βελτιστοποίησης (optimizer) για την ενημέρωση των βαρών του μοντέλου, με στόχο τη βελτίωση της απόδοσής του. Αυτή η διαδικασία επαναλαμβάνεται για κάθε epoch, προκειμένου το μοντέλο να προσαρμόζεται καλύτερα στα δεδομένα εκπαίδευσης."
      ]
    },
    {
      "cell_type": "code",
      "execution_count": null,
      "metadata": {
        "colab": {
          "base_uri": "https://localhost:8080/"
        },
        "id": "DjEWjGoxa-G1",
        "outputId": "1ce70f82-3578-46c4-8300-110e7cf91205"
      },
      "outputs": [
        {
          "name": "stdout",
          "output_type": "stream",
          "text": [
            "Epoch 1/30\n",
            "Train Loss: 0.7811, Train Accuracy: 0.7017\n",
            "Val Loss: 2.3537, Val Accuracy: 0.7641\n",
            "Epoch 2/30\n",
            "Train Loss: 0.4325, Train Accuracy: 0.8241\n",
            "Val Loss: 1.0730, Val Accuracy: 0.8091\n",
            "Epoch 3/30\n",
            "Train Loss: 0.3648, Train Accuracy: 0.8515\n",
            "Val Loss: 0.7103, Val Accuracy: 0.8163\n",
            "Epoch 4/30\n",
            "Train Loss: 0.3096, Train Accuracy: 0.8767\n",
            "Val Loss: 0.6886, Val Accuracy: 0.8177\n",
            "Epoch 5/30\n",
            "Train Loss: 0.2650, Train Accuracy: 0.8953\n",
            "Val Loss: 0.7192, Val Accuracy: 0.8106\n",
            "Epoch 6/30\n",
            "Train Loss: 0.2380, Train Accuracy: 0.9067\n",
            "Val Loss: 0.7080, Val Accuracy: 0.8234\n",
            "Epoch 7/30\n",
            "Train Loss: 0.2166, Train Accuracy: 0.9137\n",
            "Val Loss: 0.7525, Val Accuracy: 0.8277\n",
            "Epoch 8/30\n",
            "Train Loss: 0.1941, Train Accuracy: 0.9240\n",
            "Val Loss: 0.8277, Val Accuracy: 0.8277\n",
            "Epoch 9/30\n",
            "Train Loss: 0.1720, Train Accuracy: 0.9348\n",
            "Val Loss: 0.7772, Val Accuracy: 0.8356\n",
            "Epoch 10/30\n",
            "Train Loss: 0.1297, Train Accuracy: 0.9508\n",
            "Val Loss: 0.8304, Val Accuracy: 0.8270\n",
            "Epoch 11/30\n",
            "Train Loss: 0.1392, Train Accuracy: 0.9498\n",
            "Val Loss: 0.8153, Val Accuracy: 0.8306\n",
            "Epoch 12/30\n",
            "Train Loss: 0.1370, Train Accuracy: 0.9530\n",
            "Val Loss: 0.7309, Val Accuracy: 0.8363\n",
            "Epoch 13/30\n",
            "Train Loss: 0.1164, Train Accuracy: 0.9582\n",
            "Val Loss: 0.7161, Val Accuracy: 0.8349\n",
            "Epoch 14/30\n",
            "Train Loss: 0.1115, Train Accuracy: 0.9603\n",
            "Val Loss: 0.6707, Val Accuracy: 0.8435\n",
            "Epoch 15/30\n",
            "Train Loss: 0.0795, Train Accuracy: 0.9732\n",
            "Val Loss: 0.8068, Val Accuracy: 0.8227\n",
            "Epoch 16/30\n",
            "Train Loss: 0.0737, Train Accuracy: 0.9723\n",
            "Val Loss: 0.8055, Val Accuracy: 0.8277\n",
            "Epoch 17/30\n",
            "Train Loss: 0.0868, Train Accuracy: 0.9710\n",
            "Val Loss: 0.7485, Val Accuracy: 0.8227\n",
            "Epoch 18/30\n",
            "Train Loss: 0.0652, Train Accuracy: 0.9769\n",
            "Val Loss: 0.8056, Val Accuracy: 0.8377\n",
            "Epoch 19/30\n",
            "Train Loss: 0.0732, Train Accuracy: 0.9734\n",
            "Val Loss: 0.8052, Val Accuracy: 0.8349\n",
            "Epoch 20/30\n",
            "Train Loss: 0.0734, Train Accuracy: 0.9734\n",
            "Val Loss: 0.7445, Val Accuracy: 0.8342\n",
            "Epoch 21/30\n",
            "Train Loss: 0.0543, Train Accuracy: 0.9798\n",
            "Val Loss: 0.8028, Val Accuracy: 0.8292\n",
            "Epoch 22/30\n",
            "Train Loss: 0.0478, Train Accuracy: 0.9832\n",
            "Val Loss: 0.8423, Val Accuracy: 0.8356\n",
            "Epoch 23/30\n",
            "Train Loss: 0.0604, Train Accuracy: 0.9777\n",
            "Val Loss: 0.8578, Val Accuracy: 0.8342\n",
            "Epoch 24/30\n",
            "Train Loss: 0.0550, Train Accuracy: 0.9825\n",
            "Val Loss: 0.8768, Val Accuracy: 0.8284\n",
            "Epoch 25/30\n",
            "Train Loss: 0.0607, Train Accuracy: 0.9784\n",
            "Val Loss: 0.8567, Val Accuracy: 0.8313\n",
            "Epoch 26/30\n",
            "Train Loss: 0.0493, Train Accuracy: 0.9834\n",
            "Val Loss: 0.8767, Val Accuracy: 0.8313\n",
            "Epoch 27/30\n",
            "Train Loss: 0.0457, Train Accuracy: 0.9853\n",
            "Val Loss: 0.8387, Val Accuracy: 0.8456\n",
            "Epoch 28/30\n",
            "Train Loss: 0.0390, Train Accuracy: 0.9866\n",
            "Val Loss: 0.8539, Val Accuracy: 0.8356\n",
            "Epoch 29/30\n",
            "Train Loss: 0.0417, Train Accuracy: 0.9850\n",
            "Val Loss: 0.9220, Val Accuracy: 0.8370\n",
            "Epoch 30/30\n",
            "Train Loss: 0.0426, Train Accuracy: 0.9859\n",
            "Val Loss: 0.8853, Val Accuracy: 0.8377\n"
          ]
        }
      ],
      "source": [
        "# Hyperparameters\n",
        "learningRate = 0.01\n",
        "epochs = 30\n",
        "\n",
        "# Initialize the model\n",
        "numFeatures = XTrainData.shape[1]  # Number of features in the training data\n",
        "myMLP_Model = MLP_Model(numFeatures, numClasses)\n",
        "\n",
        "# Define the loss function and optimizer\n",
        "lossFn = tensorflow.keras.losses.CategoricalCrossentropy()\n",
        "optimizer = tensorflow.keras.optimizers.Adam(learning_rate=learningRate)\n",
        "\n",
        "# Initialize lists to store training/validation metrics\n",
        "trainLosses = []\n",
        "valLosses = []\n",
        "trainAccuracies = []\n",
        "valAccuracies = []\n",
        "\n",
        "# Training loop\n",
        "for epoch in range(epochs):\n",
        "    print(f\"Epoch {epoch + 1}/{epochs}\")\n",
        "\n",
        "    # Initialize variables to track training metrics\n",
        "    trainLoss = 0\n",
        "    trainCorrect = 0\n",
        "    numTrainSamples = 0\n",
        "\n",
        "    for XBatch, yBatch in train_dataset:\n",
        "        with tensorflow.GradientTape() as tape:\n",
        "            # Forward pass\n",
        "            predictions = myMLP_Model(XBatch, training=True)\n",
        "            loss = lossFn(yBatch, predictions)\n",
        "\n",
        "        # Backward pass and optimizer step\n",
        "        gradients = tape.gradient(loss, myMLP_Model.trainable_variables)\n",
        "        optimizer.apply_gradients(zip(gradients, myMLP_Model.trainable_variables))\n",
        "\n",
        "        # Track training loss and accuracy\n",
        "        trainLoss += loss.numpy() * XBatch.shape[0]\n",
        "        trainCorrect += np.sum(np.argmax(predictions.numpy(), axis=1) == np.argmax(yBatch, axis=1))\n",
        "        numTrainSamples += XBatch.shape[0]\n",
        "\n",
        "    # Compute average training loss and accuracy for the epoch\n",
        "    trainLoss /= numTrainSamples\n",
        "    trainAccuracy = trainCorrect / numTrainSamples\n",
        "    trainLosses.append(trainLoss)\n",
        "    trainAccuracies.append(trainAccuracy)\n",
        "\n",
        "    # Initialize variables to track validation metrics\n",
        "    valLoss = 0\n",
        "    valCorrect = 0\n",
        "    numValSamples = 0\n",
        "\n",
        "    for XBatch, yBatch in val_dataset:\n",
        "        # Forward pass for validation data\n",
        "        predictions = myMLP_Model(XBatch, training=False)\n",
        "        loss = lossFn(yBatch, predictions)\n",
        "\n",
        "        # Track validation loss and accuracy\n",
        "        valLoss += loss.numpy() * XBatch.shape[0]\n",
        "        valCorrect += np.sum(np.argmax(predictions.numpy(), axis=1) == np.argmax(yBatch, axis=1))\n",
        "        numValSamples += XBatch.shape[0]\n",
        "\n",
        "    # Compute average validation loss and accuracy for the epoch\n",
        "    valLoss /= numValSamples\n",
        "    valAccuracy = valCorrect / numValSamples\n",
        "    valLosses.append(valLoss)\n",
        "    valAccuracies.append(valAccuracy)\n",
        "\n",
        "    print(f\"Train Loss: {trainLoss:.4f}, Train Accuracy: {trainAccuracy:.4f}\")\n",
        "    print(f\"Val Loss: {valLoss:.4f}, Val Accuracy: {valAccuracy:.4f}\")"
      ]
    },
    {
      "cell_type": "code",
      "execution_count": null,
      "metadata": {
        "colab": {
          "base_uri": "https://localhost:8080/",
          "height": 449
        },
        "id": "9RXzirkDbDD2",
        "outputId": "c2f16a6c-6d7c-4c3f-ce45-944e895fa628"
      },
      "outputs": [
        {
          "name": "stdout",
          "output_type": "stream",
          "text": [
            "\u001b[1m55/55\u001b[0m \u001b[32m━━━━━━━━━━━━━━━━━━━━\u001b[0m\u001b[37m\u001b[0m \u001b[1m1s\u001b[0m 10ms/step\n",
            "Test Loss: 0.8957, Test Accuracy: 0.8348\n"
          ]
        },
        {
          "data": {
            "image/png": "[encoded data removed]",
            "text/plain": [
              "<Figure size 1200x500 with 2 Axes>"
            ]
          },
          "metadata": {},
          "output_type": "display_data"
        }
      ],
      "source": [
        "# Evaluate the model on the test set\n",
        "yTestOneHot = tensorflow.keras.utils.to_categorical(yTest, num_classes=numClasses)\n",
        "testPredictions = myMLP_Model.predict(XTest)\n",
        "testLoss = lossFn(yTestOneHot, testPredictions).numpy()\n",
        "testAccuracy = np.mean(np.argmax(testPredictions, axis=1) == np.argmax(yTestOneHot, axis=1))\n",
        "\n",
        "print(f\"Test Loss: {testLoss:.4f}, Test Accuracy: {testAccuracy:.4f}\")\n",
        "\n",
        "# Plot training and validation accuracy/loss\n",
        "plt.figure(figsize=(12, 5))\n",
        "\n",
        "# Plot accuracy\n",
        "plt.subplot(1, 2, 1)\n",
        "plt.plot(trainAccuracies, label='Train Accuracy')\n",
        "plt.plot(valAccuracies, label='Validation Accuracy')\n",
        "plt.title('Accuracy Over Epochs')\n",
        "plt.xlabel('Epoch')\n",
        "plt.ylabel('Accuracy')\n",
        "plt.legend()\n",
        "\n",
        "# Plot loss\n",
        "plt.subplot(1, 2, 2)\n",
        "plt.plot(trainLosses, label='Train Loss')\n",
        "plt.plot(valLosses, label='Validation Loss')\n",
        "plt.title('Loss Over Epochs')\n",
        "plt.xlabel('Epoch')\n",
        "plt.ylabel('Loss')\n",
        "plt.legend()\n",
        "\n",
        "plt.show()"
      ]
    },
    {
      "cell_type": "markdown",
      "metadata": {
        "id": "_Kg0-E3no2wY"
      },
      "source": [
        "## **Hyper-Parameter Tuning**"
      ]
    },
    {
      "cell_type": "markdown",
      "metadata": {
        "id": "q9adLLtcUie7"
      },
      "source": [
        "Σε αυτό το στάδιο της εργασίας και μετά από τις δοκιμές για κάποιες υπερπαραμετρους θα γίνει προσπάθεια εύρεσης των καταλληλότερων για το dataset.  \n",
        "\n",
        "Η συνάρτηση buildModel δημιουργεί ένα πλήρως συνδεδεμένο νευρωνικό δίκτυο (MLP) με τη χρήση υπερπαραμέτρων που ορίζονται από το αντικείμενο hParam. Στόχος είναι να δοκιμαστούν διαφορετικοί συνδυασμοί υπερπαραμέτρων:\n",
        "\n",
        "*   **Πιθανότητα Dropout (p)**: Καθορίζει την πιθανότητα αποκλεισμού νευρώνων κατά τη διάρκεια της εκπαίδευσης για την αποφυγή υπερπροσαρμογής. Δοκιμάζονται οι τιμές 0.2 και 0.4.\n",
        "\n",
        "* **Αριθμός Νευρώνων στο 1ο hidden layer**(units_First_Hidden_Layer): Εξετάζονται διαφορετικοί αριθμοί νευρώνων: 2048, 1024, 512, 400, 256 και 128.\n",
        "\n",
        "* **Αριθμός Νευρώνων στo 2o hidden layer** (units_Second_Hidden_Layer): Δοκιμάζονται οι τιμές: 1024, 512, 400, 256 και 128.\n",
        "\n",
        "* **Αριθμός Νευρώνων στo 3o hidden layer**(units_Third_Hidden_Layer): Δοκιμάζονται οι τιμές: 512, 400, 256 και 128.\n",
        "\n",
        "* **Ρυθμός Μάθησης (learning_rate)**: Ρυθμίζεται ο ρυθμός εκμάθησης του βελτιστοποιητή Adam με πιθανές τιμές: 0.001, 0.01 και 0.1.\n",
        "\n",
        "Κάθε layert χρησιμοποιεί το HeNormal ως αρχικοποιητή βαρών και την συνάρτηση ενεργοποιησης ReLU.και εφαρμόζεται dropout για την αποφυγή υπερπροσαρμογής."
      ]
    },
    {
      "cell_type": "code",
      "execution_count": null,
      "metadata": {
        "id": "UkxtRI8Kw0Cm"
      },
      "outputs": [],
      "source": [
        "def buildModel(hParam):\n",
        "    model = models.Sequential()\n",
        "\n",
        "    # Probability p of dropout\n",
        "    DroboutProb = hParam.Choice('p', values = [ 0.2, 0.4])\n",
        "\n",
        "    input_shape = (XTrain.shape[1],)\n",
        "    model.add(layers.Input(shape=input_shape))\n",
        "\n",
        "    #Number of neurons in the 1st hidden layer\n",
        "    unitsHL1 = hParam.Choice('units_First_Hidden_Layer', values = [1024, 512, 400])\n",
        "    model.add(layers.Dense(units = unitsHL1,input_shape=(XTrain[1].shape), activation = 'relu',\n",
        "                             kernel_initializer = initializers.HeNormal()))\n",
        "\n",
        "    model.add(layers.Dropout(rate=DroboutProb))\n",
        "\n",
        "    #Number of neurons in the 2nd layer\n",
        "    unitsHL2 = hParam.Choice('units_Second_Hidden_Layer', values = [512, 400, 256])\n",
        "    model.add(layers.Dense(units = unitsHL2, activation = 'relu',\n",
        "                             kernel_initializer = initializers.HeNormal()))\n",
        "\n",
        "    model.add(layers.Dropout(rate=DroboutProb))\n",
        "\n",
        "    #Number of neurons in the 2nd layer\n",
        "    unitsHL3 = hParam.Choice('units_Third_Hidden_Layer', values = [400, 256, 128])\n",
        "    model.add(layers.Dense(units = unitsHL3, activation = 'relu',\n",
        "                             kernel_initializer = initializers.HeNormal()))\n",
        "\n",
        "    model.add(layers.Dropout(rate=DroboutProb))\n",
        "\n",
        "    model.add(layers.Dropout(rate=DroboutProb))\n",
        "\n",
        "    #Output layer\n",
        "    model.add(layers.Dense(numClasses, kernel_initializer = initializers.HeNormal()))\n",
        "\n",
        "    #Learning rate of Adam to be learned by the hypermodel\n",
        "    LearningRate = hParam.Choice('learning_rate', values = [1e-3 ,1e-2])\n",
        "\n",
        "    #Build model\n",
        "    model.compile(optimizer=tensorflow.keras.optimizers.Adam(learning_rate = LearningRate),\n",
        "                    loss=tensorflow.keras.losses.CategoricalCrossentropy(from_logits=True),\n",
        "                    metrics=[f1Score,'accuracy'])\n",
        "\n",
        "    return model"
      ]
    },
    {
      "cell_type": "markdown",
      "metadata": {
        "id": "D7H1JRI_VJX5"
      },
      "source": [
        "Για την επιλογή των υπερπαραμετρων χρησιμοποιείται ο RandomSearch tuner από τη βιβλιοθήκη KerasTuner. Αντί να πραγματοποιηθεί ένα grid search στο οποίο θα ελεγχθούν όλοι οι πιθανοί συνδυασμοί που θα ορίσουμε, και επομένως το πλήθος των συνδυασμών θα αυξάνονταν εκθετικά για κάθε υπερπαράμετρο που θα προσθέταμε, ο RandomSearch tuner ελέγχει επιλεκτικά κάποιους πιθανούς συνδυασμούς από όλο το grid για να τους δοκιμάσει. Για κάθε συνδυασμό που επιλέγει έχει οριστεί να γίνεται training 3 φορές (executions_per_trial) με 25 epochs για να διασφαλιστεί ότι το τελικό αποτέλεσμα ώστε να μην υπάρχει μεγάλος βαθμός τυχαιότητας στο τελικό μοντέλο . Ο RandomSearch tuner ενδέχεται όμως να μην προσφέρει βέλτιστες λύσεις."
      ]
    },
    {
      "cell_type": "code",
      "execution_count": null,
      "metadata": {
        "colab": {
          "base_uri": "https://localhost:8080/"
        },
        "id": "GZpcXEz49ko1",
        "outputId": "f83bf82e-a783-405c-c861-d85dc3c60ff0"
      },
      "outputs": [
        {
          "name": "stdout",
          "output_type": "stream",
          "text": [
            "Trial 106 Complete [00h 03m 01s]\n",
            "val_accuracy: 0.8541815678278605\n",
            "\n",
            "Best val_accuracy So Far: 0.8596616784731547\n",
            "Total elapsed time: 03h 19m 32s\n",
            "Total time: 11972.505 seconds\n",
            "\n",
            "Optimal number of neurons in 1st layer: 1024\n",
            "Optimal number of neurons in 2nd layer: 512\n",
            "Optimal number of neurons in 3rd layer: 256\n",
            "Optimal value of p for dropout: 0.4\n",
            "Optimal value of learning rate: 0.001\n"
          ]
        }
      ],
      "source": [
        "numClasses = 5\n",
        "\n",
        "# Set up tuner\n",
        "tuner = kt.RandomSearch(buildModel, objective=kt.Objective('val_accuracy', direction = 'max'), max_trials= 130, executions_per_trial=3, overwrite=True)\n",
        "\n",
        "start = time.time()\n",
        "\n",
        "tuner.search(XTrain,yTrainLabelsOneHot, epochs=25, batch_size=128, validation_split=0.2)\n",
        "\n",
        "end = time.time()\n",
        "print(\"Total time: {:.3f} seconds\\n\".format(end-start))\n",
        "\n",
        "\n",
        "#Get the optimal hyperparameters\n",
        "bestHyperParameters= tuner.get_best_hyperparameters(num_trials=1)[0]\n",
        "\n",
        "print(\"Optimal number of neurons in 1st layer: {}\".format(bestHyperParameters.get('units_First_Hidden_Layer')))\n",
        "print(\"Optimal number of neurons in 2nd layer: {}\".format(bestHyperParameters.get('units_Second_Hidden_Layer')))\n",
        "print(\"Optimal number of neurons in 3rd layer: {}\".format(bestHyperParameters.get('units_Third_Hidden_Layer')))\n",
        "print(\"Optimal value of p for dropout: {}\".format(bestHyperParameters.get('p')))\n",
        "print(\"Optimal value of learning rate: {}\".format(bestHyperParameters.get('learning_rate')))"
      ]
    },
    {
      "cell_type": "markdown",
      "metadata": {
        "id": "mV5HZ9aUByKv"
      },
      "source": [
        "### **Βέλτιστο Μοντέλο**"
      ]
    },
    {
      "cell_type": "code",
      "execution_count": null,
      "metadata": {
        "colab": {
          "base_uri": "https://localhost:8080/",
          "height": 1000
        },
        "id": "v9AsYxqDB35M",
        "outputId": "a303748a-70d3-4ade-d2b9-6e6b5dc1d752"
      },
      "outputs": [
        {
          "name": "stdout",
          "output_type": "stream",
          "text": [
            "Epoch 1/30\n"
          ]
        },
        {
          "name": "stderr",
          "output_type": "stream",
          "text": [
            "/usr/local/lib/python3.10/dist-packages/keras/src/layers/core/dense.py:87: UserWarning: Do not pass an `input_shape`/`input_dim` argument to a layer. When using Sequential models, prefer using an `Input(shape)` object as the first layer in the model instead.\n",
            "  super().__init__(activity_regularizer=activity_regularizer, **kwargs)\n"
          ]
        },
        {
          "name": "stdout",
          "output_type": "stream",
          "text": [
            "\u001b[1m44/44\u001b[0m \u001b[32m━━━━━━━━━━━━━━━━━━━━\u001b[0m\u001b[37m\u001b[0m \u001b[1m6s\u001b[0m 80ms/step - accuracy: 0.3898 - f1_score: 0.3910 - loss: 2.2397 - val_accuracy: 0.7427 - val_f1_score: 0.7011 - val_loss: 0.7217\n",
            "Epoch 2/30\n",
            "\u001b[1m44/44\u001b[0m \u001b[32m━━━━━━━━━━━━━━━━━━━━\u001b[0m\u001b[37m\u001b[0m \u001b[1m3s\u001b[0m 58ms/step - accuracy: 0.6282 - f1_score: 0.5801 - loss: 0.9283 - val_accuracy: 0.7748 - val_f1_score: 0.7130 - val_loss: 0.5860\n",
            "Epoch 3/30\n",
            "\u001b[1m44/44\u001b[0m \u001b[32m━━━━━━━━━━━━━━━━━━━━\u001b[0m\u001b[37m\u001b[0m \u001b[1m2s\u001b[0m 52ms/step - accuracy: 0.7033 - f1_score: 0.6340 - loss: 0.7509 - val_accuracy: 0.7798 - val_f1_score: 0.7073 - val_loss: 0.5404\n",
            "Epoch 4/30\n",
            "\u001b[1m44/44\u001b[0m \u001b[32m━━━━━━━━━━━━━━━━━━━━\u001b[0m\u001b[37m\u001b[0m \u001b[1m3s\u001b[0m 64ms/step - accuracy: 0.7406 - f1_score: 0.6481 - loss: 0.6464 - val_accuracy: 0.7984 - val_f1_score: 0.7220 - val_loss: 0.5033\n",
            "Epoch 5/30\n",
            "\u001b[1m44/44\u001b[0m \u001b[32m━━━━━━━━━━━━━━━━━━━━\u001b[0m\u001b[37m\u001b[0m \u001b[1m4s\u001b[0m 91ms/step - accuracy: 0.7607 - f1_score: 0.6598 - loss: 0.5716 - val_accuracy: 0.8134 - val_f1_score: 0.7197 - val_loss: 0.4937\n",
            "Epoch 6/30\n",
            "\u001b[1m44/44\u001b[0m \u001b[32m━━━━━━━━━━━━━━━━━━━━\u001b[0m\u001b[37m\u001b[0m \u001b[1m3s\u001b[0m 33ms/step - accuracy: 0.7719 - f1_score: 0.6652 - loss: 0.5437 - val_accuracy: 0.8227 - val_f1_score: 0.7155 - val_loss: 0.4684\n",
            "Epoch 7/30\n",
            "\u001b[1m44/44\u001b[0m \u001b[32m━━━━━━━━━━━━━━━━━━━━\u001b[0m\u001b[37m\u001b[0m \u001b[1m1s\u001b[0m 31ms/step - accuracy: 0.8044 - f1_score: 0.6726 - loss: 0.5062 - val_accuracy: 0.8284 - val_f1_score: 0.7226 - val_loss: 0.4341\n",
            "Epoch 8/30\n",
            "\u001b[1m44/44\u001b[0m \u001b[32m━━━━━━━━━━━━━━━━━━━━\u001b[0m\u001b[37m\u001b[0m \u001b[1m3s\u001b[0m 33ms/step - accuracy: 0.8146 - f1_score: 0.6872 - loss: 0.4449 - val_accuracy: 0.8342 - val_f1_score: 0.7188 - val_loss: 0.4373\n",
            "Epoch 9/30\n",
            "\u001b[1m44/44\u001b[0m \u001b[32m━━━━━━━━━━━━━━━━━━━━\u001b[0m\u001b[37m\u001b[0m \u001b[1m2s\u001b[0m 31ms/step - accuracy: 0.8245 - f1_score: 0.6770 - loss: 0.4261 - val_accuracy: 0.8313 - val_f1_score: 0.7117 - val_loss: 0.4347\n",
            "Epoch 10/30\n",
            "\u001b[1m44/44\u001b[0m \u001b[32m━━━━━━━━━━━━━━━━━━━━\u001b[0m\u001b[37m\u001b[0m \u001b[1m1s\u001b[0m 33ms/step - accuracy: 0.8498 - f1_score: 0.6915 - loss: 0.3803 - val_accuracy: 0.8385 - val_f1_score: 0.7210 - val_loss: 0.4107\n",
            "Epoch 11/30\n",
            "\u001b[1m44/44\u001b[0m \u001b[32m━━━━━━━━━━━━━━━━━━━━\u001b[0m\u001b[37m\u001b[0m \u001b[1m3s\u001b[0m 51ms/step - accuracy: 0.8586 - f1_score: 0.6941 - loss: 0.3503 - val_accuracy: 0.8377 - val_f1_score: 0.7350 - val_loss: 0.4135\n",
            "Epoch 12/30\n",
            "\u001b[1m44/44\u001b[0m \u001b[32m━━━━━━━━━━━━━━━━━━━━\u001b[0m\u001b[37m\u001b[0m \u001b[1m2s\u001b[0m 32ms/step - accuracy: 0.8608 - f1_score: 0.7023 - loss: 0.3266 - val_accuracy: 0.8449 - val_f1_score: 0.7344 - val_loss: 0.4079\n",
            "Epoch 13/30\n",
            "\u001b[1m44/44\u001b[0m \u001b[32m━━━━━━━━━━━━━━━━━━━━\u001b[0m\u001b[37m\u001b[0m \u001b[1m1s\u001b[0m 32ms/step - accuracy: 0.8777 - f1_score: 0.7106 - loss: 0.3074 - val_accuracy: 0.8470 - val_f1_score: 0.7369 - val_loss: 0.3990\n",
            "Epoch 14/30\n",
            "\u001b[1m44/44\u001b[0m \u001b[32m━━━━━━━━━━━━━━━━━━━━\u001b[0m\u001b[37m\u001b[0m \u001b[1m3s\u001b[0m 32ms/step - accuracy: 0.8782 - f1_score: 0.7140 - loss: 0.3003 - val_accuracy: 0.8492 - val_f1_score: 0.7413 - val_loss: 0.4117\n",
            "Epoch 15/30\n",
            "\u001b[1m44/44\u001b[0m \u001b[32m━━━━━━━━━━━━━━━━━━━━\u001b[0m\u001b[37m\u001b[0m \u001b[1m3s\u001b[0m 32ms/step - accuracy: 0.8840 - f1_score: 0.7186 - loss: 0.2871 - val_accuracy: 0.8470 - val_f1_score: 0.7377 - val_loss: 0.3932\n",
            "Epoch 16/30\n",
            "\u001b[1m44/44\u001b[0m \u001b[32m━━━━━━━━━━━━━━━━━━━━\u001b[0m\u001b[37m\u001b[0m \u001b[1m3s\u001b[0m 40ms/step - accuracy: 0.9058 - f1_score: 0.7265 - loss: 0.2333 - val_accuracy: 0.8449 - val_f1_score: 0.7326 - val_loss: 0.4073\n",
            "Epoch 17/30\n",
            "\u001b[1m44/44\u001b[0m \u001b[32m━━━━━━━━━━━━━━━━━━━━\u001b[0m\u001b[37m\u001b[0m \u001b[1m3s\u001b[0m 51ms/step - accuracy: 0.9050 - f1_score: 0.7292 - loss: 0.2318 - val_accuracy: 0.8499 - val_f1_score: 0.7402 - val_loss: 0.4156\n",
            "Epoch 18/30\n",
            "\u001b[1m44/44\u001b[0m \u001b[32m━━━━━━━━━━━━━━━━━━━━\u001b[0m\u001b[37m\u001b[0m \u001b[1m1s\u001b[0m 31ms/step - accuracy: 0.9086 - f1_score: 0.7301 - loss: 0.2280 - val_accuracy: 0.8442 - val_f1_score: 0.7475 - val_loss: 0.4316\n",
            "Epoch 19/30\n",
            "\u001b[1m44/44\u001b[0m \u001b[32m━━━━━━━━━━━━━━━━━━━━\u001b[0m\u001b[37m\u001b[0m \u001b[1m1s\u001b[0m 32ms/step - accuracy: 0.9162 - f1_score: 0.7388 - loss: 0.2180 - val_accuracy: 0.8463 - val_f1_score: 0.7584 - val_loss: 0.4152\n",
            "Epoch 20/30\n",
            "\u001b[1m44/44\u001b[0m \u001b[32m━━━━━━━━━━━━━━━━━━━━\u001b[0m\u001b[37m\u001b[0m \u001b[1m1s\u001b[0m 33ms/step - accuracy: 0.9310 - f1_score: 0.7365 - loss: 0.1835 - val_accuracy: 0.8449 - val_f1_score: 0.7506 - val_loss: 0.4220\n",
            "Epoch 21/30\n",
            "\u001b[1m44/44\u001b[0m \u001b[32m━━━━━━━━━━━━━━━━━━━━\u001b[0m\u001b[37m\u001b[0m \u001b[1m1s\u001b[0m 34ms/step - accuracy: 0.9284 - f1_score: 0.7389 - loss: 0.1740 - val_accuracy: 0.8370 - val_f1_score: 0.7495 - val_loss: 0.4620\n",
            "Epoch 22/30\n",
            "\u001b[1m44/44\u001b[0m \u001b[32m━━━━━━━━━━━━━━━━━━━━\u001b[0m\u001b[37m\u001b[0m \u001b[1m2s\u001b[0m 33ms/step - accuracy: 0.9325 - f1_score: 0.7377 - loss: 0.1720 - val_accuracy: 0.8477 - val_f1_score: 0.7587 - val_loss: 0.4472\n",
            "Epoch 23/30\n",
            "\u001b[1m44/44\u001b[0m \u001b[32m━━━━━━━━━━━━━━━━━━━━\u001b[0m\u001b[37m\u001b[0m \u001b[1m1s\u001b[0m 33ms/step - accuracy: 0.9409 - f1_score: 0.7404 - loss: 0.1604 - val_accuracy: 0.8506 - val_f1_score: 0.7536 - val_loss: 0.4404\n",
            "Epoch 24/30\n",
            "\u001b[1m44/44\u001b[0m \u001b[32m━━━━━━━━━━━━━━━━━━━━\u001b[0m\u001b[37m\u001b[0m \u001b[1m3s\u001b[0m 50ms/step - accuracy: 0.9490 - f1_score: 0.7492 - loss: 0.1425 - val_accuracy: 0.8485 - val_f1_score: 0.7536 - val_loss: 0.4281\n",
            "Epoch 25/30\n",
            "\u001b[1m44/44\u001b[0m \u001b[32m━━━━━━━━━━━━━━━━━━━━\u001b[0m\u001b[37m\u001b[0m \u001b[1m2s\u001b[0m 34ms/step - accuracy: 0.9464 - f1_score: 0.7506 - loss: 0.1429 - val_accuracy: 0.8556 - val_f1_score: 0.7511 - val_loss: 0.4775\n",
            "Epoch 26/30\n",
            "\u001b[1m44/44\u001b[0m \u001b[32m━━━━━━━━━━━━━━━━━━━━\u001b[0m\u001b[37m\u001b[0m \u001b[1m1s\u001b[0m 32ms/step - accuracy: 0.9519 - f1_score: 0.7514 - loss: 0.1298 - val_accuracy: 0.8477 - val_f1_score: 0.7554 - val_loss: 0.4938\n",
            "Epoch 27/30\n",
            "\u001b[1m44/44\u001b[0m \u001b[32m━━━━━━━━━━━━━━━━━━━━\u001b[0m\u001b[37m\u001b[0m \u001b[1m1s\u001b[0m 32ms/step - accuracy: 0.9532 - f1_score: 0.7515 - loss: 0.1243 - val_accuracy: 0.8570 - val_f1_score: 0.7538 - val_loss: 0.4824\n",
            "Epoch 28/30\n",
            "\u001b[1m44/44\u001b[0m \u001b[32m━━━━━━━━━━━━━━━━━━━━\u001b[0m\u001b[37m\u001b[0m \u001b[1m3s\u001b[0m 33ms/step - accuracy: 0.9632 - f1_score: 0.7580 - loss: 0.1089 - val_accuracy: 0.8463 - val_f1_score: 0.7526 - val_loss: 0.4825\n",
            "Epoch 29/30\n",
            "\u001b[1m44/44\u001b[0m \u001b[32m━━━━━━━━━━━━━━━━━━━━\u001b[0m\u001b[37m\u001b[0m \u001b[1m1s\u001b[0m 32ms/step - accuracy: 0.9595 - f1_score: 0.7553 - loss: 0.1185 - val_accuracy: 0.8420 - val_f1_score: 0.7638 - val_loss: 0.5083\n",
            "Epoch 30/30\n",
            "\u001b[1m44/44\u001b[0m \u001b[32m━━━━━━━━━━━━━━━━━━━━\u001b[0m\u001b[37m\u001b[0m \u001b[1m1s\u001b[0m 33ms/step - accuracy: 0.9671 - f1_score: 0.7649 - loss: 0.0877 - val_accuracy: 0.8513 - val_f1_score: 0.7519 - val_loss: 0.4912\n",
            "Training time: 69.415 seconds\n",
            "\n"
          ]
        },
        {
          "data": {
            "image/png": "[encoded data removed]",
            "text/plain": [
              "<Figure size 640x480 with 1 Axes>"
            ]
          },
          "metadata": {},
          "output_type": "display_data"
        },
        {
          "data": {
            "image/png": "[encoded data removed]",
            "text/plain": [
              "<Figure size 640x480 with 1 Axes>"
            ]
          },
          "metadata": {},
          "output_type": "display_data"
        },
        {
          "name": "stdout",
          "output_type": "stream",
          "text": [
            "\u001b[1m55/55\u001b[0m \u001b[32m━━━━━━━━━━━━━━━━━━━━\u001b[0m\u001b[37m\u001b[0m \u001b[1m0s\u001b[0m 7ms/step - accuracy: 0.8426 - f1_score: 0.7520 - loss: 0.5781\n",
            "Test accuracy: 0.8353\n",
            "Test F1 Score: 0.7455\n",
            "\u001b[1m55/55\u001b[0m \u001b[32m━━━━━━━━━━━━━━━━━━━━\u001b[0m\u001b[37m\u001b[0m \u001b[1m1s\u001b[0m 9ms/step\n",
            "              precision    recall  f1-score   support\n",
            "\n",
            "           0       0.94      0.98      0.96       377\n",
            "           1       0.67      0.73      0.70       332\n",
            "           2       0.90      0.92      0.91       349\n",
            "           3       0.89      0.88      0.89       325\n",
            "           4       0.77      0.67      0.71       366\n",
            "\n",
            "    accuracy                           0.84      1749\n",
            "   macro avg       0.83      0.83      0.83      1749\n",
            "weighted avg       0.83      0.84      0.83      1749\n",
            "\n"
          ]
        },
        {
          "data": {
            "image/png": "[encoded data removed]",
            "text/plain": [
              "<Figure size 640x480 with 2 Axes>"
            ]
          },
          "metadata": {},
          "output_type": "display_data"
        }
      ],
      "source": [
        "#Build model\n",
        "optimalModel = tuner.hypermodel.build(bestHyperParameters)\n",
        "\n",
        "start = time.time()\n",
        "\n",
        "#Train model\n",
        "history = optimalModel.fit(XTrain, yTrainLabelsOneHot, epochs=30, batch_size=128, validation_split=0.2, verbose=1)\n",
        "\n",
        "end = time.time()\n",
        "print(\"Training time: {:.3f} seconds\\n\".format(end-start))\n",
        "\n",
        "plt.figure()\n",
        "plt.plot(history.history['accuracy'],label='Train Accuracy')\n",
        "plt.plot(history.history['val_accuracy'],label='Test Accuracy')\n",
        "plt.title('Acurracy on training and validation sets')\n",
        "plt.ylabel('Accuracy')\n",
        "plt.xlabel('Epochs')\n",
        "plt.legend()\n",
        "plt.show()\n",
        "\n",
        "plt.figure()\n",
        "plt.plot(history.history['loss'],label='Train Loss')\n",
        "plt.plot(history.history['val_loss'],label='Test Loss')\n",
        "plt.title('Loss on training and validation sets')\n",
        "plt.ylabel('Cross-Entropy')\n",
        "plt.xlabel('Epochs')\n",
        "plt.legend()\n",
        "plt.show()\n",
        "\n",
        "\n",
        "score = optimalModel.evaluate(XTest, yTestLabelsOneHot)\n",
        "print('Test accuracy: {:.4f}'.format(score[2]))\n",
        "print('Test F1 Score: {:.4f}'.format(score[1]))\n",
        "\n",
        "#Predictions\n",
        "prediction = optimalModel.predict(XTest, verbose=1)\n",
        "yPred = np.argmax(prediction, axis=1) #get predicted class\n",
        "labels = [\"1\", \"2\", \"3\", \"4\", \"5\"]\n",
        "\n",
        "#Create and display confusion matrix\n",
        "M = confusion_matrix(yTest, yPred)\n",
        "\n",
        "disp = ConfusionMatrixDisplay(confusion_matrix=M, display_labels=labels)\n",
        "\n",
        "disp.plot(cmap=plt.cm.Blues)\n",
        "plt.show\n",
        "\n",
        "#accuracy, precision, recall and f1-score\n",
        "print(classification_report(yTest, yPred))"
      ]
    },
    {
      "cell_type": "markdown",
      "metadata": {
        "id": "yKybLHrDdO6A"
      },
      "source": [
        "# **SVM: Support Vector Machines**"
      ]
    },
    {
      "cell_type": "markdown",
      "metadata": {
        "id": "-sqsS6cY988y"
      },
      "source": [
        "## **Kernel functions**"
      ]
    },
    {
      "cell_type": "markdown",
      "metadata": {
        "id": "jMzvIUYB6mWw"
      },
      "source": [
        "Τύποι kernel: Οι τύποι πυρήνων που χρησιμοποιούνται παρουσιάζονται παρακάτω :\n",
        "\n",
        "•\t**Linear Kernel** (Γραμμικός Πυρήνας): Υπολογίζει το εσωτερικό γινόμενο μεταξύ των 2 vectors εισόδου.\n",
        "\n",
        "•\t**Gaussian – RBF Kernel**: Υπολογίζει την τιμή του gaussian πυρήνα για τα 2 vectors εισόδου βρίσκοντας αρχικά την ευκλείδεια απόσταση μεταξύ τους και βάζοντας τα στην εκθετική συναρτηση.\n",
        "\n",
        "•\t**Polynomial Kernel**: Υπολογίζει την τιμή του πολυωνυμικού πυρήνα για δύο vectors εισόδου βάσει της εκθετικής αύξησης στο εσωτερικό γινόμενο τους και του βαθμού του πολυωνύμου.\n",
        "\n",
        "•\t**Sigmoid Kernel**: Υπολογίζει την τιμή του Sigmoid πυρήνα για δύο vectors εισόδου με βάση τη σιγμοειδή συνάρτηση, το εσωτερικό γινόμενο των διανυσμάτων τους και τις παραμέτρους alpha και c.\n"
      ]
    },
    {
      "cell_type": "code",
      "execution_count": null,
      "metadata": {
        "id": "GajwR1slIWZo"
      },
      "outputs": [],
      "source": [
        "def linearKernel(x1, x2):\n",
        "    return np.dot(x1, x2.T)\n",
        "\n",
        "def gaussianKernel(x, y, sigma):\n",
        "    return np.exp(-sigma*np.linalg.norm(x-y)**2)\n",
        "\n",
        "def sigmoidKernel(x, y, alpha, c):\n",
        "    return np.tanh(alpha * np.dot(x, y.T) + c)\n",
        "\n",
        "def polynomialKernel(x, y, degree, constant):\n",
        "    return (np.dot(x, y.T) + constant) ** degree"
      ]
    },
    {
      "cell_type": "markdown",
      "metadata": {
        "id": "QHRxSMRWQ4pd"
      },
      "source": [
        "## **Κλάση SVM**"
      ]
    },
    {
      "cell_type": "markdown",
      "metadata": {
        "id": "apDJ3kDd5cv9"
      },
      "source": [
        "Η κλάση αυτή επιτρέπει την κατασκευή και εκπαίδευση μοντέλου SVM, υποστηρίζοντας διαφορετικές συναρτήσεις πυρήνα (kernel functions), όπως γραμμικές, πολυωνυμικές και Gaussian (RBF). Χρησιμοποιεί το εργαλείο cvxopt για την επίλυση ενός προβλήματος βελτιστοποίησης (Quadratic Programming - QP) για την εύρεση των support vectors.  Επιπλέον, μπορεί να χειριστεί multiclass δεδομένα χρησιμοποιώντας τη στρατηγική one-vs-one, όπου εκπαιδεύεται ένα δυαδικό μοντέλο για κάθε ζευγάρι κατηγοριών.\n",
        "\n",
        "Aρχικά, η κλάση SVM αρχικοποιεί το αντικείμενο SVM με παραμέτρους:\n",
        "\n",
        "*  **kernel** (πυρήνας): Ο τύπος πυρήνα που χρησιμοποιείται για τη μετασχηματισμό των δεδομένων.\n",
        "\n",
        "*  **C**:  Το C είναι μία παράμετρος κανονικοποίησης, η οποία πολλαπλασιάζεται με τις μεταβλητές χαλαρότητας ξi στο τροποποιημένο πρόβλημα του τετραγωνικού προγραμματισμού. Στην ουσία είναι το βάρος τους κόστους των λάθος ταξινομήσεων. Για τιμή C=0, αγνοούμε τελείως τις παραμέτρους χαλαρότητας και οι λάθος ταξινομήσεις δεν μας ενδιαφέρουν καθόλου. Αν πάλι το C λάβει μεγάλη τιμή, δίνεται μεγαλύτερη σημασία στη σωστή ταξινόμηση των προτύπων.\n",
        "\n",
        "*\t**gamma**: Η παράμετρος πυρήνα γκαουσιανής συνάρτησης. Επηρεάζει  την ευαισθησία του μοντέλου στα σημεία δεδομένων.\n",
        "\n",
        "*\t**degree** : Ο βαθμός του πυρήνα πολυωνυμικής συνάρτησης.\n",
        "\n",
        "*\t**constant** : Η σταθερά πολυωνυμικού πυρήνα.\n",
        "\n",
        "\n",
        "Αν το πρόβλημα ταξινομησης είναι multiclass, δημιουργεί έναν πίνακα για αποθήκευση των μοντέλων one-vs-one.\n",
        "\n",
        "*\t**fit()**: Η συνάρτηση fit αναλαμβάνει την εκπαίδευση του μοντέλου. Αν υπάρχουν περισσότερες από δύο κλάσεις, το πρόβλημα αντιμετωπίζεται ως multiclass ταξινόμηση χρησιμοποιώντας τη στρατηγική one-vs-one οπου δημιουργείται ένα ξεχωριστό δυαδικό μοντέλο για κάθε πιθανό ζεύγος κλάσεων.Για κάθε ζεύγος, φιλτράρονται τα δεδομένα ώστε να περιλαμβάνουν μόνο δύο κλάσεις, δημιουργείται ένα νέο SVM μοντέλο για το συγκεκριμένο ζεύγος και το μοντέλο εκπαιδεύεται μέσω της binary_fit. Η ακρίβεια εκπαίδευσης υπολογίζεται και αποθηκεύεται, ενώ το εκπαιδευμένο μοντέλο αποθηκεύεται στο λεξικό self.models. Στην περίπτωση που υπάρχουν μόνο δύο κλάσεις, το πρόβλημα αντιμετωπίζεται απευθείας ως δυαδική ταξινόμηση, όπου το SVM εκπαιδεύεται στα δεδομένα και υπολογίζεται η ακρίβεια.\n",
        "\n",
        "* **prepare_binary_data()** : Προετοιμάζει τα δεδομένα εκπαίδευσης για ένα δυαδικό πρόβλημα ταξινόμησης όταν έχουμε πολυκατηγορικά δεδομένα. Αρχικά, φιλτράρει τα δεδομένα ώστε να περιλαμβάνουν μόνο δείγματα από δύο συγκεκριμένες κλάσεις, που ορίζονται από τις παραμέτρους class1 και class2. Στη συνέχεια, δημιουργείται μια μάσκα που εντοπίζει ποια δείγματα ανήκουν στις δύο κλάσεις. H η class1 λαμβάνει label +1 και η class2 label -1. Η μέθοδος επιστρέφει τα φιλτραρισμένα δείγματα εκπαίδευσης και τις αντίστοιχες τροποποιημένες ετικέτες.\n",
        "\n",
        "* **binary_fit()**: Εκπαιδεύει το μοντέλο SVM για ένα πρόβλημα δυαδικής ταξινόμησης. Κατά την\n",
        "εκτέλεσή της, υπολογίζει τον γραμμικό πίνακα (Gram matrix) από  τα δεδομένα εκπαίδευσης, χρησιμοποιώντας τον πυρήνα που έχει οριστεί. Στην συνέχεια , δημιουργούνται οι πίνακες που απαιτούνται για το πρόβλημα βελτιστοποίησης  Quadratic Programming(P, q, A, b). Έπειτα,  ορίζονται οι πίνακες περιορισμών (constraints) ανάλογα με την παράμετρο C. Ο πίνακας G περιέχει τους περιορισμούς του προβλήματος QP και ο πίνακας h περιέχει τις αντίστοιχες τιμές στις συνθήκες περιορισμού. Οι συντελεστές Lagrange υπολογίζονται από τη λύση του QP προβλήματος και με βάση αυτούς προκύπτουν τα support vectors. Τέλος, υπολογίζεται το σταθερό όριο (bias).\n",
        "\n",
        "* **accuracy_calculator()**: Υπολογίζει την ακρίβεια του μοντέλου συγκρίνοντας τις προβλέψεις του με τις πραγματικές ετικέτες. Χρησιμοποιεί τη μέθοδο binary_predict για να παράγει προβλέψεις και υπολογίζει το ποσοστό των σωστών προβλέψεων ως μέσο όρο. Επιστρέφει την ακρίβεια ως τιμή.\n",
        "\n",
        "* **predict()**: Πραγματοποιεί προβλέψεις για τόσο δυαδική όσο και πολυταξική ταξινόμηση. Στην περίπτωση πολυταξικής ταξινόμησης, εφαρμόζει την προσέγγιση one-vs-one. Κάθε ζεύγος κλάσεων εκπαιδεύει ένα μοντέλο και οι προβλέψεις καταγράφονται ως ψήφοι. Δηλαδή κάθε ένα από αυτά τα μοντέλα προβλέπει την ετικέτα για τα δεδομένα δοκιμής και το αποτέλεσμα καταγράφεται ως ψήφος υπέρ μίας από τις δύο κλάσεις του ζεύγους. Μετά τη συγκέντρωση των ψήφων από όλα τα μοντέλα, η τελική ετικέτα κάθε δείγματος καθορίζεται με βάση την πλειοψηφία των ψήφων. Ο τελικός ταξινομητής αποφασίζει την ετικέτα κάθε δείγματος με βάση την πλειοψηφία ψήφων. Στη δυαδική ταξινόμηση, χρησιμοποιεί απευθείας τη μέθοδο binary_predict για να προβλέψει τις ετικέτες των δεδομένων δοκιμής.\n",
        "\n",
        "* **binary_predict()**: Yλοποιεί την πρόβλεψη του μοντέλου SVM ανάλογα με τον τύπο του kernel που χρησιμοποιείται στο test set και επιστρέφει ως έξοδο τις προβλέψεις (-1 ή 1 για κάθε test sample).\n",
        "\n"
      ]
    },
    {
      "cell_type": "code",
      "execution_count": null,
      "metadata": {
        "id": "-D1JDZDldhoR"
      },
      "outputs": [],
      "source": [
        "class SVM:\n",
        "\n",
        "    # Constructor method to initialize the SVM object with hyperparameters and configurations\n",
        "    def __init__(self, kernel=linearKernel, C=None, gamma=None, disp=True, degree=None, constant=None):\n",
        "        self.kernel = kernel  # The kernel function used (e.g., linear, Gaussian, or polynomial)\n",
        "        self.C = C  # Regularization parameter, controls tradeoff between margin width and misclassification\n",
        "        self.gamma = gamma  # Hyperparameter for Gaussian kernel\n",
        "        self.degree = degree  # Degree of polynomial for polynomial kernel\n",
        "        self.constant = constant  # Constant term for polynomial kernel\n",
        "        self.disp = disp  # Display flag for progress\n",
        "        if self.C is not None:\n",
        "            self.C = float(self.C)  # Ensure C is a float if specified\n",
        "        self.models = {}  # Dictionary to store one-vs-one models for multiclass classification\n",
        "\n",
        "    # Method to train the SVM model\n",
        "    def fit(self, XTrain, yTrain):\n",
        "        uniqueClasses = np.unique(yTrain)  # Find unique class labels in training data\n",
        "        if len(uniqueClasses) > 2:\n",
        "            # Multiclass case: use one-vs-one strategy\n",
        "            for i, class1 in enumerate(uniqueClasses):\n",
        "                for class2 in uniqueClasses[i + 1:]:\n",
        "                    print(f\"Training binary classifier for class {class1} vs. class {class2}\")\n",
        "                    binary_x, binary_y = self.prepare_binary_data(XTrain, yTrain, class1, class2)\n",
        "                    model = SVM(kernel=self.kernel, C=self.C, gamma=self.gamma, disp=self.disp,\n",
        "                                degree=self.degree, constant=self.constant)\n",
        "                    model.binary_fit(binary_x, binary_y)  # Train binary model\n",
        "\n",
        "                    # Calculate and display training accuracy\n",
        "                    train_acc = self.accurary_calculator(model, binary_x, binary_y)\n",
        "                    print(f\"Training accuracy for class {class1.astype(int)} vs. class {class2.astype(int)}: {train_acc:.4f}\",\"\\n\")\n",
        "\n",
        "                    self.models[(class1, class2)] = model  # Store trained model for this class pair\n",
        "        else:\n",
        "            # Binary case: fit directly\n",
        "            self.binary_fit(XTrain, yTrain)\n",
        "            train_acc = self.accurary_calculator(self, XTrain, yTrain)\n",
        "            print(f\"Training accuracy for binary classification: {train_acc:.4f}\",\"\\n\")\n",
        "\n",
        "    # Helper method to prepare binary-class data from multiclass data\n",
        "    def prepare_binary_data(self, XTrain, yTrain, class1, class2):\n",
        "        print(f\"Preparing binary data for class {class1} and class {class2}\")\n",
        "        class1Labels = yTrain[yTrain == class1]\n",
        "        class2Labels = yTrain[yTrain == class2]\n",
        "        print(f\"Number of samples in class {class1}: {class1Labels.shape[0]}\")\n",
        "        print(f\"Number of samples in class {class2}: {class2Labels.shape[0]}\")\n",
        "        mask = np.logical_or(yTrain == class1, yTrain == class2)  # Mask to filter class1 and class2\n",
        "        XTrainSamples = XTrain[mask]  # Select only samples from these two classes\n",
        "        yTrainSamples = yTrain[mask]\n",
        "        yTrainSamples[yTrainSamples == class1] = 1  # Assign label +1 to class1\n",
        "        yTrainSamples[yTrainSamples == class2] = -1  # Assign label -1 to class2\n",
        "        return XTrainSamples, yTrainSamples\n",
        "\n",
        "    # Internal method to train the SVM for binary classification\n",
        "    def binary_fit(self, XTrain, yTrain):\n",
        "        assert XTrain.shape[0] == yTrain.shape[0], \"Mismatch between x_train samples and y_train labels\"\n",
        "        numSamples, numFeatures = XTrain.shape\n",
        "        if self.disp:\n",
        "            print('Number of samples:', numSamples)\n",
        "            print('Number of features:', numFeatures)\n",
        "\n",
        "        yTrain = yTrain.reshape(-1)  # Ensure yTrain is a 1D array\n",
        "        K = np.zeros((numSamples, numSamples))  # Kernel matrix\n",
        "\n",
        "        # Compute the kernel matrix\n",
        "        for i in range(numSamples):\n",
        "            for j in range(numSamples):\n",
        "                if self.kernel is linearKernel:\n",
        "                    K[i, j] = self.kernel(XTrain[i], XTrain[j])\n",
        "                elif self.kernel is gaussianKernel:\n",
        "                    K[i, j] = self.kernel(XTrain[i], XTrain[j], self.gamma)\n",
        "                else:\n",
        "                    K[i, j] = self.kernel(XTrain[i], XTrain[j], self.degree, self.constant)\n",
        "\n",
        "        # Quadratic programming matrices\n",
        "        P = matrix(np.outer(yTrain, yTrain) * K)\n",
        "        q = matrix(np.ones(numSamples) * -1.0)\n",
        "        A = matrix(yTrain.astype('double'), (1, numSamples))\n",
        "        b = matrix(0.0)\n",
        "\n",
        "        # Constraints for optimization\n",
        "        if self.C is None:\n",
        "            G = matrix(np.diag(np.ones(numSamples) * -1))\n",
        "            h = matrix(np.zeros(numSamples))\n",
        "        else:\n",
        "            G_1 = -1 * np.identity(numSamples)\n",
        "            G_2 = np.identity(numSamples)\n",
        "            G = matrix(np.vstack((G_1, G_2)))\n",
        "            h_1 = np.zeros(numSamples)\n",
        "            h_2 = np.ones(numSamples) * self.C\n",
        "            h = matrix(np.hstack((h_1, h_2)))\n",
        "\n",
        "        solvers.options['show_progress'] = False  # Suppress solver output\n",
        "        solution = solvers.qp(P, q, G, h, A, b)  # Solve QP problem\n",
        "        a = np.ravel(solution['x'])  # Lagrange multipliers\n",
        "\n",
        "        # Identify support vectors\n",
        "        svL = (a > 1e-5)\n",
        "        self.a = a[svL]\n",
        "        self.sv = XTrain[svL]\n",
        "        self.sv_y = yTrain[svL]\n",
        "\n",
        "        # Compute the bias term\n",
        "        if self.kernel is linearKernel:\n",
        "            self.b = self.sv_y - np.sum(\n",
        "                self.kernel(self.sv, self.sv) * self.a * self.sv_y, axis=0)\n",
        "        elif self.kernel is gaussianKernel:\n",
        "            self.b = self.sv_y - np.sum(\n",
        "                self.kernel(self.sv, self.sv, self.gamma) * self.a * self.sv_y, axis=0)\n",
        "        else:\n",
        "            self.b = self.sv_y - np.sum(\n",
        "                self.kernel(self.sv, self.sv, self.degree, self.constant) * self.a * self.sv_y, axis=0)\n",
        "\n",
        "        self.b = np.sum(self.b) / self.b.size  # Average bias\n",
        "\n",
        "    # Method to calculate accuracy of the model\n",
        "    def accurary_calculator(self, model, x, y):\n",
        "        predictions = model.binary_predict(x)  # Generate predictions\n",
        "        accuracy = np.mean(predictions == y)  # Compute mean accuracy\n",
        "        return accuracy\n",
        "\n",
        "    # Predict method for both binary and multiclass cases\n",
        "    def predict(self, XTest):\n",
        "        if self.models:\n",
        "            # Multiclass prediction using majority vote\n",
        "            votes = np.zeros((XTest.shape[0], len(self.models)))\n",
        "            class_pairs = list(self.models.keys())\n",
        "            for idx, (class1, class2) in enumerate(class_pairs):\n",
        "                model = self.models[(class1, class2)]\n",
        "                binaryPredictions = model.binary_predict(XTest)\n",
        "                binaryPredictions = np.where(binaryPredictions == 1, class1, class2)\n",
        "                votes[:, idx] = binaryPredictions\n",
        "            finalPredictions = [Counter(votes[i]).most_common(1)[0][0] for i in range(XTest.shape[0])]\n",
        "            return np.array(finalPredictions)\n",
        "        else:\n",
        "            # Binary prediction\n",
        "            return self.binary_predict(XTest)\n",
        "\n",
        "    # Predict method for binary classification\n",
        "    def binary_predict(self, XTest):\n",
        "        yPred = np.zeros(len(XTest))\n",
        "        for i in range(len(XTest)):\n",
        "            for a, sv_y, sv in zip(self.a, self.sv_y, self.sv):\n",
        "                if self.kernel is linearKernel:\n",
        "                    yPred[i] += a * sv_y * self.kernel(XTest[i], sv)\n",
        "                elif self.kernel is gaussianKernel:\n",
        "                    yPred[i] += a * sv_y * self.kernel(XTest[i], sv, self.gamma)\n",
        "                else:\n",
        "                    yPred[i] += a * sv_y * self.kernel(XTest[i], sv, self.degree, self.constant)\n",
        "        yPred += self.b  # Add bias\n",
        "        return np.sign(yPred).astype(int)  # Return class labels (+1 or -1)"
      ]
    },
    {
      "cell_type": "markdown",
      "metadata": {
        "id": "Ss3iuxm4RDes"
      },
      "source": [
        "### **Διαχωρισμός και κατανομή Dataset**"
      ]
    },
    {
      "cell_type": "code",
      "execution_count": null,
      "metadata": {
        "colab": {
          "base_uri": "https://localhost:8080/"
        },
        "id": "iuoSwi5-Qxf6",
        "outputId": "1bab169a-d684-4b59-cbba-a2d942ea902f"
      },
      "outputs": [
        {
          "output_type": "stream",
          "name": "stdout",
          "text": [
            "\n",
            "Label Distribution:\n",
            "Class 1: 1769 samples\n",
            "Class 2: 1720 samples\n",
            "Class 3: 1754 samples\n",
            "Class 4: 1716 samples\n",
            "Class 5: 1784 samples\n"
          ]
        }
      ],
      "source": [
        "# Load and prepare the dataset\n",
        "dataset_df = pd.read_csv('datasetTV.csv', delimiter=',', skip_blank_lines=True, header=None)\n",
        "dataset_df = dataset_df.dropna()\n",
        "\n",
        "dataset = dataset_df.to_numpy()\n",
        "X = dataset[..., :-1]\n",
        "y = dataset[..., -1].astype(int)\n",
        "\n",
        "# Analyze the distribution of labels in the dataset\n",
        "def analyze_label_distribution(y_data):\n",
        "    unique_labels, counts = np.unique(y_data, return_counts=True)\n",
        "    print(\"\\nLabel Distribution:\")\n",
        "    for label, count in zip(unique_labels, counts):\n",
        "        print(f\"Class {label}: {count} samples\")\n",
        "\n",
        "# Analyze label distribution\n",
        "analyze_label_distribution(y)\n",
        "\n",
        "\n",
        "split_scale = 0.2  # Split into training and test sets with a 70%-30% ratio.\n",
        "XTrain, XTest, yTrain, yTest = train_test_split(X, y, test_size=split_scale, shuffle=True)"
      ]
    },
    {
      "cell_type": "markdown",
      "metadata": {
        "id": "mgr1Oi_SRML5"
      },
      "source": [
        "### **Εκπαίδευση SVM για multiclass classification και Αποτελέσματα**"
      ]
    },
    {
      "cell_type": "code",
      "execution_count": null,
      "metadata": {
        "colab": {
          "base_uri": "https://localhost:8080/",
          "height": 1000
        },
        "id": "sA_UGNZATyLe",
        "outputId": "d6dd37e3-7df0-4441-c44f-c64c4f9b6b7b"
      },
      "outputs": [
        {
          "output_type": "stream",
          "name": "stdout",
          "text": [
            "Training binary classifier for class 1 vs. class 2\n",
            "Preparing binary data for class 1 and class 2\n",
            "Number of samples in class 1: 1401\n",
            "Number of samples in class 2: 1386\n",
            "Number of samples: 2787\n",
            "Number of features: 224\n",
            "Training accuracy for class 1 vs. class 2: 1.0000 \n",
            "\n",
            "Training binary classifier for class 1 vs. class 3\n",
            "Preparing binary data for class 1 and class 3\n",
            "Number of samples in class 1: 1401\n",
            "Number of samples in class 3: 1399\n",
            "Number of samples: 2800\n",
            "Number of features: 224\n",
            "Training accuracy for class 1 vs. class 3: 1.0000 \n",
            "\n",
            "Training binary classifier for class 1 vs. class 4\n",
            "Preparing binary data for class 1 and class 4\n",
            "Number of samples in class 1: 1401\n",
            "Number of samples in class 4: 1378\n",
            "Number of samples: 2779\n",
            "Number of features: 224\n",
            "Training accuracy for class 1 vs. class 4: 1.0000 \n",
            "\n",
            "Training binary classifier for class 1 vs. class 5\n",
            "Preparing binary data for class 1 and class 5\n",
            "Number of samples in class 1: 1401\n",
            "Number of samples in class 5: 1430\n",
            "Number of samples: 2831\n",
            "Number of features: 224\n",
            "Training accuracy for class 1 vs. class 5: 1.0000 \n",
            "\n",
            "Training binary classifier for class 2 vs. class 3\n",
            "Preparing binary data for class 2 and class 3\n",
            "Number of samples in class 2: 1386\n",
            "Number of samples in class 3: 1399\n",
            "Number of samples: 2785\n",
            "Number of features: 224\n",
            "Training accuracy for class 2 vs. class 3: 1.0000 \n",
            "\n",
            "Training binary classifier for class 2 vs. class 4\n",
            "Preparing binary data for class 2 and class 4\n",
            "Number of samples in class 2: 1386\n",
            "Number of samples in class 4: 1378\n",
            "Number of samples: 2764\n",
            "Number of features: 224\n",
            "Training accuracy for class 2 vs. class 4: 1.0000 \n",
            "\n",
            "Training binary classifier for class 2 vs. class 5\n",
            "Preparing binary data for class 2 and class 5\n",
            "Number of samples in class 2: 1386\n",
            "Number of samples in class 5: 1430\n",
            "Number of samples: 2816\n",
            "Number of features: 224\n",
            "Training accuracy for class 2 vs. class 5: 1.0000 \n",
            "\n",
            "Training binary classifier for class 3 vs. class 4\n",
            "Preparing binary data for class 3 and class 4\n",
            "Number of samples in class 3: 1399\n",
            "Number of samples in class 4: 1378\n",
            "Number of samples: 2777\n",
            "Number of features: 224\n",
            "Training accuracy for class 3 vs. class 4: 1.0000 \n",
            "\n",
            "Training binary classifier for class 3 vs. class 5\n",
            "Preparing binary data for class 3 and class 5\n",
            "Number of samples in class 3: 1399\n",
            "Number of samples in class 5: 1430\n",
            "Number of samples: 2829\n",
            "Number of features: 224\n",
            "Training accuracy for class 3 vs. class 5: 1.0000 \n",
            "\n",
            "Training binary classifier for class 4 vs. class 5\n",
            "Preparing binary data for class 4 and class 5\n",
            "Number of samples in class 4: 1378\n",
            "Number of samples in class 5: 1430\n",
            "Number of samples: 2808\n",
            "Number of features: 224\n",
            "Training accuracy for class 4 vs. class 5: 1.0000 \n",
            "\n",
            "Test set accuracy:  0.8553459119496856\n",
            "              precision    recall  f1-score   support\n",
            "\n",
            "           1       0.96      0.95      0.96       368\n",
            "           2       0.71      0.75      0.73       334\n",
            "           3       0.91      0.93      0.92       355\n",
            "           4       0.92      0.91      0.91       338\n",
            "           5       0.77      0.73      0.75       354\n",
            "\n",
            "    accuracy                           0.86      1749\n",
            "   macro avg       0.85      0.85      0.85      1749\n",
            "weighted avg       0.86      0.86      0.86      1749\n",
            "\n"
          ]
        },
        {
          "output_type": "display_data",
          "data": {
            "text/plain": [
              "<Figure size 640x480 with 2 Axes>"
            ],
            "image/png": "[encoded data removed]"
          },
          "metadata": {}
        }
      ],
      "source": [
        "# Train the SVM\n",
        "svm = SVM(kernel=polynomialKernel, C=1, gamma=1, disp=True, degree=2, constant=0)\n",
        "svm.fit(XTrain, yTrain)\n",
        "\n",
        "# Evaluate the SVM\n",
        "yPred = svm.predict(XTest)\n",
        "\n",
        "# Print accuracy and classification report\n",
        "print('Test set accuracy: ', accuracy_score(yTest, yPred))\n",
        "print(classification_report(yTest, yPred))\n",
        "\n",
        "# Dynamically create labels based on classes in y_test\n",
        "labels = [f'Class {label}' for label in np.unique(y)]\n",
        "\n",
        "# Create and display confusion matrix\n",
        "M = confusion_matrix(yTest, yPred)\n",
        "\n",
        "disp = ConfusionMatrixDisplay(confusion_matrix=M, display_labels=labels)\n",
        "disp.plot(cmap=plt.cm.Blues)\n",
        "plt.show()"
      ]
    },
    {
      "cell_type": "code",
      "execution_count": null,
      "metadata": {
        "colab": {
          "base_uri": "https://localhost:8080/"
        },
        "id": "zC5eOLJi40NV",
        "outputId": "23a60cbb-2adf-4cb4-fc3d-f6f0b04d8bd6"
      },
      "outputs": [
        {
          "data": {
            "text/plain": [
              "(1749, 224)"
            ]
          },
          "execution_count": 40,
          "metadata": {},
          "output_type": "execute_result"
        }
      ],
      "source": [
        "XTest.shape"
      ]
    },
    {
      "cell_type": "markdown",
      "metadata": {
        "id": "9DA7o8O12Y00"
      },
      "source": [
        "## **HyperParameter Tuning**"
      ]
    },
    {
      "cell_type": "markdown",
      "metadata": {
        "id": "KUwdqjW07Ujk"
      },
      "source": [
        "Σε αυτό το στάδιο της εργασίας και μετά από τις δοκιμές για κάποιες υπερπαραμετρους θα γίνει προσπάθεια εύρεσης των καταλληλότερων για το dataset. Αρχικά , ενώνονται τα train και test sets σε ένα ενιαίο , προκειμένου να χρησιμοποιηθεί η τεχνική cross validation. Για κάθε τύπο kernel θα γίνει grid search για τις αντίστοιχες υπερπαραμετρους. Με for loops για κάθε παράμετρο που εξετάζεται επιλέγεται το βέλτιστο μοντέλο και ελέγχονται όλοι οι δυνατοί συνδυασμοί, με 5-fold/3-fold Cross validation για να έχει αξιοπιστία η τελική επιλογή και προκειμένου να επιτευχθούν πιο ισχυρές εκτιμήσεις της ακρίβειας κάθε μοντέλου. Τέλος, επιλέγεται το μοντέλο με την καλύτερη ακρίβεια."
      ]
    },
    {
      "cell_type": "markdown",
      "metadata": {
        "id": "NTdZSDk7B4dV"
      },
      "source": [
        "### **Grid Search using also K fold Cross Validation for robustness**\n",
        "\n"
      ]
    },
    {
      "cell_type": "code",
      "execution_count": null,
      "metadata": {
        "id": "a-38ZF-NB220"
      },
      "outputs": [],
      "source": [
        "# Concatenating feature sets (XTrain and XTest)\n",
        "X = np.concatenate((XTrain, XTest), axis=0)\n",
        "\n",
        "# Concatenating label sets (yTrain and yTest)\n",
        "y = np.concatenate((yTrain, yTest), axis=0)\n",
        "\n",
        "# Combine features and labels into one array for shuffling\n",
        "XyCombined = np.column_stack((X, y))\n",
        "\n",
        "# Shuffle the combined dataset\n",
        "np.random.shuffle(XyCombined)\n",
        "\n",
        "# Splitting back into X (features) and y (labels)\n",
        "XTrainU = XyCombined[:, :-1]  # Features are all columns except the last one\n",
        "yTrainU = XyCombined[:, -1]   # Labels are the last column\n"
      ]
    },
    {
      "cell_type": "markdown",
      "metadata": {
        "id": "T4YxI55qDDTk"
      },
      "source": [
        "### **Grid Search for Linear SVM**"
      ]
    },
    {
      "cell_type": "markdown",
      "metadata": {
        "id": "cHDduu8G-YOs"
      },
      "source": [
        "A.\tLinear Kernel SVM\n",
        "Η μοναδική παράμετρος είναι το C και το grid search για την εύρεση του βέλτιστου μοντέλου θα γίνει με τις εξής τιμές : C = [ 0.1, 1, 10, 100, 1000 , 10e3]\n"
      ]
    },
    {
      "cell_type": "code",
      "execution_count": null,
      "metadata": {
        "id": "e4DScxaE19im"
      },
      "outputs": [],
      "source": [
        "def tuningLinearSVM(k,CValues,x_train,y_train):\n",
        "\n",
        "    kfold = StratifiedKFold(n_splits=k,shuffle=True, random_state=42)\n",
        "\n",
        "    accuracyM = np.zeros(k)\n",
        "    bestAccuracy = 0\n",
        "    best_C = None\n",
        "\n",
        "    numModel = 1\n",
        "\n",
        "    for i in CValues:\n",
        "        numFold = 0\n",
        "        # Create model\n",
        "        svm_model = SVM(kernel=linearKernel,C=i,disp=False)\n",
        "        # K fold Cross Validation\n",
        "        for train, test in kfold.split(x_train, y_train):\n",
        "            # Train model\n",
        "            svm_model.fit(x_train[train],y_train[train])\n",
        "\n",
        "            # Evaluate model on validation set\n",
        "            y_pred1 = svm_model.predict(x_train[test])\n",
        "            accuracyM[numFold] = accuracy_score(y_train[test],y_pred1)\n",
        "\n",
        "            numFold += 1\n",
        "\n",
        "        # Mean of accuracy for 5-fold cross-validation of a specific model\n",
        "        acc = np.mean(accuracyM)\n",
        "\n",
        "        print('Model {}:'.format(numModel))\n",
        "        print('C = ', i)\n",
        "        print('Accuracy: {:.4f}'.format(acc))\n",
        "        print('\\n')\n",
        "\n",
        "        numModel += 1\n",
        "\n",
        "        # Choose best model based on its accuracy\n",
        "        if(acc > bestAccuracy):\n",
        "            bestAccuracy = acc\n",
        "            best_C = i\n",
        "\n",
        "    print('Optimal parameters for the model:')\n",
        "    print('C = ', best_C)\n",
        "    print('Accuracy: {:.4f}'.format(bestAccuracy))\n",
        "\n",
        "    return best_C"
      ]
    },
    {
      "cell_type": "code",
      "execution_count": null,
      "metadata": {
        "id": "NP8B_yZv4KdX"
      },
      "outputs": [],
      "source": [
        "# Find best C for the linear SVM\n",
        "k = 5\n",
        "CValues = np.array([0.1, 1, 10, 100, 1000 , 10e3 ])\n",
        "best_C = tuningLinearSVM(k,CValues,XTrainU,yTrainU)"
      ]
    },
    {
      "cell_type": "markdown",
      "metadata": {
        "id": "RQ4ZF9Y2gtyu"
      },
      "source": [
        "### **Grid Search for Gaussian SVM**"
      ]
    },
    {
      "cell_type": "markdown",
      "metadata": {
        "id": "KYeSAd9x-hbC"
      },
      "source": [
        "B.\tGaussian Kernel SVM\n",
        "Οι παράμετροι για grid search είναι το C και το gamma . To grid search για την εύρεση του βέλτιστου μοντέλου γίνεται με 2 παραμέτρους σε αυτήν την περιπτωση με το C = [ 1, 10, 100, 1000, 10e3] και gamma = [0.01, 0.1, 1, 10, 100]."
      ]
    },
    {
      "cell_type": "code",
      "execution_count": null,
      "metadata": {
        "id": "N_sXwTUx5-qF"
      },
      "outputs": [],
      "source": [
        "def tuningGaussianSVM(k,CValues,gammaValues,x_train,y_train):\n",
        "    kfold = StratifiedKFold(n_splits=k,shuffle=True)\n",
        "\n",
        "    accFold = np.zeros(k) # accuracy per fold\n",
        "    bestAccuracy = 0\n",
        "    best_C = None\n",
        "    best_gamma = None\n",
        "\n",
        "    numModel = 1\n",
        "\n",
        "    for i in CValues:\n",
        "        for j in gammaValues:\n",
        "\n",
        "            numFold = 0\n",
        "\n",
        "            # Create model\n",
        "            svm_model = SVM(kernel=gaussianKernel, C=i, gamma=j ,disp=False)\n",
        "\n",
        "            for train, test in kfold.split(x_train, y_train):\n",
        "                # Train model\n",
        "                svm_model.fit(x_train[train],y_train[train])\n",
        "\n",
        "                # Evaluate model on validation set\n",
        "                y_pred = svm_model.predict(x_train[test])\n",
        "                accFold[numFold] = accuracy_score(y_train[test],y_pred)\n",
        "\n",
        "                numFold += 1\n",
        "\n",
        "            # Mean of accuracy for 5-fold cross-validation of a specific model\n",
        "            acc = np.mean(accFold)\n",
        "\n",
        "            print('Model {}:'.format(numModel))\n",
        "            print('C = ', i)\n",
        "            print('gamma = ', j)\n",
        "            print('Accuracy: ', acc)\n",
        "            print('\\n')\n",
        "\n",
        "            numModel += 1\n",
        "\n",
        "            # Choose best model based on its accuracy\n",
        "            if(acc > bestAccuracy):\n",
        "                bestAccuracy = acc\n",
        "                best_C = i\n",
        "                best_gamma = j\n",
        "\n",
        "    print('\\nOptimal parameters for the model:')\n",
        "    print('C = ', best_C)\n",
        "    print('gamma = {:.4f}'.format(best_gamma))\n",
        "    print('Accuracy: {:.4f}'.format(bestAccuracy))\n",
        "\n",
        "    return best_C, best_gamma"
      ]
    },
    {
      "cell_type": "code",
      "execution_count": null,
      "metadata": {
        "id": "tebSKiJ2INz1"
      },
      "outputs": [],
      "source": [
        "# Find best C for the gaussian SVM\n",
        "k = 5\n",
        "CValues = np.array([1, 10, 100, 1000, 10e3])\n",
        "gammaValues = np.array([0.01, 0.1 , 1 , 10 , 100])\n",
        "best_C,best_gamma = tuningGaussianSVM(k,CValues,gammaValues,XTrainU,yTrainU)"
      ]
    },
    {
      "cell_type": "markdown",
      "metadata": {
        "id": "Y2K2zDokg5ZY"
      },
      "source": [
        "### **Grid Search for Polynomial SVM**"
      ]
    },
    {
      "cell_type": "markdown",
      "metadata": {
        "id": "Rqh0YP1w-mrb"
      },
      "source": [
        "C.\tPolynomial Kernel SVM\n",
        "Οι παράμετροι για το grid search είναι το C , o βαθμός του πολυωνύμου degree και η παράμετρος constant. Οι τιμές για τις οποίες γίνεται το grid search είναι : C = [0.1 , 1, 10, 100, 1000], degree = [2, 3, 4] , constant = [ 0 , 0.1, 1, 2]."
      ]
    },
    {
      "cell_type": "code",
      "execution_count": null,
      "metadata": {
        "id": "hNM2mHgX97UY"
      },
      "outputs": [],
      "source": [
        "def tuningPolynomialSVM(k, CValues, degreeValues, constantValues, x_train, y_train, use_cross_validation=True):\n",
        "    if use_cross_validation:\n",
        "        kfold = StratifiedKFold(n_splits=k, shuffle=True)\n",
        "    else:\n",
        "        split_scale = 0.2  # Split into training and test sets with a 70%-30% ratio.\n",
        "        x_train, x_test, y_train, y_test = train_test_split(x_train, y_train, test_size=split_scale, shuffle=True)\n",
        "\n",
        "    accFold = np.zeros(k)\n",
        "    bestAccuracy = 0\n",
        "    best_C = None\n",
        "    best_degree = 0\n",
        "    best_constant = -1\n",
        "\n",
        "    model_no = 1\n",
        "\n",
        "    for C in CValues:\n",
        "        for degree in degreeValues:\n",
        "            for constant in constantValues:\n",
        "                if use_cross_validation:\n",
        "                    numFold = 0\n",
        "                    for train_idx, test_idx in kfold.split(x_train, y_train):\n",
        "                        # Create and train model\n",
        "                        svm_model = SVM(kernel=polynomialKernel, C=C, gamma=None, degree=degree, constant=constant, disp=False)\n",
        "                        svm_model.fit(x_train[train_idx], y_train[train_idx])\n",
        "\n",
        "                        # Evaluate model on validation set\n",
        "                        y_pred = svm_model.predict(x_train[test_idx])\n",
        "                        accFold[numFold] = accuracy_score(y_train[test_idx], y_pred)\n",
        "                        numFold += 1\n",
        "\n",
        "                    # Calculate mean accuracy across folds\n",
        "                    acc = np.mean(accFold)\n",
        "\n",
        "                else:\n",
        "                    # Train and evaluate on the entire dataset (no cross-validation)\n",
        "                    svm_model = SVM(kernel=polynomialKernel, C=C, gamma=None, degree=degree, constant=constant, disp=False)\n",
        "                    svm_model.fit(x_train, y_train)\n",
        "                    y_pred = svm_model.predict(x_test)\n",
        "                    acc = accuracy_score(y_test, y_pred)\n",
        "\n",
        "                print(f'Model {model_no}:')\n",
        "                print(f'C = {C}, degree = {degree}, constant = {constant}, Test Accuracy: {acc}\\n')\n",
        "\n",
        "                model_no += 1\n",
        "\n",
        "                # Update best model parameters if accuracy improves\n",
        "                if acc > bestAccuracy:\n",
        "                    bestAccuracy = acc\n",
        "                    best_C = C\n",
        "                    best_degree = degree\n",
        "                    best_constant = constant\n",
        "\n",
        "    print('\\nOptimal parameters for the model:')\n",
        "    print(f'C = {best_C}, Degree = {best_degree}, Constant = {best_constant}, Accuracy: {bestAccuracy}')\n",
        "\n",
        "    return best_C, best_degree, best_constant"
      ]
    },
    {
      "cell_type": "code",
      "execution_count": null,
      "metadata": {
        "colab": {
          "base_uri": "https://localhost:8080/"
        },
        "id": "gb11W_0K-atY",
        "outputId": "0c48e8d2-fbc7-4e8c-a729-8b29783a1d02"
      },
      "outputs": [
        {
          "output_type": "stream",
          "name": "stdout",
          "text": [
            "Training binary classifier for class 1.0 vs. class 2.0\n",
            "Preparing binary data for class 1.0 and class 2.0\n",
            "Number of samples in class 1.0: 1401\n",
            "Number of samples in class 2.0: 1402\n",
            "Training accuracy for class 1 vs. class 2: 1.0000 \n",
            "\n",
            "Training binary classifier for class 1.0 vs. class 3.0\n",
            "Preparing binary data for class 1.0 and class 3.0\n",
            "Number of samples in class 1.0: 1401\n",
            "Number of samples in class 3.0: 1402\n",
            "Training accuracy for class 1 vs. class 3: 1.0000 \n",
            "\n",
            "Training binary classifier for class 1.0 vs. class 4.0\n",
            "Preparing binary data for class 1.0 and class 4.0\n",
            "Number of samples in class 1.0: 1401\n",
            "Number of samples in class 4.0: 1401\n",
            "Training accuracy for class 1 vs. class 4: 1.0000 \n",
            "\n",
            "Training binary classifier for class 1.0 vs. class 5.0\n",
            "Preparing binary data for class 1.0 and class 5.0\n",
            "Number of samples in class 1.0: 1401\n",
            "Number of samples in class 5.0: 1388\n",
            "Training accuracy for class 1 vs. class 5: 1.0000 \n",
            "\n",
            "Training binary classifier for class 2.0 vs. class 3.0\n",
            "Preparing binary data for class 2.0 and class 3.0\n",
            "Number of samples in class 2.0: 1402\n",
            "Number of samples in class 3.0: 1402\n",
            "Training accuracy for class 2 vs. class 3: 1.0000 \n",
            "\n",
            "Training binary classifier for class 2.0 vs. class 4.0\n",
            "Preparing binary data for class 2.0 and class 4.0\n",
            "Number of samples in class 2.0: 1402\n",
            "Number of samples in class 4.0: 1401\n",
            "Training accuracy for class 2 vs. class 4: 1.0000 \n",
            "\n",
            "Training binary classifier for class 2.0 vs. class 5.0\n",
            "Preparing binary data for class 2.0 and class 5.0\n",
            "Number of samples in class 2.0: 1402\n",
            "Number of samples in class 5.0: 1388\n",
            "Training accuracy for class 2 vs. class 5: 1.0000 \n",
            "\n",
            "Training binary classifier for class 3.0 vs. class 4.0\n",
            "Preparing binary data for class 3.0 and class 4.0\n",
            "Number of samples in class 3.0: 1402\n",
            "Number of samples in class 4.0: 1401\n",
            "Training accuracy for class 3 vs. class 4: 1.0000 \n",
            "\n",
            "Training binary classifier for class 3.0 vs. class 5.0\n",
            "Preparing binary data for class 3.0 and class 5.0\n",
            "Number of samples in class 3.0: 1402\n",
            "Number of samples in class 5.0: 1388\n",
            "Training accuracy for class 3 vs. class 5: 1.0000 \n",
            "\n",
            "Training binary classifier for class 4.0 vs. class 5.0\n",
            "Preparing binary data for class 4.0 and class 5.0\n",
            "Number of samples in class 4.0: 1401\n",
            "Number of samples in class 5.0: 1388\n",
            "Training accuracy for class 4 vs. class 5: 1.0000 \n",
            "\n",
            "Model 1:\n",
            "C = 1, degree = 2, constant = 0, Test Accuracy: 0.8507718696397941\n",
            "\n",
            "Training binary classifier for class 1.0 vs. class 2.0\n",
            "Preparing binary data for class 1.0 and class 2.0\n",
            "Number of samples in class 1.0: 1401\n",
            "Number of samples in class 2.0: 1402\n",
            "Training accuracy for class 1 vs. class 2: 1.0000 \n",
            "\n",
            "Training binary classifier for class 1.0 vs. class 3.0\n",
            "Preparing binary data for class 1.0 and class 3.0\n",
            "Number of samples in class 1.0: 1401\n",
            "Number of samples in class 3.0: 1402\n",
            "Training accuracy for class 1 vs. class 3: 1.0000 \n",
            "\n",
            "Training binary classifier for class 1.0 vs. class 4.0\n",
            "Preparing binary data for class 1.0 and class 4.0\n",
            "Number of samples in class 1.0: 1401\n",
            "Number of samples in class 4.0: 1401\n",
            "Training accuracy for class 1 vs. class 4: 1.0000 \n",
            "\n",
            "Training binary classifier for class 1.0 vs. class 5.0\n",
            "Preparing binary data for class 1.0 and class 5.0\n",
            "Number of samples in class 1.0: 1401\n",
            "Number of samples in class 5.0: 1388\n",
            "Training accuracy for class 1 vs. class 5: 1.0000 \n",
            "\n",
            "Training binary classifier for class 2.0 vs. class 3.0\n",
            "Preparing binary data for class 2.0 and class 3.0\n",
            "Number of samples in class 2.0: 1402\n",
            "Number of samples in class 3.0: 1402\n",
            "Training accuracy for class 2 vs. class 3: 1.0000 \n",
            "\n",
            "Training binary classifier for class 2.0 vs. class 4.0\n",
            "Preparing binary data for class 2.0 and class 4.0\n",
            "Number of samples in class 2.0: 1402\n",
            "Number of samples in class 4.0: 1401\n",
            "Training accuracy for class 2 vs. class 4: 1.0000 \n",
            "\n",
            "Training binary classifier for class 2.0 vs. class 5.0\n",
            "Preparing binary data for class 2.0 and class 5.0\n",
            "Number of samples in class 2.0: 1402\n",
            "Number of samples in class 5.0: 1388\n",
            "Training accuracy for class 2 vs. class 5: 1.0000 \n",
            "\n",
            "Training binary classifier for class 3.0 vs. class 4.0\n",
            "Preparing binary data for class 3.0 and class 4.0\n",
            "Number of samples in class 3.0: 1402\n",
            "Number of samples in class 4.0: 1401\n",
            "Training accuracy for class 3 vs. class 4: 1.0000 \n",
            "\n",
            "Training binary classifier for class 3.0 vs. class 5.0\n",
            "Preparing binary data for class 3.0 and class 5.0\n",
            "Number of samples in class 3.0: 1402\n",
            "Number of samples in class 5.0: 1388\n",
            "Training accuracy for class 3 vs. class 5: 1.0000 \n",
            "\n",
            "Training binary classifier for class 4.0 vs. class 5.0\n",
            "Preparing binary data for class 4.0 and class 5.0\n",
            "Number of samples in class 4.0: 1401\n",
            "Number of samples in class 5.0: 1388\n",
            "Training accuracy for class 4 vs. class 5: 1.0000 \n",
            "\n",
            "Model 2:\n",
            "C = 1, degree = 2, constant = 10, Test Accuracy: 0.8461978273299028\n",
            "\n",
            "Training binary classifier for class 1.0 vs. class 2.0\n",
            "Preparing binary data for class 1.0 and class 2.0\n",
            "Number of samples in class 1.0: 1401\n",
            "Number of samples in class 2.0: 1402\n",
            "Training accuracy for class 1 vs. class 2: 1.0000 \n",
            "\n",
            "Training binary classifier for class 1.0 vs. class 3.0\n",
            "Preparing binary data for class 1.0 and class 3.0\n",
            "Number of samples in class 1.0: 1401\n",
            "Number of samples in class 3.0: 1402\n",
            "Training accuracy for class 1 vs. class 3: 1.0000 \n",
            "\n",
            "Training binary classifier for class 1.0 vs. class 4.0\n",
            "Preparing binary data for class 1.0 and class 4.0\n",
            "Number of samples in class 1.0: 1401\n",
            "Number of samples in class 4.0: 1401\n",
            "Training accuracy for class 1 vs. class 4: 1.0000 \n",
            "\n",
            "Training binary classifier for class 1.0 vs. class 5.0\n",
            "Preparing binary data for class 1.0 and class 5.0\n",
            "Number of samples in class 1.0: 1401\n",
            "Number of samples in class 5.0: 1388\n",
            "Training accuracy for class 1 vs. class 5: 1.0000 \n",
            "\n",
            "Training binary classifier for class 2.0 vs. class 3.0\n",
            "Preparing binary data for class 2.0 and class 3.0\n",
            "Number of samples in class 2.0: 1402\n",
            "Number of samples in class 3.0: 1402\n",
            "Training accuracy for class 2 vs. class 3: 1.0000 \n",
            "\n",
            "Training binary classifier for class 2.0 vs. class 4.0\n",
            "Preparing binary data for class 2.0 and class 4.0\n",
            "Number of samples in class 2.0: 1402\n",
            "Number of samples in class 4.0: 1401\n",
            "Training accuracy for class 2 vs. class 4: 1.0000 \n",
            "\n",
            "Training binary classifier for class 2.0 vs. class 5.0\n",
            "Preparing binary data for class 2.0 and class 5.0\n",
            "Number of samples in class 2.0: 1402\n",
            "Number of samples in class 5.0: 1388\n",
            "Training accuracy for class 2 vs. class 5: 1.0000 \n",
            "\n",
            "Training binary classifier for class 3.0 vs. class 4.0\n",
            "Preparing binary data for class 3.0 and class 4.0\n",
            "Number of samples in class 3.0: 1402\n",
            "Number of samples in class 4.0: 1401\n",
            "Training accuracy for class 3 vs. class 4: 1.0000 \n",
            "\n",
            "Training binary classifier for class 3.0 vs. class 5.0\n",
            "Preparing binary data for class 3.0 and class 5.0\n",
            "Number of samples in class 3.0: 1402\n",
            "Number of samples in class 5.0: 1388\n",
            "Training accuracy for class 3 vs. class 5: 1.0000 \n",
            "\n",
            "Training binary classifier for class 4.0 vs. class 5.0\n",
            "Preparing binary data for class 4.0 and class 5.0\n",
            "Number of samples in class 4.0: 1401\n",
            "Number of samples in class 5.0: 1388\n",
            "Training accuracy for class 4 vs. class 5: 1.0000 \n",
            "\n",
            "Model 3:\n",
            "C = 10, degree = 2, constant = 0, Test Accuracy: 0.8507718696397941\n",
            "\n",
            "Training binary classifier for class 1.0 vs. class 2.0\n",
            "Preparing binary data for class 1.0 and class 2.0\n",
            "Number of samples in class 1.0: 1401\n",
            "Number of samples in class 2.0: 1402\n",
            "Training accuracy for class 1 vs. class 2: 1.0000 \n",
            "\n",
            "Training binary classifier for class 1.0 vs. class 3.0\n",
            "Preparing binary data for class 1.0 and class 3.0\n",
            "Number of samples in class 1.0: 1401\n",
            "Number of samples in class 3.0: 1402\n",
            "Training accuracy for class 1 vs. class 3: 1.0000 \n",
            "\n",
            "Training binary classifier for class 1.0 vs. class 4.0\n",
            "Preparing binary data for class 1.0 and class 4.0\n",
            "Number of samples in class 1.0: 1401\n",
            "Number of samples in class 4.0: 1401\n",
            "Training accuracy for class 1 vs. class 4: 1.0000 \n",
            "\n",
            "Training binary classifier for class 1.0 vs. class 5.0\n",
            "Preparing binary data for class 1.0 and class 5.0\n",
            "Number of samples in class 1.0: 1401\n",
            "Number of samples in class 5.0: 1388\n",
            "Training accuracy for class 1 vs. class 5: 1.0000 \n",
            "\n",
            "Training binary classifier for class 2.0 vs. class 3.0\n",
            "Preparing binary data for class 2.0 and class 3.0\n",
            "Number of samples in class 2.0: 1402\n",
            "Number of samples in class 3.0: 1402\n",
            "Training accuracy for class 2 vs. class 3: 1.0000 \n",
            "\n",
            "Training binary classifier for class 2.0 vs. class 4.0\n",
            "Preparing binary data for class 2.0 and class 4.0\n",
            "Number of samples in class 2.0: 1402\n",
            "Number of samples in class 4.0: 1401\n",
            "Training accuracy for class 2 vs. class 4: 1.0000 \n",
            "\n",
            "Training binary classifier for class 2.0 vs. class 5.0\n",
            "Preparing binary data for class 2.0 and class 5.0\n",
            "Number of samples in class 2.0: 1402\n",
            "Number of samples in class 5.0: 1388\n",
            "Training accuracy for class 2 vs. class 5: 1.0000 \n",
            "\n",
            "Training binary classifier for class 3.0 vs. class 4.0\n",
            "Preparing binary data for class 3.0 and class 4.0\n",
            "Number of samples in class 3.0: 1402\n",
            "Number of samples in class 4.0: 1401\n",
            "Training accuracy for class 3 vs. class 4: 1.0000 \n",
            "\n",
            "Training binary classifier for class 3.0 vs. class 5.0\n",
            "Preparing binary data for class 3.0 and class 5.0\n",
            "Number of samples in class 3.0: 1402\n",
            "Number of samples in class 5.0: 1388\n",
            "Training accuracy for class 3 vs. class 5: 1.0000 \n",
            "\n",
            "Training binary classifier for class 4.0 vs. class 5.0\n",
            "Preparing binary data for class 4.0 and class 5.0\n",
            "Number of samples in class 4.0: 1401\n",
            "Number of samples in class 5.0: 1388\n",
            "Training accuracy for class 4 vs. class 5: 1.0000 \n",
            "\n",
            "Model 4:\n",
            "C = 10, degree = 2, constant = 10, Test Accuracy: 0.8461978273299028\n",
            "\n",
            "Training binary classifier for class 1.0 vs. class 2.0\n",
            "Preparing binary data for class 1.0 and class 2.0\n",
            "Number of samples in class 1.0: 1401\n",
            "Number of samples in class 2.0: 1402\n",
            "Training accuracy for class 1 vs. class 2: 1.0000 \n",
            "\n",
            "Training binary classifier for class 1.0 vs. class 3.0\n",
            "Preparing binary data for class 1.0 and class 3.0\n",
            "Number of samples in class 1.0: 1401\n",
            "Number of samples in class 3.0: 1402\n",
            "Training accuracy for class 1 vs. class 3: 1.0000 \n",
            "\n",
            "Training binary classifier for class 1.0 vs. class 4.0\n",
            "Preparing binary data for class 1.0 and class 4.0\n",
            "Number of samples in class 1.0: 1401\n",
            "Number of samples in class 4.0: 1401\n",
            "Training accuracy for class 1 vs. class 4: 1.0000 \n",
            "\n",
            "Training binary classifier for class 1.0 vs. class 5.0\n",
            "Preparing binary data for class 1.0 and class 5.0\n",
            "Number of samples in class 1.0: 1401\n",
            "Number of samples in class 5.0: 1388\n",
            "Training accuracy for class 1 vs. class 5: 1.0000 \n",
            "\n",
            "Training binary classifier for class 2.0 vs. class 3.0\n",
            "Preparing binary data for class 2.0 and class 3.0\n",
            "Number of samples in class 2.0: 1402\n",
            "Number of samples in class 3.0: 1402\n",
            "Training accuracy for class 2 vs. class 3: 1.0000 \n",
            "\n",
            "Training binary classifier for class 2.0 vs. class 4.0\n",
            "Preparing binary data for class 2.0 and class 4.0\n",
            "Number of samples in class 2.0: 1402\n",
            "Number of samples in class 4.0: 1401\n",
            "Training accuracy for class 2 vs. class 4: 1.0000 \n",
            "\n",
            "Training binary classifier for class 2.0 vs. class 5.0\n",
            "Preparing binary data for class 2.0 and class 5.0\n",
            "Number of samples in class 2.0: 1402\n",
            "Number of samples in class 5.0: 1388\n",
            "Training accuracy for class 2 vs. class 5: 1.0000 \n",
            "\n",
            "Training binary classifier for class 3.0 vs. class 4.0\n",
            "Preparing binary data for class 3.0 and class 4.0\n",
            "Number of samples in class 3.0: 1402\n",
            "Number of samples in class 4.0: 1401\n",
            "Training accuracy for class 3 vs. class 4: 1.0000 \n",
            "\n",
            "Training binary classifier for class 3.0 vs. class 5.0\n",
            "Preparing binary data for class 3.0 and class 5.0\n",
            "Number of samples in class 3.0: 1402\n",
            "Number of samples in class 5.0: 1388\n",
            "Training accuracy for class 3 vs. class 5: 1.0000 \n",
            "\n",
            "Training binary classifier for class 4.0 vs. class 5.0\n",
            "Preparing binary data for class 4.0 and class 5.0\n",
            "Number of samples in class 4.0: 1401\n",
            "Number of samples in class 5.0: 1388\n",
            "Training accuracy for class 4 vs. class 5: 1.0000 \n",
            "\n",
            "Model 5:\n",
            "C = 100, degree = 2, constant = 0, Test Accuracy: 0.8507718696397941\n",
            "\n",
            "Training binary classifier for class 1.0 vs. class 2.0\n",
            "Preparing binary data for class 1.0 and class 2.0\n",
            "Number of samples in class 1.0: 1401\n",
            "Number of samples in class 2.0: 1402\n",
            "Training accuracy for class 1 vs. class 2: 1.0000 \n",
            "\n",
            "Training binary classifier for class 1.0 vs. class 3.0\n",
            "Preparing binary data for class 1.0 and class 3.0\n",
            "Number of samples in class 1.0: 1401\n",
            "Number of samples in class 3.0: 1402\n",
            "Training accuracy for class 1 vs. class 3: 1.0000 \n",
            "\n",
            "Training binary classifier for class 1.0 vs. class 4.0\n",
            "Preparing binary data for class 1.0 and class 4.0\n",
            "Number of samples in class 1.0: 1401\n",
            "Number of samples in class 4.0: 1401\n",
            "Training accuracy for class 1 vs. class 4: 1.0000 \n",
            "\n",
            "Training binary classifier for class 1.0 vs. class 5.0\n",
            "Preparing binary data for class 1.0 and class 5.0\n",
            "Number of samples in class 1.0: 1401\n",
            "Number of samples in class 5.0: 1388\n",
            "Training accuracy for class 1 vs. class 5: 1.0000 \n",
            "\n",
            "Training binary classifier for class 2.0 vs. class 3.0\n",
            "Preparing binary data for class 2.0 and class 3.0\n",
            "Number of samples in class 2.0: 1402\n",
            "Number of samples in class 3.0: 1402\n",
            "Training accuracy for class 2 vs. class 3: 1.0000 \n",
            "\n",
            "Training binary classifier for class 2.0 vs. class 4.0\n",
            "Preparing binary data for class 2.0 and class 4.0\n",
            "Number of samples in class 2.0: 1402\n",
            "Number of samples in class 4.0: 1401\n",
            "Training accuracy for class 2 vs. class 4: 1.0000 \n",
            "\n",
            "Training binary classifier for class 2.0 vs. class 5.0\n",
            "Preparing binary data for class 2.0 and class 5.0\n",
            "Number of samples in class 2.0: 1402\n",
            "Number of samples in class 5.0: 1388\n",
            "Training accuracy for class 2 vs. class 5: 1.0000 \n",
            "\n",
            "Training binary classifier for class 3.0 vs. class 4.0\n",
            "Preparing binary data for class 3.0 and class 4.0\n",
            "Number of samples in class 3.0: 1402\n",
            "Number of samples in class 4.0: 1401\n",
            "Training accuracy for class 3 vs. class 4: 1.0000 \n",
            "\n",
            "Training binary classifier for class 3.0 vs. class 5.0\n",
            "Preparing binary data for class 3.0 and class 5.0\n",
            "Number of samples in class 3.0: 1402\n",
            "Number of samples in class 5.0: 1388\n",
            "Training accuracy for class 3 vs. class 5: 1.0000 \n",
            "\n",
            "Training binary classifier for class 4.0 vs. class 5.0\n",
            "Preparing binary data for class 4.0 and class 5.0\n",
            "Number of samples in class 4.0: 1401\n",
            "Number of samples in class 5.0: 1388\n",
            "Training accuracy for class 4 vs. class 5: 1.0000 \n",
            "\n",
            "Model 6:\n",
            "C = 100, degree = 2, constant = 10, Test Accuracy: 0.8461978273299028\n",
            "\n",
            "\n",
            "Optimal parameters for the model:\n",
            "C = 1, Degree = 2, Constant = 0, Accuracy: 0.8507718696397941\n"
          ]
        }
      ],
      "source": [
        "# Find best C and gamma for the gaussian-kernel SVM\n",
        "k = 5\n",
        "CValues = np.array([1, 10, 100])\n",
        "degreeValues = np.array([2])\n",
        "constantValues = np.array([0, 10])\n",
        "best_C, best_degree,best_constant = tuningPolynomialSVM(k,CValues,degreeValues,constantValues,XTrainU,yTrainU,use_cross_validation=False)"
      ]
    },
    {
      "cell_type": "markdown",
      "source": [
        "# **Προβλέψεις για το test set**"
      ],
      "metadata": {
        "id": "FsoPO2xCbJ2Y"
      }
    },
    {
      "cell_type": "code",
      "execution_count": null,
      "metadata": {
        "id": "th2zgPBx5Qe7"
      },
      "outputs": [],
      "source": [
        "datasetTest = pd.read_csv('datasetTest.csv', delimiter=',', skip_blank_lines=True, header=None)\n",
        "datasetTest = datasetTest.dropna()\n",
        "XTestSet = datasetTest.to_numpy()\n"
      ]
    },
    {
      "cell_type": "code",
      "execution_count": null,
      "metadata": {
        "id": "P_GOQztlvEt7",
        "colab": {
          "base_uri": "https://localhost:8080/"
        },
        "outputId": "45200562-3030-492f-a917-f48a6263a121"
      },
      "outputs": [
        {
          "output_type": "stream",
          "name": "stdout",
          "text": [
            "\u001b[1m218/218\u001b[0m \u001b[32m━━━━━━━━━━━━━━━━━━━━\u001b[0m\u001b[37m\u001b[0m \u001b[1m2s\u001b[0m 7ms/step\n"
          ]
        }
      ],
      "source": [
        "LabelsPrediction = mlpModel.predict(XTestSet) # Predict labels for the test data\n",
        "yPredLabels = np.argmax(LabelsPrediction, axis=1) #get predicted class\n",
        "yPredLabels = yPredLabels + 1\n",
        "yPredLabels = yPredLabels.astype(int)\n",
        "np.save('./labels8_MLP.npy', yPredLabels) # Save the labels for the test data"
      ]
    },
    {
      "cell_type": "code",
      "source": [
        "print(yPredLabels)"
      ],
      "metadata": {
        "colab": {
          "base_uri": "https://localhost:8080/"
        },
        "id": "o5ocl7sllMzo",
        "outputId": "422e54f6-ad96-4fdf-8601-28343dc09ab5"
      },
      "execution_count": null,
      "outputs": [
        {
          "output_type": "stream",
          "name": "stdout",
          "text": [
            "[3 4 2 ... 3 3 1]\n"
          ]
        }
      ]
    },
    {
      "cell_type": "code",
      "source": [
        "LabelsPredictionSVM = svm.predict(XTestSet) # Predict labels for the test data\n",
        "yPredLabelsSVM = LabelsPredictionSVM.astype(int)\n",
        "np.save('./labels8_SVM.npy', yPredLabelsSVM) # Save the labels for the test data"
      ],
      "metadata": {
        "id": "2shYYdKwcQ8-"
      },
      "execution_count": null,
      "outputs": []
    },
    {
      "cell_type": "code",
      "source": [
        "print(yPredLabelsSVM)"
      ],
      "metadata": {
        "colab": {
          "base_uri": "https://localhost:8080/"
        },
        "id": "rpDfLz4FlB-p",
        "outputId": "f65ba1b7-a734-44af-b1af-2be75450f899"
      },
      "execution_count": null,
      "outputs": [
        {
          "output_type": "stream",
          "name": "stdout",
          "text": [
            "[1 4 2 ... 3 5 1]\n"
          ]
        }
      ]
    }
  ],
  "metadata": {
    "colab": {
      "collapsed_sections": [
        "W3WN8r6qMUAG",
        "-eviTta26N-l",
        "NoHSngEY1bh8",
        "YXujACFSDCbI",
        "cLYulDigoyNF",
        "WbPxBIRBpN6E",
        "Rxcz08n-42hX",
        "RT7Ze1Q74_BS",
        "_Kg0-E3no2wY",
        "yKybLHrDdO6A"
      ],
      "provenance": []
    },
    "kernelspec": {
      "display_name": "Python 3",
      "name": "python3"
    },
    "language_info": {
      "name": "python"
    }
  },
  "nbformat": 4,
  "nbformat_minor": 0
}
